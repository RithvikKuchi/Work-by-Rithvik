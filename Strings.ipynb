{
  "nbformat": 4,
  "nbformat_minor": 0,
  "metadata": {
    "colab": {
      "provenance": [],
      "include_colab_link": true
    },
    "kernelspec": {
      "name": "python3",
      "display_name": "Python 3"
    },
    "language_info": {
      "name": "python"
    }
  },
  "cells": [
    {
      "cell_type": "markdown",
      "metadata": {
        "id": "view-in-github",
        "colab_type": "text"
      },
      "source": [
        "<a href=\"https://colab.research.google.com/github/RithvikKuchi/Work-by-Rithvik/blob/main/Strings.ipynb\" target=\"_parent\"><img src=\"https://colab.research.google.com/assets/colab-badge.svg\" alt=\"Open In Colab\"/></a>"
      ]
    },
    {
      "cell_type": "markdown",
      "source": [
        "**Strings**\n",
        "\n",
        "\n",
        "1. Sequences - Collections of characters (Character Set)\n",
        "2. \" \" or ' '\n",
        "3. Blank Space and Tab Space (Vaild)\n",
        "4. Representation of Strings is as Similar to the List.\n",
        "5. Indexing, Ordered Type.\n",
        "6. Immutable  - String contents are unmodified.\n",
        "7. String can be sliced. : String Slicing.\n",
        "8. String Traversing is allowed using Indexing and also for each.\n",
        "\n",
        "\n"
      ],
      "metadata": {
        "id": "ohfT1P3VdFGc"
      }
    },
    {
      "cell_type": "code",
      "source": [
        "# Creating a string at compile time and print the same.\n",
        "s=\"Welcome to Python Programming\"\n",
        "print(s)"
      ],
      "metadata": {
        "colab": {
          "base_uri": "https://localhost:8080/"
        },
        "id": "yHTvLhwKeaRI",
        "outputId": "90e2dbbb-73ea-40bf-fc23-520b1e3eb614"
      },
      "execution_count": null,
      "outputs": [
        {
          "output_type": "stream",
          "name": "stdout",
          "text": [
            "Welcome to Python Programming\n"
          ]
        }
      ]
    },
    {
      "cell_type": "code",
      "source": [
        "# Create a Multiline string and display the same: Compile Time\n",
        "ms='''Hi Welcome\n",
        "      to\n",
        "      python\n",
        "      Programming'''\n",
        "print(ms)"
      ],
      "metadata": {
        "colab": {
          "base_uri": "https://localhost:8080/"
        },
        "id": "hWnnHPBCexM6",
        "outputId": "69c89090-d593-44c1-a25c-a8c6d219f386"
      },
      "execution_count": null,
      "outputs": [
        {
          "output_type": "stream",
          "name": "stdout",
          "text": [
            "Hi Welcome\n",
            "      to \n",
            "      python\n",
            "      Programming\n"
          ]
        }
      ]
    },
    {
      "cell_type": "code",
      "source": [
        "#Create the string at run time and display same\n",
        "st=input(\"Enter a String:\")\n",
        "print(st)"
      ],
      "metadata": {
        "colab": {
          "base_uri": "https://localhost:8080/"
        },
        "id": "XhKUY9HbfIno",
        "outputId": "e1ac3eaf-c864-4396-81aa-60c6a3171835"
      },
      "execution_count": null,
      "outputs": [
        {
          "output_type": "stream",
          "name": "stdout",
          "text": [
            "Enter a String:hi hello\n",
            "hi hello\n"
          ]
        }
      ]
    },
    {
      "cell_type": "code",
      "source": [
        "#Create the string at run time and display the string in character wise.\n",
        "st1=input(\"Enter a String:\")\n",
        "#Using indexing\n",
        "for i in range(0,len(st1)):\n",
        "  print(st1[i])\n",
        "#Using for each\n",
        "print(\"__________________________\")\n",
        "for ch in st1:\n",
        "  print(ch)"
      ],
      "metadata": {
        "colab": {
          "base_uri": "https://localhost:8080/"
        },
        "id": "lUWAyP7KfbVP",
        "outputId": "6bf45730-c3e5-4240-efe4-bd6c78ef1b3d"
      },
      "execution_count": null,
      "outputs": [
        {
          "output_type": "stream",
          "name": "stdout",
          "text": [
            "Enter a String:Python Programming\n",
            "P\n",
            "y\n",
            "t\n",
            "h\n",
            "o\n",
            "n\n",
            " \n",
            "P\n",
            "r\n",
            "o\n",
            "g\n",
            "r\n",
            "a\n",
            "m\n",
            "m\n",
            "i\n",
            "n\n",
            "g\n",
            "__________________________\n",
            "P\n",
            "y\n",
            "t\n",
            "h\n",
            "o\n",
            "n\n",
            " \n",
            "P\n",
            "r\n",
            "o\n",
            "g\n",
            "r\n",
            "a\n",
            "m\n",
            "m\n",
            "i\n",
            "n\n",
            "g\n"
          ]
        }
      ]
    },
    {
      "cell_type": "code",
      "source": [
        "# Read a string and count number of vowels and cons in the string.\n",
        "s1=input(\"Enter the string\")\n",
        "vcount=0\n",
        "for ch in s1:\n",
        "  if(ch in 'aeiouAEIOU'): # if(ch=='a' or ch=='e' or.......)\n",
        "    vcount+=1\n",
        "print(\"The number of vowels is\",vcount,\"and consonent is\",len(s1)-vcount)"
      ],
      "metadata": {
        "colab": {
          "base_uri": "https://localhost:8080/"
        },
        "id": "KFCRswqNf-6Z",
        "outputId": "882d61dc-80bc-493a-e7a4-52d72b662caf"
      },
      "execution_count": null,
      "outputs": [
        {
          "output_type": "stream",
          "name": "stdout",
          "text": [
            "Enter the stringProgramming\n",
            "The number of vowels is 3 and consonent is 8\n"
          ]
        }
      ]
    }
  ]
}