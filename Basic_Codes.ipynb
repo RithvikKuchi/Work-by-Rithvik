{
  "cells": [
    {
      "cell_type": "markdown",
      "metadata": {
        "id": "view-in-github",
        "colab_type": "text"
      },
      "source": [
        "<a href=\"https://colab.research.google.com/github/RithvikKuchi/Work-by-Rithvik/blob/main/Basic_Codes.ipynb\" target=\"_parent\"><img src=\"https://colab.research.google.com/assets/colab-badge.svg\" alt=\"Open In Colab\"/></a>"
      ]
    },
    {
      "cell_type": "markdown",
      "source": [
        "# BASIC PYTHON CODES TOTAL 100 CODES"
      ],
      "metadata": {
        "id": "vhY3wKdzVyJs"
      }
    },
    {
      "cell_type": "code",
      "execution_count": null,
      "metadata": {
        "colab": {
          "base_uri": "https://localhost:8080/"
        },
        "id": "iSIxN1lS5vSP",
        "outputId": "24ede60c-5499-4d5b-900b-20f4a8d08be5"
      },
      "outputs": [
        {
          "output_type": "stream",
          "name": "stdout",
          "text": [
            "hello world\n"
          ]
        }
      ],
      "source": [
        " #1\n",
        "print(\"hello world\")"
      ]
    },
    {
      "cell_type": "code",
      "execution_count": null,
      "metadata": {
        "colab": {
          "base_uri": "https://localhost:8080/"
        },
        "id": "jAxS4Bp-6zDA",
        "outputId": "2d8bcc52-be46-440b-b43d-0fd58cdc4190"
      },
      "outputs": [
        {
          "output_type": "stream",
          "name": "stdout",
          "text": [
            "enter the value of x5\n",
            "enter the value of y4\n",
            "enter the operator '+','-','*','/','%','//','**'+\n",
            "the sum of x and y is x+y 9\n"
          ]
        }
      ],
      "source": [
        "#2\n",
        "x=int(input(\"enter the value of x\"))\n",
        "y=int(input(\"enter the value of y\"))\n",
        "operator=input(\"enter the operator '+','-','*','/','%','//','**'\")\n",
        "if(operator ==\"+\"):\n",
        "  print(\"the sum of x and y is x+y\",x+y)\n",
        "elif(operator ==\"-\"):\n",
        "  print(\"the difference of x and y is x-y\",x-y)\n",
        "elif(operator ==\"*\"):\n",
        "  print(\"the multiplication of x and y is x*y\",x*y)\n",
        "elif(operator ==\"/\"):\n",
        "  print(\"the division of x and y is x/y\",x/y)\n",
        "elif(operator ==\"%\"):\n",
        "  print(\"the modulo of x and y is\",x%y)\n",
        "elif(operator==\"//\"):\n",
        "  print(\"the floor division operator of x and y is\",x//y)\n",
        "elif(operator==\"**\"):\n",
        "  print(\"the exponential operator of x and y is\",x**y)\n",
        "\n",
        "\n",
        "\n",
        "\n",
        "\n",
        "\n"
      ]
    },
    {
      "cell_type": "code",
      "execution_count": null,
      "metadata": {
        "colab": {
          "base_uri": "https://localhost:8080/"
        },
        "id": "mqmn4xWH7h5U",
        "outputId": "6fb35d36-f77f-4833-d31a-9181404aab17"
      },
      "outputs": [
        {
          "output_type": "stream",
          "name": "stdout",
          "text": [
            "enter the first string: 4.0\n",
            "enter the second string: 5.0\n",
            "x<y is True\n",
            "x>y is False\n",
            "x<=y is True\n",
            "x==y is False\n",
            "x>=y is False\n",
            "x!=y is True\n"
          ]
        }
      ],
      "source": [
        "#3\n",
        "x=input(\"enter the first string: \")\n",
        "y=input(\"enter the second string: \")\n",
        "print(\"x<y is\",x<y)\n",
        "print(\"x>y is\",x>y)\n",
        "print(\"x<=y is\",x<=y)\n",
        "print(\"x==y is\",x==y)\n",
        "print(\"x>=y is\",x>=y)\n",
        "print(\"x!=y is\",x!=y)\n"
      ]
    },
    {
      "cell_type": "code",
      "execution_count": null,
      "metadata": {
        "colab": {
          "base_uri": "https://localhost:8080/"
        },
        "id": "twGrEb2J78zB",
        "outputId": "e56cc8a4-535b-4e94-db30-49428a6a9d42"
      },
      "outputs": [
        {
          "output_type": "stream",
          "name": "stdout",
          "text": [
            "the result of x and y is False\n",
            "the result of x or y is True\n",
            " the result is not x is False\n"
          ]
        }
      ],
      "source": [
        "#4\n",
        "x=True\n",
        "y=False\n",
        "result= x and y\n",
        "print(\"the result of x and y is\",x and y)\n",
        "\n",
        "x=True\n",
        "y=False\n",
        "print(\"the result of x or y is\",x or y)\n",
        "\n",
        "x=True\n",
        "result=not True\n",
        "print(\" the result is not x is\",result)\n",
        "\n"
      ]
    },
    {
      "cell_type": "code",
      "execution_count": null,
      "metadata": {
        "colab": {
          "base_uri": "https://localhost:8080/"
        },
        "id": "ZB4eG-exqqG8",
        "outputId": "9a029504-947e-4409-93a6-c9aa3255faa7"
      },
      "outputs": [
        {
          "output_type": "stream",
          "name": "stdout",
          "text": [
            "the addition of x is x+= 8\n",
            "the difference of y is y-= 1\n",
            "the product of z is *= is 21\n",
            "the division of num1 is /= is 1.5\n",
            "the modulo of num2 is %= is 0\n"
          ]
        }
      ],
      "source": [
        "#5\n",
        "x=4\n",
        "x+=4\n",
        "print(\"the addition of x is x+=\",x)\n",
        "y=5\n",
        "y-=4\n",
        "print(\"the difference of y is y-=\",y)\n",
        "z=3\n",
        "z*=7\n",
        "print(\"the product of z is *= is\",z)\n",
        "num1=9\n",
        "num1/=6\n",
        "print(\"the division of num1 is /= is\",num1)\n",
        "num2=9\n",
        "num2%=3\n",
        "print(\"the modulo of num2 is %= is\",num2)"
      ]
    },
    {
      "cell_type": "code",
      "execution_count": null,
      "metadata": {
        "colab": {
          "base_uri": "https://localhost:8080/"
        },
        "id": "z-AD3PejyEMw",
        "outputId": "ee5d78e6-8e49-4289-e463-95c06eddd2e4"
      },
      "outputs": [
        {
          "output_type": "stream",
          "name": "stdout",
          "text": [
            "enter the value of x4\n",
            "enter the value of y5\n",
            "x&:y is 4\n",
            "x|:y is 5\n",
            "x^:y is 1\n",
            "x<<:y is 128\n",
            "x>>:y is 0\n"
          ]
        }
      ],
      "source": [
        "#6\n",
        "x=eval(input(\"enter the value of x\"))\n",
        "y=eval(input(\"enter the value of y\"))\n",
        "print(\"x&:y is\",x&y)\n",
        "print(\"x|:y is\",x|y)\n",
        "print(\"x^:y is\",x^y)\n",
        "print(\"x<<:y is\",x<<y)\n",
        "print(\"x>>:y is\",x>>y)"
      ]
    },
    {
      "cell_type": "code",
      "execution_count": null,
      "metadata": {
        "colab": {
          "base_uri": "https://localhost:8080/"
        },
        "id": "WsPm9bZdweSj",
        "outputId": "c7645b3c-bb9a-40dc-cf39-e997f2760311"
      },
      "outputs": [
        {
          "output_type": "stream",
          "name": "stdout",
          "text": [
            "enter the value of p4\n",
            "enter the value of t4\n",
            "enter the value of r4\n",
            "simple_interset 0.64\n",
            "enter the value of A4\n",
            "enter the value of n4\n",
            "compound_interest 256.0\n"
          ]
        }
      ],
      "source": [
        "#7\n",
        "P=eval(input(\"enter the value of p\"))\n",
        "t=eval(input(\"enter the value of t\"))\n",
        "r=eval(input(\"enter the value of r\"))\n",
        "simple_interest=P*t*r/100\n",
        "print(\"simple_interset\",simple_interest)\n",
        "A=eval(input(\"enter the value of A\"))\n",
        "n=eval(input(\"enter the value of n\"))\n",
        "compound_interest=A=P*(1+r/n)**n*t\n",
        "print(\"compound_interest\",compound_interest)\n"
      ]
    },
    {
      "cell_type": "code",
      "execution_count": null,
      "metadata": {
        "colab": {
          "base_uri": "https://localhost:8080/"
        },
        "id": "ZOOvUKtkixqr",
        "outputId": "c6b3bc88-5303-42e3-d142-32ccda0dc837"
      },
      "outputs": [
        {
          "output_type": "stream",
          "name": "stdout",
          "text": [
            "enter the radius5\n",
            "area of circle 1.8727779388427734e+17\n",
            "enter the value of l4\n",
            "enter the value of b4\n",
            "area of rectangle 16\n",
            "enter the value of b4\n",
            "enter the value of h4\n",
            "area of triangle 8.0\n",
            "enter the value of s4\n",
            "area of square 16\n"
          ]
        }
      ],
      "source": [
        "#8\n",
        "#area of circle\n",
        "r=eval(input(\"enter the radius\"))\n",
        "area=3.142*r**r\n",
        "print(\"area of circle\",area)\n",
        "#area of rectangle\n",
        "l=eval(input(\"enter the value of l\"))\n",
        "b=eval(input(\"enter the value of b\"))\n",
        "rectangle =l*b\n",
        "print(\"area of rectangle\",rectangle)\n",
        "#area of triangle\n",
        "b=eval(input(\"enter the value of b\"))\n",
        "h=eval(input(\"enter the value of h\"))\n",
        "triangle =1/2*b*h\n",
        "print(\"area of triangle\",triangle)\n",
        "#area of square\n",
        "s=eval(input(\"enter the value of s\"))\n",
        "square =s*s\n",
        "print(\"area of square\",square)"
      ]
    },
    {
      "cell_type": "code",
      "execution_count": null,
      "metadata": {
        "colab": {
          "base_uri": "https://localhost:8080/"
        },
        "id": "wmk5qHoprEM_",
        "outputId": "0ffb8ad3-b1bd-4b88-c4a8-27f95c2aca8b"
      },
      "outputs": [
        {
          "output_type": "stream",
          "name": "stdout",
          "text": [
            "enter the value of r4.0\n",
            "the circumference of circle is 25.136\n"
          ]
        }
      ],
      "source": [
        "#9\n",
        "r=eval(input(\"enter the value of r\"))\n",
        "circumference=2*3.142*r\n",
        "print(\"the circumference of circle is\",circumference)"
      ]
    },
    {
      "cell_type": "code",
      "execution_count": null,
      "metadata": {
        "colab": {
          "base_uri": "https://localhost:8080/"
        },
        "id": "TBxnhtYzrve_",
        "outputId": "2cca2014-3cf9-4372-c13e-7f8a6b607a1d"
      },
      "outputs": [
        {
          "output_type": "stream",
          "name": "stdout",
          "text": [
            "enter the first side 2.0\n",
            "enter the second side1.0\n",
            "enter the third side 2.3\n",
            "the area of the triangle is 0.9973684123732814\n"
          ]
        }
      ],
      "source": [
        "#10\n",
        "'''\n",
        "s=(a+b+c)/2\n",
        "area = (s*(s-a)*(s-b)*(s-c))**(0.5)\n",
        "'''\n",
        "a=eval(input(\"enter the first side \"))\n",
        "b=eval(input(\"enter the second side\"))\n",
        "c=eval(input(\"enter the third side \"))\n",
        "s=(a+b+c)/2\n",
        "area=(s*(s-a)*(s-b)*(s-c))**(0.5)\n",
        "print(\"the area of the triangle is\",area)"
      ]
    },
    {
      "cell_type": "code",
      "execution_count": null,
      "metadata": {
        "colab": {
          "base_uri": "https://localhost:8080/"
        },
        "id": "DxSNyCgi3mW7",
        "outputId": "a2d457d1-961b-4360-b436-3dbdf5011e42"
      },
      "outputs": [
        {
          "output_type": "stream",
          "name": "stdout",
          "text": [
            "enter the value of l3.0\n",
            "enter the value of b4.0\n",
            "perimeter is 14.0\n"
          ]
        }
      ],
      "source": [
        "#11\n",
        "l=eval(input(\"enter the value of l\"))\n",
        "b=eval(input(\"enter the value of b\"))\n",
        "perimeter=2*(l+b)\n",
        "print(\"perimeter is\",perimeter)"
      ]
    },
    {
      "cell_type": "code",
      "execution_count": null,
      "metadata": {
        "colab": {
          "base_uri": "https://localhost:8080/"
        },
        "id": "7Seh5sA74I7F",
        "outputId": "b39c2b04-9943-46e9-a8ea-f4d821ce3936"
      },
      "outputs": [
        {
          "output_type": "stream",
          "name": "stdout",
          "text": [
            "enter the value of a3.0\n",
            "enter the value of b4.0\n",
            "enter the value of h5.0\n",
            "Area of trapezium is 17.5\n"
          ]
        }
      ],
      "source": [
        "#12\n",
        "a=eval(input(\"enter the value of a\"))\n",
        "b=eval(input(\"enter the value of b\"))\n",
        "h=eval(input(\"enter the value of h\"))\n",
        "Area=1/2*(a+b)*h\n",
        "print(\"Area of trapezium is\",Area)"
      ]
    },
    {
      "cell_type": "code",
      "execution_count": null,
      "metadata": {
        "colab": {
          "base_uri": "https://localhost:8080/"
        },
        "id": "vBzPFa8c5OV9",
        "outputId": "5a93a9de-dae9-40e2-eab0-4e46b809f98b"
      },
      "outputs": [
        {
          "output_type": "stream",
          "name": "stdout",
          "text": [
            "enter the value of d1 4.0\n",
            "enter the value of d2 5.0\n",
            "area of rhombus 10.0\n"
          ]
        }
      ],
      "source": [
        "#13\n",
        "d1=eval(input(\"enter the value of d1 \"))\n",
        "d2=eval(input(\"enter the value of d2 \"))\n",
        "area=1/2*d1*d2\n",
        "print(\"area of rhombus\",area)"
      ]
    },
    {
      "cell_type": "code",
      "execution_count": null,
      "metadata": {
        "colab": {
          "base_uri": "https://localhost:8080/"
        },
        "id": "HKfUAKnn5uFl",
        "outputId": "94467464-881a-453a-a190-295e0497a773"
      },
      "outputs": [
        {
          "output_type": "stream",
          "name": "stdout",
          "text": [
            "enter the value of b1.0\n",
            "enter the value of h5.0\n",
            "area of parallelogram 5.0\n"
          ]
        }
      ],
      "source": [
        "#14\n",
        "b=eval(input(\"enter the value of b\"))\n",
        "h=eval(input(\"enter the value of h\"))\n",
        "area=b*h\n",
        "print(\"area of parallelogram\",area)"
      ]
    },
    {
      "cell_type": "code",
      "execution_count": null,
      "metadata": {
        "colab": {
          "base_uri": "https://localhost:8080/"
        },
        "id": "Q1Ym3qjkVJfL",
        "outputId": "f03154dc-29d2-45b9-ecb7-5471ae2a25e1"
      },
      "outputs": [
        {
          "name": "stdout",
          "output_type": "stream",
          "text": [
            "enter the value of a4\n",
            "volume of cube 64\n",
            "surfacearea of cube 96\n"
          ]
        }
      ],
      "source": [
        "#15\n",
        "a=eval(input(\"enter the value of a\"))\n",
        "volume=a*a*a\n",
        "print(\"volume of cube\",volume)\n",
        "surfacearea=6*a**2\n",
        "print(\"surfacearea of cube\",surfacearea)\n"
      ]
    },
    {
      "cell_type": "code",
      "execution_count": null,
      "metadata": {
        "colab": {
          "base_uri": "https://localhost:8080/"
        },
        "id": "-ihudShmkvI5",
        "outputId": "9be51899-dbd1-4267-9fef-0d32a9962764"
      },
      "outputs": [
        {
          "output_type": "stream",
          "name": "stdout",
          "text": [
            "enter the value of l4\n",
            "enter the value of b5\n",
            "enter the value of h6\n",
            "volume and 'surface_area' of cubiod is 120 148\n"
          ]
        }
      ],
      "source": [
        "#16\n",
        "l=eval(input(\"enter the value of l\"))\n",
        "b=eval(input(\"enter the value of b\"))\n",
        "h=eval(input(\"enter the value of h\"))\n",
        "volume=l*b*h\n",
        "surface_area=2*l*b+2*b*h+2*h*l\n",
        "print(\"volume and 'surface_area' of cubiod is\",volume,surface_area)\n"
      ]
    },
    {
      "cell_type": "code",
      "execution_count": null,
      "metadata": {
        "colab": {
          "base_uri": "https://localhost:8080/"
        },
        "id": "Eer0TIwRmQe4",
        "outputId": "9af34a32-f864-489c-9c53-053049cde3bd"
      },
      "outputs": [
        {
          "output_type": "stream",
          "name": "stdout",
          "text": [
            "enter the value of r5\n",
            "enter the value of h4\n",
            "the volume of cylinder is 314.2\n",
            "surface_area of cylinder is 282.78\n"
          ]
        }
      ],
      "source": [
        "#17\n",
        "r=eval(input(\"enter the value of r\"))\n",
        "h=eval(input(\"enter the value of h\"))\n",
        "volume=3.142*r**2*h\n",
        "print(\"the volume of cylinder is\",volume)\n",
        "pi=3.142\n",
        "surface_area=2*pi*r**2 + 2*pi*r*h\n",
        "print(\"surface_area of cylinder is\",surface_area)"
      ]
    },
    {
      "cell_type": "code",
      "execution_count": null,
      "metadata": {
        "colab": {
          "base_uri": "https://localhost:8080/"
        },
        "id": "k-Sis1clopuP",
        "outputId": "635c6e1c-a39a-47d6-c657-721eeb3fb6d5"
      },
      "outputs": [
        {
          "output_type": "stream",
          "name": "stdout",
          "text": [
            "enter the value of r4\n",
            "enter the value of h5\n",
            "volume is 83.78666666666666\n",
            "surface_area is 130.74646541605603\n"
          ]
        }
      ],
      "source": [
        "#18\n",
        "r=eval(input(\"enter the value of r\"))\n",
        "h=eval(input(\"enter the value of h\"))\n",
        "pi=3.142\n",
        "volume=1/3*pi*r**2*h\n",
        "print(\"volume is\",volume)\n",
        "l=math.sqrt(r**2+h**2)\n",
        "surface_area=pi*r*(r+l)\n",
        "print(\"surface_area is\",surface_area)\n",
        "\n",
        "\n"
      ]
    },
    {
      "cell_type": "code",
      "execution_count": null,
      "metadata": {
        "colab": {
          "base_uri": "https://localhost:8080/"
        },
        "id": "Sss27eSFzQ33",
        "outputId": "f9bb0e23-9bff-4b2c-f7eb-20f999e72aad"
      },
      "outputs": [
        {
          "name": "stdout",
          "output_type": "stream",
          "text": [
            "enter the value of r4\n",
            "volume of sphere is 268.1173333333333\n",
            "surface_area of sphere 201.088\n"
          ]
        }
      ],
      "source": [
        "#19\n",
        "r=eval(input(\"enter the value of r\"))\n",
        "volume=4/3*3.142*r**3\n",
        "print(\"volume of sphere is\",volume)\n",
        "surface_area=4*3.142*r**2\n",
        "print(\"surface_area of sphere\",surface_area)"
      ]
    },
    {
      "cell_type": "code",
      "execution_count": null,
      "metadata": {
        "colab": {
          "base_uri": "https://localhost:8080/"
        },
        "id": "-1q45yiT0TTF",
        "outputId": "f919c0e7-6f79-4f74-ff69-deaecef2638a"
      },
      "outputs": [
        {
          "name": "stdout",
          "output_type": "stream",
          "text": [
            "enter the value of r4\n",
            "perimeter_of_circle is 25.136\n",
            "enter the first lenght4\n",
            "enter the second lenght4\n",
            "enter the third lenght4\n",
            "perimeter_of_circle is 12\n"
          ]
        }
      ],
      "source": [
        "#20\n",
        "r=eval(input(\"enter the value of r\"))\n",
        "perimeter_of_circle=2*3.142*r\n",
        "print(\"perimeter_of_circle is\",perimeter_of_circle)\n",
        "l1=eval(input(\"enter the first lenght\"))\n",
        "l2=eval(input(\"enter the second lenght\"))\n",
        "l3=eval(input(\"enter the third lenght\"))\n",
        "perimeter_of_triangle=l1+l2+l3\n",
        "print(\"perimeter_of_triangle is\",perimeter_of_triangle)"
      ]
    },
    {
      "cell_type": "code",
      "execution_count": null,
      "metadata": {
        "colab": {
          "base_uri": "https://localhost:8080/"
        },
        "id": "7NfTR5bh2JaS",
        "outputId": "05e38a91-b315-4b08-c214-cd435dd1767d"
      },
      "outputs": [
        {
          "name": "stdout",
          "output_type": "stream",
          "text": [
            "enter the value of a4\n",
            "enter the value of b5\n",
            "before swapping a and b is 4 5\n",
            "after swapping a and b is 5 4\n"
          ]
        }
      ],
      "source": [
        "#21\n",
        "a=eval(input(\"enter the value of a\"))\n",
        "b=eval(input(\"enter the value of b\"))\n",
        "print(\"before swapping a and b is\",a,b)\n",
        "temp=a\n",
        "a=b\n",
        "b=temp\n",
        "print(\"after swapping a and b is\",a,b)\n"
      ]
    },
    {
      "cell_type": "code",
      "execution_count": null,
      "metadata": {
        "colab": {
          "base_uri": "https://localhost:8080/"
        },
        "id": "fbP_mHGA24y2",
        "outputId": "f1661127-448e-4559-d62c-aace4a785e18"
      },
      "outputs": [
        {
          "output_type": "stream",
          "name": "stdout",
          "text": [
            "enter the value of a4.0\n",
            "enter the value of b5.0\n",
            "before swapping a and b is 4.0 5.0\n",
            "after swapping a and b is 5.0 4.0\n"
          ]
        }
      ],
      "source": [
        "#22\n",
        "a=eval(input(\"enter the value of a\"))\n",
        "b=eval(input(\"enter the value of b\"))\n",
        "print(\"before swapping a and b is\",a,b)\n",
        "a=a+b\n",
        "b=a-b\n",
        "a=a-b\n",
        "print(\"after swapping a and b is\",a,b)"
      ]
    },
    {
      "cell_type": "code",
      "execution_count": null,
      "metadata": {
        "colab": {
          "base_uri": "https://localhost:8080/"
        },
        "id": "vmJpqdZY3FBy",
        "outputId": "2de2be12-37d0-4cef-af9e-e7a67d6337f9"
      },
      "outputs": [
        {
          "name": "stdout",
          "output_type": "stream",
          "text": [
            "enter the value of a 5\n",
            "enter the value of b 9\n",
            "before swapping a and b is 5 9\n",
            "after swapping a and b is 9 5\n"
          ]
        }
      ],
      "source": [
        "#23\n",
        "a=eval(input(\"enter the value of a \"))\n",
        "b=eval(input(\"enter the value of b \"))\n",
        "print(\"before swapping a and b is\",a,b)\n",
        "a=a ^ b\n",
        "b=a ^ b\n",
        "a=a ^ b\n",
        "print(\"after swapping a and b is\",a,b)"
      ]
    },
    {
      "cell_type": "code",
      "execution_count": null,
      "metadata": {
        "colab": {
          "base_uri": "https://localhost:8080/"
        },
        "id": "2WaTORCh4djM",
        "outputId": "fa246c3a-5660-4b5d-a7da-6196a993670d"
      },
      "outputs": [
        {
          "name": "stdout",
          "output_type": "stream",
          "text": [
            "enter the value of a 5\n",
            "enter the value of b 8\n",
            "before swapping a and b is 5 8\n",
            "after swapping a and b is 8 5\n"
          ]
        }
      ],
      "source": [
        "#24\n",
        "a=eval(input(\"enter the value of a \"))\n",
        "b=eval(input(\"enter the value of b \"))\n",
        "print(\"before swapping a and b is\",a,b)\n",
        "a,b=b,a\n",
        "print(\"after swapping a and b is\",a,b)\n"
      ]
    },
    {
      "cell_type": "code",
      "execution_count": null,
      "metadata": {
        "colab": {
          "base_uri": "https://localhost:8080/"
        },
        "id": "wn-OmHjd5wab",
        "outputId": "73890248-89de-4d24-f2df-0e60cd29d1cf"
      },
      "outputs": [
        {
          "output_type": "stream",
          "name": "stdout",
          "text": [
            "enter the point digits: 1.23\n",
            "its right most digit of its integral part is 1\n"
          ]
        }
      ],
      "source": [
        "#25\n",
        "a=eval(input(\"enter the point digits: \"))\n",
        "x=int(a)\n",
        "right_most_digit=x%10\n",
        "print(\"its right most digit of its integral part is\",right_most_digit)"
      ]
    },
    {
      "cell_type": "code",
      "execution_count": null,
      "metadata": {
        "colab": {
          "base_uri": "https://localhost:8080/"
        },
        "id": "Ho1KLFrH55PN",
        "outputId": "419dc810-9da3-4f43-d792-98826dde476a"
      },
      "outputs": [
        {
          "output_type": "stream",
          "name": "stdout",
          "text": [
            "enter the temperature in C 4.2\n",
            "the temperature in Fahrenheit 39.56\n"
          ]
        }
      ],
      "source": [
        "#26\n",
        "Celsius=eval(input(\"enter the temperature in C \"))\n",
        "Fahrenheit=9/5*Celsius+32\n",
        "print(\"the temperature in Fahrenheit\",Fahrenheit)\n",
        "\n"
      ]
    },
    {
      "cell_type": "code",
      "execution_count": null,
      "metadata": {
        "colab": {
          "base_uri": "https://localhost:8080/"
        },
        "id": "ubW1TjGflKJr",
        "outputId": "8cebb4b7-d81b-4ff3-e7a8-80d967349610"
      },
      "outputs": [
        {
          "output_type": "stream",
          "name": "stdout",
          "text": [
            "The lowercase equivalent of r is r\n"
          ]
        }
      ],
      "source": [
        "#27\n",
        "uppercase_char ='R'\n",
        "lowercase_char = uppercase_char.lower()\n",
        "print(f\"The lowercase equivalent of {uppercase_char} is {lowercase_char}\")"
      ]
    },
    {
      "cell_type": "code",
      "execution_count": null,
      "metadata": {
        "colab": {
          "base_uri": "https://localhost:8080/"
        },
        "id": "KiwgNAdcluTa",
        "outputId": "39a1376c-d2e4-4c42-ffa6-4cd9757b2453"
      },
      "outputs": [
        {
          "name": "stdout",
          "output_type": "stream",
          "text": [
            "The uppercase equivalent of u is U\n"
          ]
        }
      ],
      "source": [
        "#28\n",
        "lowercase_char ='u'\n",
        "uppercase_char = lowercase_char.upper()\n",
        "print(f\"The uppercase equivalent of {lowercase_char} is {uppercase_char}\")"
      ]
    },
    {
      "cell_type": "code",
      "execution_count": null,
      "metadata": {
        "colab": {
          "base_uri": "https://localhost:8080/"
        },
        "id": "Ytq0FGPHmY7y",
        "outputId": "5d68aa28-624d-4b33-c481-b912dffc8150"
      },
      "outputs": [
        {
          "output_type": "stream",
          "name": "stdout",
          "text": [
            "enter the value of a 2\n",
            "enter the value of b 4\n",
            "enter the value of c 5\n",
            "average of three numbers 3.6666666666666665\n"
          ]
        }
      ],
      "source": [
        "#29\n",
        "a=eval(input(\"enter the value of a \"))\n",
        "b=eval(input(\"enter the value of b \"))\n",
        "c=eval(input(\"enter the value of c \"))\n",
        "avg=(a+b+c)/3\n",
        "print(\"average of three numbers\",avg)"
      ]
    },
    {
      "cell_type": "code",
      "source": [
        "#30\n",
        "def compute_net_salary(basic_salary):\n",
        "    DA, TA, HRA = 0.10 * basic_salary, 0.12 * basic_salary, 0.15 * basic_salary\n",
        "    return basic_salary + DA + TA + HRA\n",
        "basic_salary = float(input(\"Enter the basic salary: \"))\n",
        "net_salary = compute_net_salary(basic_salary)\n",
        "print(f\"The net salary is: {net_salary}\")\n"
      ],
      "metadata": {
        "colab": {
          "base_uri": "https://localhost:8080/"
        },
        "id": "PpmKqauKsYfG",
        "outputId": "9a9f3407-f27d-49f9-9d54-70ea3ed0ec79"
      },
      "execution_count": null,
      "outputs": [
        {
          "output_type": "stream",
          "name": "stdout",
          "text": [
            "Enter the basic salary: 1414\n",
            "The net salary is: 1937.18\n"
          ]
        }
      ]
    },
    {
      "cell_type": "code",
      "execution_count": null,
      "metadata": {
        "colab": {
          "base_uri": "https://localhost:8080/"
        },
        "id": "JytGC4Rj9TLC",
        "outputId": "b75e5bd7-123b-4ac7-e4af-32eee2e134e5"
      },
      "outputs": [
        {
          "output_type": "stream",
          "name": "stdout",
          "text": [
            "enter the value of input1\n",
            "the result is 4\n"
          ]
        }
      ],
      "source": [
        "#31\n",
        "input=int(input(\"enter the value of input\"))\n",
        "result=input<<2\n",
        "print(\"the result is\",result)"
      ]
    },
    {
      "cell_type": "code",
      "execution_count": null,
      "metadata": {
        "colab": {
          "base_uri": "https://localhost:8080/"
        },
        "id": "OyvBzPLA95uM",
        "outputId": "5fd6f772-38d6-46ce-e83c-90bdf1289075"
      },
      "outputs": [
        {
          "output_type": "stream",
          "name": "stdout",
          "text": [
            "enter the value of a1\n",
            "enter the value of b4\n",
            "b is greater\n"
          ]
        }
      ],
      "source": [
        "#32\n",
        "a=eval(input(\"enter the value of a\"))\n",
        "b=eval(input(\"enter the value of b\"))\n",
        "if(a>b):\n",
        "  print(\"a is greater\")\n",
        "else:\n",
        "  print(\"b is greater\")"
      ]
    },
    {
      "cell_type": "code",
      "execution_count": null,
      "metadata": {
        "colab": {
          "base_uri": "https://localhost:8080/"
        },
        "id": "GtM-lslh-xF6",
        "outputId": "f6525352-5d78-4c3a-da79-a996de13c976"
      },
      "outputs": [
        {
          "output_type": "stream",
          "name": "stdout",
          "text": [
            "Enter the first number: 2.0\n",
            "Enter the second number: 5.0\n",
            "Enter the third number: 1.0\n",
            "The greatest number is: 5.0\n"
          ]
        }
      ],
      "source": [
        "#33\n",
        "num1 = eval(input(\"Enter the first number: \"))\n",
        "num2 = eval(input(\"Enter the second number: \"))\n",
        "num3 = eval(input(\"Enter the third number: \"))\n",
        "if num1 >= num2 and num1 >= num3:\n",
        "    greatest = num1\n",
        "elif num2 >= num1 and num2 >= num3:\n",
        "    greatest = num2\n",
        "else:\n",
        "    greatest = num3\n",
        "print(f\"The greatest number is: {greatest}\")\n"
      ]
    },
    {
      "cell_type": "code",
      "execution_count": null,
      "metadata": {
        "colab": {
          "base_uri": "https://localhost:8080/"
        },
        "id": "9EfQJK7F_T65",
        "outputId": "9b879cf0-905a-460f-cd9a-649a918c9fe6"
      },
      "outputs": [
        {
          "output_type": "stream",
          "name": "stdout",
          "text": [
            "enter the value of a4.0\n",
            "a is even\n"
          ]
        }
      ],
      "source": [
        "#34\n",
        "a=eval(input(\"enter the value of a\"))\n",
        "if(a%2==0):\n",
        "  print(\"a is even\")\n",
        "else:\n",
        "  print(\"a is odd\")\n",
        "\n"
      ]
    },
    {
      "cell_type": "code",
      "execution_count": null,
      "metadata": {
        "colab": {
          "base_uri": "https://localhost:8080/"
        },
        "id": "awAP0Z5_AkoU",
        "outputId": "9c61ae20-6649-493c-c355-35ea10e00d4e"
      },
      "outputs": [
        {
          "name": "stdout",
          "output_type": "stream",
          "text": [
            "ente rhte value of a4\n",
            "not equal to zero\n"
          ]
        }
      ],
      "source": [
        "#35\n",
        "a=eval(input(\"enter the  value of a\"))\n",
        "if(a==0):\n",
        "  print(\"equal to zero\")\n",
        "else:\n",
        "  print(\"not equal to zero\")\n",
        "\n"
      ]
    },
    {
      "cell_type": "code",
      "execution_count": null,
      "metadata": {
        "colab": {
          "base_uri": "https://localhost:8080/"
        },
        "id": "IxKvAf1hGaC6",
        "outputId": "94111aed-bcfb-4394-b641-0e85f4bb9549"
      },
      "outputs": [
        {
          "name": "stdout",
          "output_type": "stream",
          "text": [
            "enter the  value of a0\n",
            "the number is equal to zero\n"
          ]
        }
      ],
      "source": [
        "#36\n",
        "a=eval(input(\"enter the  value of a\"))\n",
        "if(a>0):\n",
        "  print(\"the number is positive\")\n",
        "elif(a<0):\n",
        "  print(\"the number is negative\")\n",
        "elif(a==0):\n",
        "  print(\"the number is equal to zero\")\n",
        "\n",
        "\n"
      ]
    },
    {
      "cell_type": "code",
      "execution_count": null,
      "metadata": {
        "colab": {
          "base_uri": "https://localhost:8080/"
        },
        "id": "7Y2uRHJrG9O7",
        "outputId": "f1a2dc12-56bf-4dff-f125-ee99aef2d5a4"
      },
      "outputs": [
        {
          "name": "stdout",
          "output_type": "stream",
          "text": [
            "enter the value of year2006\n",
            "it is a leap year\n"
          ]
        }
      ],
      "source": [
        "#37\n",
        "year=input(\"enter the value of year\")\n",
        "if((\"year%4==0 : year%100!=0\") or (\"year%400==0\")):\n",
        "  print(\"it is a leap year\")\n",
        "else:\n",
        "  print(\"is it not a leap year\")\n",
        "\n",
        "\n",
        "\n",
        "\n"
      ]
    },
    {
      "cell_type": "code",
      "execution_count": null,
      "metadata": {
        "colab": {
          "base_uri": "https://localhost:8080/"
        },
        "id": "UCpaL4c1TZSQ",
        "outputId": "b4d54fbd-0710-4c0f-dc5c-56924f5c5612"
      },
      "outputs": [
        {
          "name": "stdout",
          "output_type": "stream",
          "text": [
            "Enter a character: g\n",
            "g is a consonant.\n"
          ]
        }
      ],
      "source": [
        "#38\n",
        "char = input(\"Enter a character: \")\n",
        "char = char.lower()\n",
        "if char.isalpha() and len(char) == 1:\n",
        "    if char in \"aeiou\":\n",
        "        print(f\"{char} is a vowel.\")\n",
        "    else:\n",
        "        print(f\"{char} is a consonant.\")\n",
        "else:\n",
        "    print(\"Please enter a single alphabetical character.\")\n"
      ]
    },
    {
      "cell_type": "code",
      "execution_count": null,
      "metadata": {
        "colab": {
          "base_uri": "https://localhost:8080/"
        },
        "id": "oO9DcR2zUZXq",
        "outputId": "7b2d62ef-e7d1-4468-e2c7-46604fa58a0b"
      },
      "outputs": [
        {
          "output_type": "stream",
          "name": "stdout",
          "text": [
            "enter the value of x55\n",
            "enter the value of y66\n",
            "enter the operator '+','-','*','/','%'+\n",
            "the sum of x and y is x+y 121\n"
          ]
        }
      ],
      "source": [
        "#39\n",
        "x=int(input(\"enter the value of x\"))\n",
        "y=int(input(\"enter the value of y\"))\n",
        "op=input(\"enter the operator '+','-','*','/','%'\")\n",
        "if(op ==\"+\"):\n",
        "  print(\"the sum of x and y is x+y\",x+y)\n",
        "elif(op ==\"-\"):\n",
        "  print(\"the difference of x and y is x-y\",x-y)\n",
        "elif(op ==\"*\"):\n",
        "  print(\"the multiplication of x and y is x*y\",x*y)\n",
        "elif(op ==\"/\"):\n",
        "  print(\"the division of x and y is x/y\",x/y)\n",
        "elif(op==\"%\"):\n",
        "  print(\"the modulo of x and y is\",x%y)\n",
        "else:\n",
        "  print(\"enter the correct op is\")\n",
        "\n"
      ]
    },
    {
      "cell_type": "code",
      "execution_count": null,
      "metadata": {
        "colab": {
          "base_uri": "https://localhost:8080/"
        },
        "id": "2ZQ0OjmsUfFc",
        "outputId": "8f619822-1ef5-47da-947f-04fee5227e44"
      },
      "outputs": [
        {
          "output_type": "stream",
          "name": "stdout",
          "text": [
            "Enter a value: 2\n",
            "It's a number!\n"
          ]
        }
      ],
      "source": [
        "#40\n",
        "def is_number(input_str):\n",
        "    try:\n",
        "        float(input_str)\n",
        "        return True\n",
        "    except ValueError:\n",
        "        return False\n",
        "user_input = input(\"Enter a value: \")\n",
        "\n",
        "if is_number(user_input):\n",
        "    print(\"It's a number!\")\n",
        "else:\n",
        "    print(\"It's not a number.\")\n",
        "\n"
      ]
    },
    {
      "cell_type": "code",
      "execution_count": null,
      "metadata": {
        "colab": {
          "base_uri": "https://localhost:8080/"
        },
        "id": "jIIv9JTFWgqA",
        "outputId": "cd336ba2-f3e4-4e10-836d-c9b294135f67"
      },
      "outputs": [
        {
          "output_type": "stream",
          "name": "stdout",
          "text": [
            "enter the age of a person4\n",
            "not eligible to vote\n"
          ]
        }
      ],
      "source": [
        "#41\n",
        "age=eval(input(\"enter the age of a person\"))\n",
        "if(age>=18):\n",
        "  print(\"eligible to vote\")\n",
        "else:\n",
        "  print(\"not eligible to vote\")\n"
      ]
    },
    {
      "cell_type": "code",
      "execution_count": null,
      "metadata": {
        "colab": {
          "base_uri": "https://localhost:8080/"
        },
        "id": "L-ZR_mWaW9P0",
        "outputId": "f450902b-b570-4b89-efc1-b26097055129"
      },
      "outputs": [
        {
          "name": "stdout",
          "output_type": "stream",
          "text": [
            "Enter the coefficient a: 3\n",
            "Enter the coefficient b: 5\n",
            "Enter the coefficient c: 4\n",
            "Root 1: (-0.8333333333333334+0.7993052538854531j)\n",
            "Root 2: (-0.8333333333333334-0.7993052538854531j)\n"
          ]
        }
      ],
      "source": [
        "#42\n",
        "import math\n",
        "\n",
        "def find_roots(a, b, c):\n",
        "\n",
        "    discriminant = b**2 - 4*a*c\n",
        "\n",
        "\n",
        "    if discriminant >= 0:\n",
        "\n",
        "        root1 = (-b + math.sqrt(discriminant)) / (2*a)\n",
        "        root2 = (-b - math.sqrt(discriminant)) / (2*a)\n",
        "        return root1, root2\n",
        "    else:\n",
        "\n",
        "        real_part = -b / (2*a)\n",
        "        imaginary_part = math.sqrt(abs(discriminant)) / (2*a)\n",
        "        root1 = complex(real_part, imaginary_part)\n",
        "        root2 = complex(real_part, -imaginary_part)\n",
        "        return root1, root2\n",
        "\n",
        "\n",
        "try:\n",
        "    a = eval(input(\"Enter the coefficient a: \"))\n",
        "    b = eval(input(\"Enter the coefficient b: \"))\n",
        "    c = eval(input(\"Enter the coefficient c: \"))\n",
        "\n",
        "    roots = find_roots(a, b, c)\n",
        "\n",
        "    print(\"Root 1:\", roots[0])\n",
        "    print(\"Root 2:\", roots[1])\n",
        "\n",
        "except ValueError:\n",
        "    print(\"Invalid input. Please enter valid numerical coefficients.\")\n"
      ]
    },
    {
      "cell_type": "code",
      "execution_count": null,
      "metadata": {
        "colab": {
          "base_uri": "https://localhost:8080/"
        },
        "id": "cGx6hg3iZvq4",
        "outputId": "41966f72-828b-4e76-8c1f-becd674145e3"
      },
      "outputs": [
        {
          "name": "stdout",
          "output_type": "stream",
          "text": [
            "Alice's Grade: B\n",
            "Bob's Grade: B\n",
            "Charlie's Grade: A\n"
          ]
        }
      ],
      "source": [
        "#43\n",
        "class Student:\n",
        "    def __init__(self, name, roll_number, marks):\n",
        "        self.name = name\n",
        "        self.roll_number = roll_number\n",
        "        self.marks = marks\n",
        "\n",
        "    def calculate_grade(self):\n",
        "        average_marks = sum(self.marks) / len(self.marks)\n",
        "        if average_marks >= 90:\n",
        "            return 'A'\n",
        "        elif average_marks >= 80:\n",
        "            return 'B'\n",
        "        elif average_marks >= 70:\n",
        "            return 'C'\n",
        "        elif average_marks >= 60:\n",
        "            return 'D'\n",
        "        else:\n",
        "            return 'F'\n",
        "\n",
        "def main():\n",
        "    student1 = Student(\"Alice\", \"001\", [85, 90, 88])\n",
        "    student2 = Student(\"Bob\", \"002\", [78, 85, 80])\n",
        "    student3 = Student(\"Charlie\", \"003\", [92, 88, 95])\n",
        "    print(f\"{student1.name}'s Grade: {student1.calculate_grade()}\")\n",
        "    print(f\"{student2.name}'s Grade: {student2.calculate_grade()}\")\n",
        "    print(f\"{student3.name}'s Grade: {student3.calculate_grade()}\")\n",
        "\n",
        "if __name__ == \"__main__\":\n",
        "    main()\n"
      ]
    },
    {
      "cell_type": "code",
      "execution_count": null,
      "metadata": {
        "colab": {
          "base_uri": "https://localhost:8080/"
        },
        "id": "-qz3e1WVczKo",
        "outputId": "a1db4a93-ff44-431f-ab14-1e76a66b48d9"
      },
      "outputs": [
        {
          "name": "stdout",
          "output_type": "stream",
          "text": [
            "Enter a binary number: 34\n",
            "Decimal equivalent: 0\n",
            "0 is not a perfect number.\n"
          ]
        }
      ],
      "source": [
        "#44\n",
        "def binary_to_decimal(binary):\n",
        "    decimal = 0\n",
        "    binary_str = str(binary)\n",
        "    binary_str = binary_str[::-1]\n",
        "\n",
        "    for i in range(len(binary_str)):\n",
        "        if binary_str[i] == '1':\n",
        "            decimal += 2 ** i\n",
        "\n",
        "    return decimal\n",
        "\n",
        "def is_perfect_number(number):\n",
        "    if number <= 1:\n",
        "        return False\n",
        "\n",
        "    divisors = [1]\n",
        "    for i in range(2, int(number**0.5) + 1):\n",
        "        if number % i == 0:\n",
        "            divisors.append(i)\n",
        "            if i != number // i:\n",
        "                divisors.append(number // i)\n",
        "\n",
        "    return sum(divisors) == number\n",
        "\n",
        "def main():\n",
        "\n",
        "    binary_input = input(\"Enter a binary number: \")\n",
        "\n",
        "    decimal_number = binary_to_decimal(binary_input)\n",
        "    print(f\"Decimal equivalent: {decimal_number}\")\n",
        "    if is_perfect_number(decimal_number):\n",
        "        print(f\"{decimal_number} is a perfect number.\")\n",
        "    else:\n",
        "        print(f\"{decimal_number} is not a perfect number.\")\n",
        "\n",
        "if __name__ == \"__main__\":\n",
        "    main()\n"
      ]
    },
    {
      "cell_type": "code",
      "execution_count": null,
      "metadata": {
        "colab": {
          "base_uri": "https://localhost:8080/"
        },
        "id": "vLzv9iDSiGoQ",
        "outputId": "d1df3131-5eac-49c7-bd45-1f7d7cee25a6"
      },
      "outputs": [
        {
          "output_type": "stream",
          "name": "stdout",
          "text": [
            "enter one namerithvik\n",
            "rithvikrithvikrithvikrithvikrithvikrithvikrithvikrithvikrithvikrithvikrithvikrithvik\n"
          ]
        }
      ],
      "source": [
        "#45\n",
        "name=input(\"enter one name\")\n",
        "print(name * 12)"
      ]
    },
    {
      "cell_type": "code",
      "execution_count": null,
      "metadata": {
        "colab": {
          "base_uri": "https://localhost:8080/"
        },
        "id": "5zwo7u4-mXOr",
        "outputId": "92e77c42-9e82-4f40-f3c4-2c46cf23808c"
      },
      "outputs": [
        {
          "output_type": "stream",
          "name": "stdout",
          "text": [
            "enter the value of natural_number4\n",
            "the number is natural number\n",
            "the repition value5\n",
            "5555\n"
          ]
        }
      ],
      "source": [
        "#46\n",
        "natural_number=eval(input(\"enter the value of natural_number\"))\n",
        "if(natural_number>0):\n",
        "  print(\"the number is natural number\")\n",
        "else:\n",
        "  print(\"the number is not natural number\")\n",
        "a=input(\"the repition value\")\n",
        "result=natural_number * a\n",
        "print(result)"
      ]
    },
    {
      "cell_type": "code",
      "execution_count": null,
      "metadata": {
        "colab": {
          "base_uri": "https://localhost:8080/"
        },
        "id": "Gi8T8YRWnrPd",
        "outputId": "dcfa16b4-9374-4cc0-e1fc-e64dd5024d0a"
      },
      "outputs": [
        {
          "output_type": "stream",
          "name": "stdout",
          "text": [
            "enter the value of whole_number5\n",
            "the number is whole number\n",
            "the repition value4\n",
            "44444\n"
          ]
        }
      ],
      "source": [
        "#47\n",
        "whole_number=eval(input(\"enter the value of whole_number\"))\n",
        "if(whole_number>=0):\n",
        "  print(\"the number is whole number\")\n",
        "else:\n",
        "  print(\"the number is not  a whole number\")\n",
        "x=input(\"the repition value\")\n",
        "whole_number==0\n",
        "result=whole_number * x\n",
        "print(result)\n"
      ]
    },
    {
      "cell_type": "code",
      "source": [
        "#47\n",
        "n=int(input(\" enter a number\"))\n",
        "for i in range(1,n+1):\n",
        "  print(i)"
      ],
      "metadata": {
        "colab": {
          "base_uri": "https://localhost:8080/"
        },
        "id": "DNr7HXR1gjRP",
        "outputId": "f65c80de-275b-4e19-ad30-cafaa785d590"
      },
      "execution_count": null,
      "outputs": [
        {
          "output_type": "stream",
          "name": "stdout",
          "text": [
            " enter a number5\n",
            "1\n",
            "2\n",
            "3\n",
            "4\n",
            "5\n"
          ]
        }
      ]
    },
    {
      "cell_type": "code",
      "execution_count": null,
      "metadata": {
        "colab": {
          "base_uri": "https://localhost:8080/"
        },
        "id": "EJvsUtxxqUce",
        "outputId": "ebb0b3a8-99a2-4d2c-a26f-f3c399c6c80c"
      },
      "outputs": [
        {
          "output_type": "stream",
          "name": "stdout",
          "text": [
            "enter the value of natural_number10\n",
            "the number is even number\n",
            "the repition value20\n",
            "20202020202020202020\n"
          ]
        }
      ],
      "source": [
        "#48\n",
        "number=eval(input(\"enter the value of natural_number\"))\n",
        "if(number%2==0):\n",
        "  print(\"the number is even number\")\n",
        "else:\n",
        "  print(\"the number is not an even  number\")\n",
        "a=input(\"the repition value\")\n",
        "result=number * a\n",
        "print(result)"
      ]
    },
    {
      "cell_type": "code",
      "source": [
        "n=int(input(\"enter a number\"))\n",
        "for i in range(0,n+1):\n",
        "  if(i%2==0):\n",
        "    print(i)\n"
      ],
      "metadata": {
        "colab": {
          "base_uri": "https://localhost:8080/"
        },
        "id": "Wa--yJzFhMcP",
        "outputId": "cf11f62c-7c3e-4799-ab3e-7da87da64256"
      },
      "execution_count": null,
      "outputs": [
        {
          "output_type": "stream",
          "name": "stdout",
          "text": [
            "enter a number10\n",
            "0\n",
            "2\n",
            "4\n",
            "6\n",
            "8\n",
            "10\n"
          ]
        }
      ]
    },
    {
      "cell_type": "code",
      "execution_count": null,
      "metadata": {
        "colab": {
          "base_uri": "https://localhost:8080/"
        },
        "id": "tOdKHCNcv0r9",
        "outputId": "e46dd9bb-9c2f-4060-e159-68cf4f502282"
      },
      "outputs": [
        {
          "output_type": "stream",
          "name": "stdout",
          "text": [
            "enter the value of natural_number1\n",
            "the number is odd number\n",
            "the repition value4\n",
            "4\n"
          ]
        }
      ],
      "source": [
        "#49\n",
        "number=eval(input(\"enter the value of natural_number\"))\n",
        "if(number%2!=0):\n",
        "  print(\"the number is odd number\")\n",
        "else:\n",
        "  print(\"the number is not an odd  number\")\n",
        "a=input(\"the repition value\")\n",
        "result=number * a\n",
        "print(result)"
      ]
    },
    {
      "cell_type": "code",
      "source": [
        "n=int(input(\"enter a number\"))\n",
        "for i in range(0,n+1):\n",
        "  if(i%2!=0):\n",
        "    print(i)"
      ],
      "metadata": {
        "colab": {
          "base_uri": "https://localhost:8080/"
        },
        "id": "f-oDMUzuh6S5",
        "outputId": "d855c865-4493-4d9f-d6d3-0c230d53f195"
      },
      "execution_count": null,
      "outputs": [
        {
          "output_type": "stream",
          "name": "stdout",
          "text": [
            "enter a number10\n",
            "1\n",
            "3\n",
            "5\n",
            "7\n",
            "9\n"
          ]
        }
      ]
    },
    {
      "cell_type": "code",
      "execution_count": null,
      "metadata": {
        "colab": {
          "base_uri": "https://localhost:8080/"
        },
        "id": "U_JyBGCy6nY3",
        "outputId": "326cd20b-dd4d-4e2c-d15e-140dedba2e49"
      },
      "outputs": [
        {
          "output_type": "stream",
          "name": "stdout",
          "text": [
            "Enter the value of 'n' for the first 'n' odd numbers: 5\n",
            "1\n",
            "3\n",
            "5\n",
            "7\n",
            "9\n"
          ]
        }
      ],
      "source": [
        "#50\n",
        "def print_first_n_odd_numbers(n):\n",
        "    count = 0\n",
        "    number = 1\n",
        "\n",
        "    while count < n:\n",
        "        print(number)\n",
        "        number += 2\n",
        "        count += 1\n",
        "\n",
        "def main():\n",
        "    n = int(input(\"Enter the value of 'n' for the first 'n' odd numbers: \"))\n",
        "    print_first_n_odd_numbers(n)\n",
        "\n",
        "if __name__ == \"__main__\":\n",
        "    main()\n"
      ]
    },
    {
      "cell_type": "code",
      "source": [
        "#50\n",
        "n=int(input(\"enter a number\"))\n",
        "for i in range(0,2*n+1):\n",
        "  if(i%2!=0):\n",
        "    print(i)"
      ],
      "metadata": {
        "colab": {
          "base_uri": "https://localhost:8080/"
        },
        "id": "U-Pf-24GiY4h",
        "outputId": "e4215878-2de9-48a6-8991-231839742296"
      },
      "execution_count": null,
      "outputs": [
        {
          "output_type": "stream",
          "name": "stdout",
          "text": [
            "enter a number5\n",
            "1\n",
            "3\n",
            "5\n",
            "7\n",
            "9\n"
          ]
        }
      ]
    },
    {
      "cell_type": "code",
      "execution_count": null,
      "metadata": {
        "colab": {
          "base_uri": "https://localhost:8080/"
        },
        "id": "hs-8taaZ79ao",
        "outputId": "345a5294-ad77-44f7-b94d-f7420a3afcca"
      },
      "outputs": [
        {
          "name": "stdout",
          "output_type": "stream",
          "text": [
            "Enter the value of 'n' for the first 'n' even numbers: 3\n",
            "2\n",
            "4\n",
            "6\n"
          ]
        }
      ],
      "source": [
        "#51\n",
        "def print_first_n_even_numbers(n):\n",
        "    count = 0\n",
        "    number = 2\n",
        "\n",
        "    while count < n:\n",
        "        print(number)\n",
        "        number += 2\n",
        "        count += 1\n",
        "\n",
        "def main():\n",
        "\n",
        "    n = int(input(\"Enter the value of 'n' for the first 'n' even numbers: \"))\n",
        "    print_first_n_even_numbers(n)\n",
        "\n",
        "if __name__ == \"__main__\":\n",
        "    main()\n"
      ]
    },
    {
      "cell_type": "code",
      "source": [
        "#51\n",
        "n=int(input(\"enter a number\"))\n",
        "for i in range(0,2*n):\n",
        "  if(i%2==0):\n",
        "    print(i)"
      ],
      "metadata": {
        "colab": {
          "base_uri": "https://localhost:8080/"
        },
        "id": "qxQYh6dAjO-T",
        "outputId": "cdcbf6e9-be5e-4584-dcfb-417321869843"
      },
      "execution_count": null,
      "outputs": [
        {
          "output_type": "stream",
          "name": "stdout",
          "text": [
            "enter a number5\n",
            "0\n",
            "2\n",
            "4\n",
            "6\n",
            "8\n"
          ]
        }
      ]
    },
    {
      "cell_type": "code",
      "execution_count": null,
      "metadata": {
        "colab": {
          "base_uri": "https://localhost:8080/"
        },
        "id": "VEupTPB_8Nh-",
        "outputId": "c62048c6-ea10-41be-e183-e61c196a9a93"
      },
      "outputs": [
        {
          "name": "stdout",
          "output_type": "stream",
          "text": [
            "Enter the first term (a) of the AP series: 9\n",
            "Enter the common difference (d) of the AP series: 5\n",
            "Enter the number of terms (n) in the AP series: 6\n",
            "Term 1: 9\n",
            "Term 2: 14\n",
            "Term 3: 19\n",
            "Term 4: 24\n",
            "Term 5: 29\n",
            "Term 6: 34\n"
          ]
        }
      ],
      "source": [
        "#52\n",
        "def print_ap_series(a, d, n):\n",
        "    for i in range(1, n + 1):\n",
        "        term = a + (i - 1) * d\n",
        "        print(f\"Term {i}: {term}\")\n",
        "\n",
        "def main():\n",
        "\n",
        "    a = int(input(\"Enter the first term (a) of the AP series: \"))\n",
        "    d = int(input(\"Enter the common difference (d) of the AP series: \"))\n",
        "    n = int(input(\"Enter the number of terms (n) in the AP series: \"))\n",
        "\n",
        "    print_ap_series(a, d, n)\n",
        "\n",
        "if __name__ == \"__main__\":\n",
        "    main()\n"
      ]
    },
    {
      "cell_type": "code",
      "source": [
        "#52\n",
        "a=int(input(\"enter a first number\"))\n",
        "d=int(input(\"enter common diffrerence\"))\n",
        "n=int(input(\"enter a number of terms\"))\n",
        "t=a*(n-1)*d\n",
        "print(t)"
      ],
      "metadata": {
        "colab": {
          "base_uri": "https://localhost:8080/"
        },
        "id": "U5FCKNyPlb8M",
        "outputId": "8ded4668-590c-4334-a65b-aa47582fbcc4"
      },
      "execution_count": null,
      "outputs": [
        {
          "output_type": "stream",
          "name": "stdout",
          "text": [
            "enter a first number2\n",
            "enter common diffrerence3\n",
            "enter a number of terms20\n",
            "114\n"
          ]
        }
      ]
    },
    {
      "cell_type": "code",
      "source": [],
      "metadata": {
        "id": "rlljhNzkjoFo"
      },
      "execution_count": null,
      "outputs": []
    },
    {
      "cell_type": "code",
      "execution_count": null,
      "metadata": {
        "colab": {
          "base_uri": "https://localhost:8080/"
        },
        "id": "MJYJ4ZB68iLe",
        "outputId": "c183ac32-e944-4624-e8fb-768cec0529bc"
      },
      "outputs": [
        {
          "name": "stdout",
          "output_type": "stream",
          "text": [
            "Enter the value of n: 5\n",
            "Prime Numbers Series till 5: [2, 3, 5]\n"
          ]
        }
      ],
      "source": [
        "#53\n",
        "def is_prime(num):\n",
        "    if num < 2:\n",
        "        return False\n",
        "    for i in range(2, int(num**0.5) + 1):\n",
        "        if num % i == 0:\n",
        "            return False\n",
        "    return True\n",
        "\n",
        "def print_prime_series(n):\n",
        "    prime_series = [num for num in range(2, n + 1) if is_prime(num)]\n",
        "    print(f\"Prime Numbers Series till {n}: {prime_series}\")\n",
        "\n",
        "def main():\n",
        "\n",
        "    n = int(input(\"Enter the value of n: \"))\n",
        "\n",
        "\n",
        "    print_prime_series(n)\n",
        "\n",
        "if __name__ == \"__main__\":\n",
        "    main()\n"
      ]
    },
    {
      "cell_type": "code",
      "execution_count": null,
      "metadata": {
        "colab": {
          "base_uri": "https://localhost:8080/"
        },
        "id": "tCCmOaIR807S",
        "outputId": "b54b1dc1-dc74-4c7d-da2e-ab6757696958"
      },
      "outputs": [
        {
          "name": "stdout",
          "output_type": "stream",
          "text": [
            "Enter the value of n: 5\n",
            "Natural Numbers Series till 5: [1, 2, 3, 4, 5]\n",
            "Sum of Natural Numbers till 5: 15\n"
          ]
        }
      ],
      "source": [
        "#54\n",
        "def print_natural_numbers_and_sum(n):\n",
        "    natural_numbers = list(range(1, n + 1))\n",
        "    sum_of_naturals = sum(natural_numbers)\n",
        "\n",
        "    print(f\"Natural Numbers Series till {n}: {natural_numbers}\")\n",
        "    print(f\"Sum of Natural Numbers till {n}: {sum_of_naturals}\")\n",
        "\n",
        "def main():\n",
        "\n",
        "    n = int(input(\"Enter the value of n: \"))\n",
        "\n",
        "\n",
        "    print_natural_numbers_and_sum(n)\n",
        "\n",
        "if __name__ == \"__main__\":\n",
        "    main()\n"
      ]
    },
    {
      "cell_type": "code",
      "execution_count": null,
      "metadata": {
        "colab": {
          "base_uri": "https://localhost:8080/"
        },
        "id": "YyOCeFmR8-ax",
        "outputId": "7a4fa1c5-1bd9-4ccf-f171-ecbb369c75c3"
      },
      "outputs": [
        {
          "name": "stdout",
          "output_type": "stream",
          "text": [
            "Enter the value of n: 9\n",
            "Even Series till 9: [2, 4, 6, 8]\n",
            "Sum of Even Numbers till 9: 20\n",
            "Total Even Numbers till 9: 4\n"
          ]
        }
      ],
      "source": [
        "#55\n",
        "def even_series_and_sum(n):\n",
        "    even_numbers = [num for num in range(2, n + 1, 2)]\n",
        "    sum_of_evens = sum(even_numbers)\n",
        "    total_evens = len(even_numbers)\n",
        "\n",
        "    print(f\"Even Series till {n}: {even_numbers}\")\n",
        "    print(f\"Sum of Even Numbers till {n}: {sum_of_evens}\")\n",
        "    print(f\"Total Even Numbers till {n}: {total_evens}\")\n",
        "\n",
        "def main():\n",
        "\n",
        "    n = int(input(\"Enter the value of n: \"))\n",
        "\n",
        "\n",
        "    even_series_and_sum(n)\n",
        "\n",
        "if __name__ == \"__main__\":\n",
        "    main()\n"
      ]
    },
    {
      "cell_type": "code",
      "execution_count": null,
      "metadata": {
        "colab": {
          "base_uri": "https://localhost:8080/"
        },
        "id": "oiFBEWRZ9cW9",
        "outputId": "6602707e-6327-4cd6-fe1f-5da4ad289e2c"
      },
      "outputs": [
        {
          "name": "stdout",
          "output_type": "stream",
          "text": [
            "Enter the value of n: 9\n",
            "Even Series till 9: [2, 4, 6, 8]\n",
            "Sum of Even Numbers till 9: 20\n",
            "Total Even Numbers till 9: 4\n"
          ]
        }
      ],
      "source": [
        "#56\n",
        "def even_series_and_sum(n):\n",
        "    even_numbers = [num for num in range(2, n + 1, 2)]\n",
        "    sum_of_evens = sum(even_numbers)\n",
        "    total_evens = len(even_numbers)\n",
        "\n",
        "    print(f\"Even Series till {n}: {even_numbers}\")\n",
        "    print(f\"Sum of Even Numbers till {n}: {sum_of_evens}\")\n",
        "    print(f\"Total Even Numbers till {n}: {total_evens}\")\n",
        "\n",
        "def main():\n",
        "\n",
        "    n = int(input(\"Enter the value of n: \"))\n",
        "\n",
        "\n",
        "    even_series_and_sum(n)\n",
        "\n",
        "if __name__ == \"__main__\":\n",
        "    main()\n"
      ]
    },
    {
      "cell_type": "code",
      "execution_count": null,
      "metadata": {
        "colab": {
          "base_uri": "https://localhost:8080/"
        },
        "id": "NyjrVkuv9mP9",
        "outputId": "cd7bbc2e-36db-4187-e1c4-7f363e3559c0"
      },
      "outputs": [
        {
          "name": "stdout",
          "output_type": "stream",
          "text": [
            "Enter the value of n: 5\n",
            "Odd Series till 5: [1, 3, 5]\n",
            "Sum of Odd Numbers till 5: 9\n",
            "Total Odd Numbers till 5: 3\n"
          ]
        }
      ],
      "source": [
        "#57\n",
        "def odd_series_and_sum(n):\n",
        "    odd_numbers = [num for num in range(1, n + 1, 2)]\n",
        "    sum_of_odds = sum(odd_numbers)\n",
        "    total_odds = len(odd_numbers)\n",
        "\n",
        "    print(f\"Odd Series till {n}: {odd_numbers}\")\n",
        "    print(f\"Sum of Odd Numbers till {n}: {sum_of_odds}\")\n",
        "    print(f\"Total Odd Numbers till {n}: {total_odds}\")\n",
        "\n",
        "def main():\n",
        "\n",
        "    n = int(input(\"Enter the value of n: \"))\n",
        "\n",
        "\n",
        "    odd_series_and_sum(n)\n",
        "\n",
        "if __name__ == \"__main__\":\n",
        "    main()\n"
      ]
    },
    {
      "cell_type": "code",
      "execution_count": null,
      "metadata": {
        "colab": {
          "base_uri": "https://localhost:8080/"
        },
        "id": "s3osb9Ky9vU9",
        "outputId": "049edc14-cbdd-4394-fd8d-3d024c184d33"
      },
      "outputs": [
        {
          "name": "stdout",
          "output_type": "stream",
          "text": [
            "1\n",
            "2\n",
            "Talent\n",
            "4\n",
            "Next\n",
            "Talent\n",
            "7\n",
            "8\n",
            "Talent\n",
            "Next\n",
            "11\n",
            "Talent\n",
            "13\n",
            "14\n",
            "Talent Next\n",
            "16\n",
            "17\n",
            "Talent\n",
            "19\n",
            "Next\n",
            "Talent\n",
            "22\n",
            "23\n",
            "Talent\n",
            "Next\n",
            "26\n",
            "Talent\n",
            "28\n",
            "29\n",
            "Talent Next\n",
            "31\n",
            "32\n",
            "Talent\n",
            "34\n",
            "Next\n",
            "Talent\n",
            "37\n",
            "38\n",
            "Talent\n",
            "Next\n",
            "41\n",
            "Talent\n",
            "43\n",
            "44\n",
            "Talent Next\n",
            "46\n",
            "47\n",
            "Talent\n",
            "49\n",
            "Next\n",
            "Talent\n",
            "52\n",
            "53\n",
            "Talent\n",
            "Next\n",
            "56\n",
            "Talent\n",
            "58\n",
            "59\n",
            "Talent Next\n",
            "61\n",
            "62\n",
            "Talent\n",
            "64\n",
            "Next\n",
            "Talent\n",
            "67\n",
            "68\n",
            "Talent\n",
            "Next\n",
            "71\n",
            "Talent\n",
            "73\n",
            "74\n",
            "Talent Next\n",
            "76\n",
            "77\n",
            "Talent\n",
            "79\n",
            "Next\n",
            "Talent\n",
            "82\n",
            "83\n",
            "Talent\n",
            "Next\n",
            "86\n",
            "Talent\n",
            "88\n",
            "89\n",
            "Talent Next\n",
            "91\n",
            "92\n",
            "Talent\n",
            "94\n",
            "Next\n",
            "Talent\n",
            "97\n",
            "98\n",
            "Talent\n",
            "Next\n"
          ]
        }
      ],
      "source": [
        "#58\n",
        "def print_number_series():\n",
        "    for num in range(1, 101):\n",
        "        if num % 3 == 0 and num % 5 == 0:\n",
        "            print(\"Talent Next\")\n",
        "        elif num % 3 == 0:\n",
        "            print(\"Talent\")\n",
        "        elif num % 5 == 0:\n",
        "            print(\"Next\")\n",
        "        else:\n",
        "            print(num)\n",
        "\n",
        "def main():\n",
        "\n",
        "    print_number_series()\n",
        "\n",
        "if __name__ == \"__main__\":\n",
        "    main()\n"
      ]
    },
    {
      "cell_type": "code",
      "execution_count": null,
      "metadata": {
        "colab": {
          "base_uri": "https://localhost:8080/"
        },
        "id": "7i2caygd-mO5",
        "outputId": "f15c56de-a154-46e1-e97c-f63d2e6ae23e"
      },
      "outputs": [
        {
          "name": "stdout",
          "output_type": "stream",
          "text": [
            "Enter the numbers separated by commas: 4\n",
            "Maximum: 4\n",
            "Minimum: 4\n",
            "Average: 4.0\n"
          ]
        }
      ],
      "source": [
        "#59\n",
        "def calculate_stats(numbers):\n",
        "    if not numbers:\n",
        "        print(\"No numbers provided.\")\n",
        "        return\n",
        "\n",
        "    maximum = max(numbers)\n",
        "    minimum = min(numbers)\n",
        "    average = sum(numbers) / len(numbers)\n",
        "\n",
        "    print(f\"Maximum: {maximum}\")\n",
        "    print(f\"Minimum: {minimum}\")\n",
        "    print(f\"Average: {average}\")\n",
        "\n",
        "def main():\n",
        "    # Input the list of numbers (comma-separated)\n",
        "    numbers = [int(x) for x in input(\"Enter the numbers separated by commas: \").split(\",\")]\n",
        "\n",
        "    # Calculate Maximum, Minimum, and Average\n",
        "    calculate_stats(numbers)\n",
        "\n",
        "if __name__ == \"__main__\":\n",
        "    main()\n"
      ]
    },
    {
      "cell_type": "code",
      "execution_count": null,
      "metadata": {
        "id": "9nqMaugd_NX3",
        "colab": {
          "base_uri": "https://localhost:8080/"
        },
        "outputId": "8d473e94-6b69-4443-cf44-45378a1623ba"
      },
      "outputs": [
        {
          "output_type": "stream",
          "name": "stdout",
          "text": [
            "Time Conversion: 2.0 minutes\n",
            "Distance Conversion: 16.0934 kilometers\n"
          ]
        }
      ],
      "source": [
        "#60\n",
        "def convert_time(value, unit_from, unit_to):\n",
        "    if unit_from == \"seconds\":\n",
        "        if unit_to == \"minutes\":\n",
        "            return value / 60\n",
        "        elif unit_to == \"hours\":\n",
        "            return value / 3600\n",
        "    elif unit_from == \"minutes\":\n",
        "        if unit_to == \"seconds\":\n",
        "            return value * 60\n",
        "        elif unit_to == \"hours\":\n",
        "            return value / 60\n",
        "    elif unit_from == \"hours\":\n",
        "        if unit_to == \"seconds\":\n",
        "            return value * 3600\n",
        "        elif unit_to == \"minutes\":\n",
        "            return value * 60\n",
        "\n",
        "def convert_distance(value, unit_from, unit_to):\n",
        "    if unit_from == \"miles\":\n",
        "        if unit_to == \"kilometers\":\n",
        "            return value * 1.60934\n",
        "    elif unit_from == \"kilometers\":\n",
        "        if unit_to == \"miles\":\n",
        "            return value / 1.60934\n",
        "\n",
        "# Similar functions for area, volume, and temperature conversion\n",
        "\n",
        "# Example usage\n",
        "time_result = convert_time(120, \"seconds\", \"minutes\")\n",
        "print(\"Time Conversion:\", time_result, \"minutes\")\n",
        "\n",
        "distance_result = convert_distance(10, \"miles\", \"kilometers\")\n",
        "print(\"Distance Conversion:\", distance_result, \"kilometers\")\n"
      ]
    },
    {
      "cell_type": "code",
      "execution_count": null,
      "metadata": {
        "colab": {
          "base_uri": "https://localhost:8080/"
        },
        "id": "vw7Gwsf0_OxI",
        "outputId": "0ed8290f-03a5-4fa4-cd9a-a8cef161c97e"
      },
      "outputs": [
        {
          "name": "stdout",
          "output_type": "stream",
          "text": [
            "Enter the value of n: 5\n",
            "Sum of the series 1 + 2 + 4 + 8 + ... + 2^5: 63\n"
          ]
        }
      ],
      "source": [
        "#61\n",
        "def sum_of_powers_of_2(n):\n",
        "    series_sum = sum([2**i for i in range(n + 1)])\n",
        "    print(f\"Sum of the series 1 + 2 + 4 + 8 + ... + 2^{n}: {series_sum}\")\n",
        "\n",
        "def main():\n",
        "\n",
        "    n = int(input(\"Enter the value of n: \"))\n",
        "\n",
        "    sum_of_powers_of_2(n)\n",
        "\n",
        "if __name__ == \"__main__\":\n",
        "    main()\n"
      ]
    },
    {
      "cell_type": "code",
      "execution_count": null,
      "metadata": {
        "colab": {
          "base_uri": "https://localhost:8080/"
        },
        "id": "xtnTDCuR_XOq",
        "outputId": "2bedb45a-66fb-46cc-b16a-8816b4d29111"
      },
      "outputs": [
        {
          "name": "stdout",
          "output_type": "stream",
          "text": [
            "Enter the value of x: 4\n",
            "Enter the value of n: 4\n",
            "Result of the series 1 + x + x^2 + ... + x^4 for x = 4.0: 341.0\n"
          ]
        }
      ],
      "source": [
        "#62\n",
        "def evaluate_polynomial_series(x, n):\n",
        "    series_sum = sum([x**i for i in range(n + 1)])\n",
        "    print(f\"Result of the series 1 + x + x^2 + ... + x^{n} for x = {x}: {series_sum}\")\n",
        "\n",
        "def main():\n",
        "\n",
        "    x = float(input(\"Enter the value of x: \"))\n",
        "    n = int(input(\"Enter the value of n: \"))\n",
        "\n",
        "\n",
        "    evaluate_polynomial_series(x, n)\n",
        "\n",
        "if __name__ == \"__main__\":\n",
        "    main()\n"
      ]
    },
    {
      "cell_type": "code",
      "execution_count": null,
      "metadata": {
        "colab": {
          "base_uri": "https://localhost:8080/"
        },
        "id": "qy9Yr25H_gr0",
        "outputId": "1dfad8b6-4f86-43a4-aa05-2c3662d7dc09"
      },
      "outputs": [
        {
          "name": "stdout",
          "output_type": "stream",
          "text": [
            "Enter the value of x: 4\n",
            "Enter the value of n: 4\n",
            "Result of the series: 1 + x + x^2/2 + x^3/3 + ... + x^4/n for x = 4.0: 24.333333333333332\n"
          ]
        }
      ],
      "source": [
        "#63\n",
        "def evaluate_series_63(x, n):\n",
        "    series_sum = sum([(x**i) / (i+1) for i in range(n)])\n",
        "    print(f\"Result of the series: 1 + x + x^2/2 + x^3/3 + ... + x^{n}/n for x = {x}: {series_sum}\")\n",
        "\n",
        "def main():\n",
        "\n",
        "    x = float(input(\"Enter the value of x: \"))\n",
        "    n = int(input(\"Enter the value of n: \"))\n",
        "\n",
        "    evaluate_series_63(x, n)\n",
        "\n",
        "if __name__ == \"__main__\":\n",
        "    main()\n"
      ]
    },
    {
      "cell_type": "code",
      "execution_count": null,
      "metadata": {
        "colab": {
          "base_uri": "https://localhost:8080/"
        },
        "id": "TLDs6Yfj_8kf",
        "outputId": "2ea23c4a-94f4-408f-e14d-fd2d855eccc4"
      },
      "outputs": [
        {
          "name": "stdout",
          "output_type": "stream",
          "text": [
            "Enter the value of x: 4\n",
            "Enter the value of n: 5\n",
            "Result of the series: 1 - x + x^2 - x^3/3 + x^4/4 - ... + (-1)^5 x^5/n for x = 4.0: 39.53333333333333\n"
          ]
        }
      ],
      "source": [
        "#64\n",
        "def evaluate_series_64(x, n):\n",
        "    series_sum = sum([(-1)**i * (x**i) / (i+1) for i in range(n)])\n",
        "    print(f\"Result of the series: 1 - x + x^2 - x^3/3 + x^4/4 - ... + (-1)^{n} x^{n}/n for x = {x}: {series_sum}\")\n",
        "\n",
        "def main():\n",
        "\n",
        "    x = float(input(\"Enter the value of x: \"))\n",
        "    n = int(input(\"Enter the value of n: \"))\n",
        "\n",
        "\n",
        "    evaluate_series_64(x, n)\n",
        "\n",
        "if __name__ == \"__main__\":\n",
        "    main()\n"
      ]
    },
    {
      "cell_type": "code",
      "execution_count": null,
      "metadata": {
        "colab": {
          "base_uri": "https://localhost:8080/"
        },
        "id": "l7Nl2IkgAHS-",
        "outputId": "8f59c411-4f9a-478f-ae8b-29e17bd09d25"
      },
      "outputs": [
        {
          "name": "stdout",
          "output_type": "stream",
          "text": [
            "Enter the value of x: 4\n",
            "Enter the number of terms (n): 4\n",
            "Logarithm is defined only for 0 < x < 1.\n",
            "Sine(4.0) using 4 terms: -1.3841269841269837\n",
            "Cosine(4.0) using 4 terms: -2.022222222222223\n",
            "Log(4.0) using 4 terms: None\n"
          ]
        }
      ],
      "source": [
        "#65\n",
        "import math\n",
        "\n",
        "def calculate_sine(x, n):\n",
        "    sine_value = sum([((-1)**i) * (x**(2*i + 1)) / math.factorial(2*i + 1) for i in range(n)])\n",
        "    return sine_value\n",
        "\n",
        "def calculate_cosine(x, n):\n",
        "    cosine_value = sum([((-1)**i) * (x**(2*i)) / math.factorial(2*i) for i in range(n)])\n",
        "    return cosine_value\n",
        "\n",
        "def calculate_log(x, n):\n",
        "    if x > 0 and x < 1:\n",
        "        log_value = sum([((-1)**(i-1)) * ((1 - x)**i) / i for i in range(1, n)])\n",
        "        return log_value\n",
        "    else:\n",
        "        print(\"Logarithm is defined only for 0 < x < 1.\")\n",
        "\n",
        "def main():\n",
        "    x = float(input(\"Enter the value of x: \"))\n",
        "    n = int(input(\"Enter the number of terms (n): \"))\n",
        "\n",
        "    sine_result = calculate_sine(x, n)\n",
        "    cosine_result = calculate_cosine(x, n)\n",
        "    log_result = calculate_log(x, n)\n",
        "\n",
        "    print(f\"Sine({x}) using {n} terms: {sine_result}\")\n",
        "    print(f\"Cosine({x}) using {n} terms: {cosine_result}\")\n",
        "    print(f\"Log({x}) using {n} terms: {log_result}\")\n",
        "\n",
        "if __name__ == \"__main__\":\n",
        "    main()\n"
      ]
    },
    {
      "cell_type": "code",
      "execution_count": null,
      "metadata": {
        "colab": {
          "base_uri": "https://localhost:8080/"
        },
        "id": "muFuio0gAP52",
        "outputId": "06cb1136-80af-42e4-f6f9-713c1964fa67"
      },
      "outputs": [
        {
          "name": "stdout",
          "output_type": "stream",
          "text": [
            "Enter the value of x: 5\n",
            "Series of Odd Numbers till 5: [1, 3, 5]\n"
          ]
        }
      ],
      "source": [
        "#66\n",
        "def print_odd_series(x):\n",
        "    if x <= 30:\n",
        "        odd_series = [num for num in range(1, x + 1, 2)]\n",
        "        print(f\"Series of Odd Numbers till {x}: {odd_series}\")\n",
        "    else:\n",
        "        print(\"Error: x should be less than or equal to 30.\")\n",
        "\n",
        "def main():\n",
        "\n",
        "    x = int(input(\"Enter the value of x: \"))\n",
        "\n",
        "\n",
        "    print_odd_series(x)\n",
        "\n",
        "if __name__ == \"__main__\":\n",
        "    main()\n"
      ]
    },
    {
      "cell_type": "code",
      "execution_count": null,
      "metadata": {
        "colab": {
          "base_uri": "https://localhost:8080/"
        },
        "id": "Mt-kFi57AZH0",
        "outputId": "bafcac97-9c82-41ff-a327-b76cc1482d2b"
      },
      "outputs": [
        {
          "name": "stdout",
          "output_type": "stream",
          "text": [
            "Enter the base: 4\n",
            "Enter the exponent: 4\n",
            "4.0^4 is: 256.0\n"
          ]
        }
      ],
      "source": [
        "#67\n",
        "def calculate_power(base, exponent):\n",
        "    result = 1\n",
        "    for _ in range(exponent):\n",
        "        result *= base\n",
        "    return result\n",
        "\n",
        "def main():\n",
        "    base = float(input(\"Enter the base: \"))\n",
        "    exponent = int(input(\"Enter the exponent: \"))\n",
        "\n",
        "    power_result = calculate_power(base, exponent)\n",
        "\n",
        "    print(f\"{base}^{exponent} is: {power_result}\")\n",
        "\n",
        "if __name__ == \"__main__\":\n",
        "    main()\n"
      ]
    },
    {
      "cell_type": "code",
      "execution_count": null,
      "metadata": {
        "colab": {
          "base_uri": "https://localhost:8080/"
        },
        "id": "bNNoirGFAixD",
        "outputId": "b0937fc7-8162-48f1-8160-90fe45aad93c"
      },
      "outputs": [
        {
          "name": "stdout",
          "output_type": "stream",
          "text": [
            "Enter the number: 4\n",
            "Factors of 4: [1, 2, 4]\n",
            "Total number of factors: 3\n"
          ]
        }
      ],
      "source": [
        "#68\n",
        "def print_factors_and_count(number):\n",
        "    factors = [i for i in range(1, number + 1) if number % i == 0]\n",
        "    total_factors = len(factors)\n",
        "\n",
        "    print(f\"Factors of {number}: {factors}\")\n",
        "    print(f\"Total number of factors: {total_factors}\")\n",
        "\n",
        "def main():\n",
        "\n",
        "    number = int(input(\"Enter the number: \"))\n",
        "\n",
        "\n",
        "    print_factors_and_count(number)\n",
        "\n",
        "if __name__ == \"__main__\":\n",
        "    main()\n"
      ]
    },
    {
      "cell_type": "code",
      "execution_count": null,
      "metadata": {
        "colab": {
          "base_uri": "https://localhost:8080/"
        },
        "id": "1Ji9EF2QAqmM",
        "outputId": "559a772c-a9ae-4a87-9754-5e3a0f041d0a"
      },
      "outputs": [
        {
          "name": "stdout",
          "output_type": "stream",
          "text": [
            "Enter the number: 9\n",
            "Sum of digits of 9: 9\n"
          ]
        }
      ],
      "source": [
        "#69\n",
        "def sum_of_digits(number):\n",
        "    digit_sum = sum([int(digit) for digit in str(abs(number))])\n",
        "    print(f\"Sum of digits of {number}: {digit_sum}\")\n",
        "\n",
        "def main():\n",
        "\n",
        "    number = int(input(\"Enter the number: \"))\n",
        "\n",
        "\n",
        "    sum_of_digits(number)\n",
        "\n",
        "if __name__ == \"__main__\":\n",
        "    main()\n"
      ]
    },
    {
      "cell_type": "code",
      "execution_count": null,
      "metadata": {
        "colab": {
          "base_uri": "https://localhost:8080/"
        },
        "id": "i_6buf_GA2Zk",
        "outputId": "d3d6d5d3-d6dd-4892-a995-c12fe6aa3769"
      },
      "outputs": [
        {
          "name": "stdout",
          "output_type": "stream",
          "text": [
            "Enter the number: 4\n",
            "Sum of digits until a single digit: 4\n"
          ]
        }
      ],
      "source": [
        "#70\n",
        "def sum_of_digits_until_single_digit(number):\n",
        "    while number >= 10:\n",
        "        number = sum([int(digit) for digit in str(number)])\n",
        "    print(f\"Sum of digits until a single digit: {number}\")\n",
        "\n",
        "def main():\n",
        "\n",
        "    number = int(input(\"Enter the number: \"))\n",
        "\n",
        "\n",
        "    sum_of_digits_until_single_digit(number)\n",
        "\n",
        "if __name__ == \"__main__\":\n",
        "    main()\n"
      ]
    },
    {
      "cell_type": "code",
      "execution_count": null,
      "metadata": {
        "colab": {
          "base_uri": "https://localhost:8080/"
        },
        "id": "bSQr1duCEG6q",
        "outputId": "117bd36a-1d07-4a65-eb82-e4f26c550bd9"
      },
      "outputs": [
        {
          "name": "stdout",
          "output_type": "stream",
          "text": [
            "Sum of squares of digits in 123: 14\n"
          ]
        }
      ],
      "source": [
        "#71\n",
        "def sum_of_squares_of_digits(number):\n",
        "    return sum(int(digit)**2 for digit in str(number))\n",
        "number = 123\n",
        "result = sum_of_squares_of_digits(number)\n",
        "print(f\"Sum of squares of digits in {number}: {result}\")\n"
      ]
    },
    {
      "cell_type": "code",
      "execution_count": null,
      "metadata": {
        "colab": {
          "base_uri": "https://localhost:8080/"
        },
        "id": "Qt98Mz-EEuz3",
        "outputId": "e1edaf81-adbe-4d7f-9704-c0a3a06dc4d6"
      },
      "outputs": [
        {
          "name": "stdout",
          "output_type": "stream",
          "text": [
            "17 is prime: True\n"
          ]
        }
      ],
      "source": [
        "#72\n",
        "def is_prime(number):\n",
        "    if number < 2:\n",
        "        return False\n",
        "    for i in range(2, int(number**0.5) + 1):\n",
        "        if number % i == 0:\n",
        "            return False\n",
        "    return True\n",
        "number = 17\n",
        "result = is_prime(number)\n",
        "print(f\"{number} is prime: {result}\")\n",
        "\n",
        "\n",
        "\n",
        "\n"
      ]
    },
    {
      "cell_type": "code",
      "execution_count": null,
      "metadata": {
        "colab": {
          "base_uri": "https://localhost:8080/"
        },
        "id": "pAvI8WrME9TU",
        "outputId": "0355a13f-c1ee-4677-a29c-1423d65086f7"
      },
      "outputs": [
        {
          "name": "stdout",
          "output_type": "stream",
          "text": [
            "Reverse of 12345: 54321\n"
          ]
        }
      ],
      "source": [
        "#73\n",
        "def reverse_number(number):\n",
        "    return int(str(number)[::-1])\n",
        "number = 12345\n",
        "result = reverse_number(number)\n",
        "print(f\"Reverse of {number}: {result}\")\n"
      ]
    },
    {
      "cell_type": "code",
      "execution_count": null,
      "metadata": {
        "colab": {
          "base_uri": "https://localhost:8080/"
        },
        "id": "1ksW2TXrFGPz",
        "outputId": "1b3c8652-d1c8-4830-d5c9-0f1e7d158d73"
      },
      "outputs": [
        {
          "name": "stdout",
          "output_type": "stream",
          "text": [
            "1221 is palindrome: True\n"
          ]
        }
      ],
      "source": [
        "#74\n",
        "def is_palindrome(number):\n",
        "    return str(number) == str(number)[::-1]\n",
        "number = 1221\n",
        "result = is_palindrome(number)\n",
        "print(f\"{number} is palindrome: {result}\")\n"
      ]
    },
    {
      "cell_type": "code",
      "execution_count": null,
      "metadata": {
        "colab": {
          "base_uri": "https://localhost:8080/"
        },
        "id": "sixQsNA8Gj7D",
        "outputId": "821d3e66-cc26-4f22-aea4-53909f2d72ac"
      },
      "outputs": [
        {
          "name": "stdout",
          "output_type": "stream",
          "text": [
            "Number of digits in 45678: 5\n"
          ]
        }
      ],
      "source": [
        "#75\n",
        "def count_digits(number):\n",
        "    return len(str(number))\n",
        "number = 45678\n",
        "result = count_digits(number)\n",
        "print(f\"Number of digits in {number}: {result}\")\n"
      ]
    },
    {
      "cell_type": "code",
      "execution_count": null,
      "metadata": {
        "colab": {
          "base_uri": "https://localhost:8080/"
        },
        "id": "gXJ0C3TAGtqM",
        "outputId": "53e99270-1c4e-41fd-98bc-3ae70219587c"
      },
      "outputs": [
        {
          "name": "stdout",
          "output_type": "stream",
          "text": [
            "Frequency of 4 in 1223334444: 4\n"
          ]
        }
      ],
      "source": [
        "#76\n",
        "def digit_frequency(number, digit):\n",
        "    return str(number).count(str(digit))\n",
        "number = 1223334444\n",
        "digit = 4\n",
        "result = digit_frequency(number, digit)\n",
        "print(f\"Frequency of {digit} in {number}: {result}\")\n"
      ]
    },
    {
      "cell_type": "code",
      "execution_count": null,
      "metadata": {
        "colab": {
          "base_uri": "https://localhost:8080/"
        },
        "id": "qrelQNZVG25S",
        "outputId": "97d2a35c-7ef4-4621-ac1a-7423cea8f8cd"
      },
      "outputs": [
        {
          "name": "stdout",
          "output_type": "stream",
          "text": [
            "69 is a perfect number: False\n"
          ]
        }
      ],
      "source": [
        "#77\n",
        "def is_perfect_number(number):\n",
        "    divisors_sum = sum(i for i in range(1, number) if number % i == 0)\n",
        "    return divisors_sum == number\n",
        "number = 69\n",
        "result = is_perfect_number(number)\n",
        "print(f\"{number} is a perfect number: {result}\")\n"
      ]
    },
    {
      "cell_type": "code",
      "execution_count": null,
      "metadata": {
        "colab": {
          "base_uri": "https://localhost:8080/"
        },
        "id": "QirpXUhCHD4_",
        "outputId": "8e4bb2b7-04b4-47ec-b445-70d5181dcc20"
      },
      "outputs": [
        {
          "name": "stdout",
          "output_type": "stream",
          "text": [
            "Factorial of 5: 120\n"
          ]
        }
      ],
      "source": [
        "#78\n",
        "def factorial(n):\n",
        "    return 1 if n == 0 else n * factorial(n-1)\n",
        "number = 5\n",
        "result = factorial(number)\n",
        "print(f\"Factorial of {number}: {result}\")\n"
      ]
    },
    {
      "cell_type": "code",
      "execution_count": null,
      "metadata": {
        "colab": {
          "base_uri": "https://localhost:8080/"
        },
        "id": "Kv74vqMrrJSZ",
        "outputId": "17dc1af5-ad2a-45f5-9459-f6ebe3d1e34f"
      },
      "outputs": [
        {
          "name": "stdout",
          "output_type": "stream",
          "text": [
            "GCD of 12 and 18: 6\n",
            "LCM of 12 and 18: 36\n"
          ]
        }
      ],
      "source": [
        "#79\n",
        "import math\n",
        "\n",
        "def gcd(x, y):\n",
        "    return math.gcd(x, y)\n",
        "\n",
        "def lcm(x, y):\n",
        "    return x * y // gcd(x, y)\n",
        "num1, num2 = 12, 18\n",
        "result_gcd = gcd(num1, num2)\n",
        "result_lcm = lcm(num1, num2)\n",
        "print(f\"GCD of {num1} and {num2}: {result_gcd}\")\n",
        "print(f\"LCM of {num1} and {num2}: {result_lcm}\")\n"
      ]
    },
    {
      "cell_type": "code",
      "execution_count": null,
      "metadata": {
        "id": "rpLPt5cJrniV"
      },
      "outputs": [],
      "source": [
        "#80\n",
        "def fibonacci(n):\n",
        "    fib_sequence = [0, 1]\n",
        "    while len(fib_sequence) < n:\n",
        "        fib_sequence.append(fib_sequence[-1] + fib_sequence[-2])\n",
        "    return fib_sequence\n",
        "terms = 10\n",
        "result = fibonacci(terms)\n",
        "print(f\"First {terms} Fibonacci Numbers: {result}\")\n"
      ]
    },
    {
      "cell_type": "code",
      "execution_count": null,
      "metadata": {
        "colab": {
          "base_uri": "https://localhost:8080/"
        },
        "id": "A80YbjFsmv3_",
        "outputId": "7c03e375-eff4-41e4-972a-af5675554782"
      },
      "outputs": [
        {
          "name": "stdout",
          "output_type": "stream",
          "text": [
            "Enter the limit: 9\n",
            "3-5\n",
            "5-7\n"
          ]
        }
      ],
      "source": [
        "#81\n",
        "def is_prime(num):\n",
        "    if num < 2:\n",
        "        return False\n",
        "    for i in range(2, int(num**0.5) + 1):\n",
        "        if num % i == 0:\n",
        "            return False\n",
        "    return True\n",
        "def generate_twin_primes(limit):\n",
        "    twin_primes = []\n",
        "    for num in range(2, limit - 1):\n",
        "        if is_prime(num) and is_prime(num + 2):\n",
        "            twin_primes.append((num, num + 2))\n",
        "    return twin_primes\n",
        "def print_twin_primes(limit):\n",
        "    twin_primes = generate_twin_primes(limit)\n",
        "    for twin_prime in twin_primes:\n",
        "        print(f\"{twin_prime[0]}-{twin_prime[1]}\")\n",
        "limit = int(input(\"Enter the limit: \"))\n",
        "print_twin_primes(limit)\n"
      ]
    },
    {
      "cell_type": "code",
      "execution_count": null,
      "metadata": {
        "colab": {
          "base_uri": "https://localhost:8080/"
        },
        "id": "fBW_g1CkoglO",
        "outputId": "83d7a15e-583b-470b-9991-f49a8dc0a6bf"
      },
      "outputs": [
        {
          "name": "stdout",
          "output_type": "stream",
          "text": [
            "1253 is an Armstrong number: False\n",
            "1253 is an Armstrong number: False\n"
          ]
        }
      ],
      "source": [
        "#82\n",
        "def is_armstrong(num):\n",
        "    order = len(str(num))\n",
        "    sum = 0\n",
        "    temp = num\n",
        "    while temp > 0:\n",
        "        digit = temp % 10\n",
        "        sum += digit ** order\n",
        "        temp //= 10\n",
        "    return num == sum\n",
        "    num = 153\n",
        "print(f\"{num} is an Armstrong number: {is_armstrong(num)}\")\n",
        "num = 1253\n",
        "print(f\"{num} is an Armstrong number: {is_armstrong(num)}\")\n"
      ]
    },
    {
      "cell_type": "code",
      "execution_count": null,
      "metadata": {
        "colab": {
          "base_uri": "https://localhost:8080/"
        },
        "id": "ZY6mFNqbqG5M",
        "outputId": "e41309b2-5736-4397-f10e-31e229f1543c"
      },
      "outputs": [
        {
          "output_type": "stream",
          "name": "stdout",
          "text": [
            "2 * 1 = 2\n",
            "2 * 2 = 4\n",
            "2 * 3 = 6\n",
            "2 * 4 = 8\n",
            "2 * 5 = 10\n",
            "2 * 6 = 12\n",
            "2 * 7 = 14\n",
            "2 * 8 = 16\n",
            "2 * 9 = 18\n",
            "2 * 10 = 20\n"
          ]
        }
      ],
      "source": [
        "#83\n",
        "def display_multiplication_table(n):\n",
        "    for i in range(1, 11 ):\n",
        "        print(\"{} * {} = {}\".format(n, i, n * i))\n",
        "n = 2\n",
        "display_multiplication_table(n)"
      ]
    },
    {
      "cell_type": "code",
      "source": [
        "#84\n",
        "a=eval(input(\"enter the value a\"))\n",
        "b=eval(input(\"enter the value b\"))\n",
        "c=eval(input(\"enter the value c\"))\n",
        "avg=(n+n+n)/3\n",
        "print(\"the average of three numbers is\",avg)\n",
        "sum=n+n+n\n",
        "print(\"the sum of three numbers is\",sum)\n",
        "\n",
        "\n"
      ],
      "metadata": {
        "colab": {
          "base_uri": "https://localhost:8080/"
        },
        "id": "za3IlJAl6m_o",
        "outputId": "2e626fd5-5717-4c49-e1a2-a823a4211566"
      },
      "execution_count": null,
      "outputs": [
        {
          "output_type": "stream",
          "name": "stdout",
          "text": [
            "enter the value a4\n",
            "enter the value b5\n",
            "enter the value c5\n",
            "the average of three numbers is 2.0\n",
            "the sum of three numbers is 6\n"
          ]
        }
      ]
    },
    {
      "cell_type": "code",
      "source": [
        "#85\n",
        "def fibonacci(n):\n",
        "    if n <= 0:\n",
        "        return \"Invalid input\"\n",
        "    elif n == 1:\n",
        "        return 0\n",
        "    elif n == 2:\n",
        "        return 1\n",
        "    else:\n",
        "        a, b = 0, 1\n",
        "        for _ in range(2, n):\n",
        "            a, b = b, a + b\n",
        "        return b\n",
        "\n",
        "\n",
        "n = int(input(\"Enter the value of n: \"))\n",
        "print(\"The\", n, \"th Fibonacci number is:\", fibonacci(n))\n"
      ],
      "metadata": {
        "colab": {
          "base_uri": "https://localhost:8080/"
        },
        "id": "Wr0ffbFqObz2",
        "outputId": "69df128e-a1bc-42fc-bc42-db03cacc413f"
      },
      "execution_count": null,
      "outputs": [
        {
          "output_type": "stream",
          "name": "stdout",
          "text": [
            "Enter the value of n: 4\n",
            "The 4 th Fibonacci number is: 2\n"
          ]
        }
      ]
    },
    {
      "cell_type": "code",
      "source": [
        "#86\n",
        "def square_root(number, precision=0.0001):\n",
        "    if number < 0:\n",
        "        return \"Invalid input: Cannot find square root of a negative number\"\n",
        "\n",
        "    x = number\n",
        "    while True:\n",
        "        root = 0.5 * (x + number / x)\n",
        "        if abs(root - x) < precision:\n",
        "            return root\n",
        "        x = root\n",
        "\n",
        "\n",
        "num = float(input(\"Enter a number to find its square root: \"))\n",
        "print(\"Square root of\", num, \"is:\", square_root(num))\n"
      ],
      "metadata": {
        "colab": {
          "base_uri": "https://localhost:8080/"
        },
        "id": "8f-UtUumOgDp",
        "outputId": "5fd882ba-2ab9-48a2-e832-8d126af8ee76"
      },
      "execution_count": null,
      "outputs": [
        {
          "output_type": "stream",
          "name": "stdout",
          "text": [
            "Enter a number to find its square root: 4\n",
            "Square root of 4.0 is: 2.000000000000002\n"
          ]
        }
      ]
    },
    {
      "cell_type": "code",
      "source": [
        "#87\n",
        "def is_prime(num):\n",
        "    if num < 2:\n",
        "        return False\n",
        "    for i in range(2, int(num ** 0.5) + 1):\n",
        "        if num % i == 0:\n",
        "            return False\n",
        "    return True\n",
        "\n",
        "def prime_numbers_between(start, end):\n",
        "    return [num for num in range(max(start, 2), end) if is_prime(num)]\n",
        "\n",
        "\n",
        "start = int(input(\"Enter the start of the interval: \"))\n",
        "end = int(input(\"Enter the end of the interval: \"))\n",
        "print(\"Prime numbers between\", start, \"and\", end, \"are:\", prime_numbers_between(start, end))\n"
      ],
      "metadata": {
        "colab": {
          "base_uri": "https://localhost:8080/"
        },
        "id": "UracA3lJPAFU",
        "outputId": "9409d919-c4fd-47e4-9021-3562e087c209"
      },
      "execution_count": null,
      "outputs": [
        {
          "output_type": "stream",
          "name": "stdout",
          "text": [
            "Enter the start of the interval: 4\n",
            "Enter the end of the interval: 4\n",
            "Prime numbers between 4 and 4 are: []\n"
          ]
        }
      ]
    },
    {
      "cell_type": "code",
      "source": [
        "#88\n",
        "def find_largest_smallest_second_largest(num1, num2, num3):\n",
        "\n",
        "    largest = max(num1, num2, num3)\n",
        "\n",
        "\n",
        "    smallest = min(num1, num2, num3)\n",
        "\n",
        "\n",
        "    second_largest = num1 + num2 + num3 - largest - smallest\n",
        "\n",
        "    return largest, smallest, second_largest\n",
        "\n",
        "\n",
        "num1 = float(input(\"Enter the first number: \"))\n",
        "num2 = float(input(\"Enter the second number: \"))\n",
        "num3 = float(input(\"Enter the third number: \"))\n",
        "\n",
        "largest, smallest, second_largest = find_largest_smallest_second_largest(num1, num2, num3)\n",
        "print(\"Largest number:\", largest)\n",
        "print(\"Smallest number:\", smallest)\n",
        "print(\"Second largest number:\", second_largest)\n"
      ],
      "metadata": {
        "colab": {
          "base_uri": "https://localhost:8080/"
        },
        "id": "MWbPMLiDPYQ0",
        "outputId": "cd74555d-dc62-4e1a-ae3d-2dc406268d1c"
      },
      "execution_count": null,
      "outputs": [
        {
          "output_type": "stream",
          "name": "stdout",
          "text": [
            "Enter the first number: 4\n",
            "Enter the second number: 5\n",
            "Enter the third number: 6\n",
            "Largest number: 6.0\n",
            "Smallest number: 4.0\n",
            "Second largest number: 5.0\n"
          ]
        }
      ]
    },
    {
      "cell_type": "code",
      "source": [
        "#89\n",
        "def hcf(num1, num2):\n",
        "    while num2:\n",
        "        num1, num2 = num2, num1 % num2\n",
        "    return num1\n",
        "\n",
        "\n",
        "num1 = int(input(\"Enter the first number: \"))\n",
        "num2 = int(input(\"Enter the second number: \"))\n",
        "\n",
        "print(\"HCF of\", num1, \"and\", num2, \"is:\", hcf(num1, num2))\n"
      ],
      "metadata": {
        "colab": {
          "base_uri": "https://localhost:8080/"
        },
        "id": "NDuEgtaFPoIx",
        "outputId": "e312fdc9-7313-4072-cb06-b1920666964d"
      },
      "execution_count": null,
      "outputs": [
        {
          "output_type": "stream",
          "name": "stdout",
          "text": [
            "Enter the first number: 4\n",
            "Enter the second number: 8\n",
            "HCF of 4 and 8 is: 4\n"
          ]
        }
      ]
    },
    {
      "cell_type": "code",
      "source": [
        "#90\n",
        "a=int(input(\"enter the starting range\"))\n",
        "b=int(input(\"enter the ending range\"))\n",
        "\n",
        "for i in range(a,b):\n",
        "    j=i\n",
        "    summ=0\n",
        "    l=len(str(i))\n",
        "    while(i>0):\n",
        "        r=i%10\n",
        "        summ+=r**l\n",
        "        i//=10\n",
        "    if j==summ:\n",
        "        print(summ)"
      ],
      "metadata": {
        "colab": {
          "base_uri": "https://localhost:8080/"
        },
        "id": "jQO4UehNQNZF",
        "outputId": "52c91d1b-0973-497b-db7e-9705b6c9e949"
      },
      "execution_count": null,
      "outputs": [
        {
          "output_type": "stream",
          "name": "stdout",
          "text": [
            "enter the starting range4\n",
            "enter the ending range5\n",
            "4\n"
          ]
        }
      ]
    },
    {
      "cell_type": "code",
      "source": [
        "#91\n",
        "num=int(input(\"enter a number:\"))\n",
        "sum1=0\n",
        "temp=num\n",
        "while(num):\n",
        "  i=1\n",
        "  f=1\n",
        "  r=num%10\n",
        "  while(i<=r):\n",
        "      f=f*i\n",
        "      i=i+1\n",
        "  sum1=sum1+f\n",
        "  num=num//10\n",
        "if(sum1==temp):\n",
        "  print(\"the number is a strong number\")\n",
        "else:\n",
        "  print(\"the number is not a strong number\")"
      ],
      "metadata": {
        "colab": {
          "base_uri": "https://localhost:8080/"
        },
        "id": "Xvasz5Y8RKPS",
        "outputId": "13eb65ca-58a5-4428-88c4-89a5ae87fde8"
      },
      "execution_count": null,
      "outputs": [
        {
          "output_type": "stream",
          "name": "stdout",
          "text": [
            "enter a number:4\n",
            "the number is not a strong number\n"
          ]
        }
      ]
    },
    {
      "cell_type": "code",
      "source": [
        "#92\n",
        "num = int(input(\"enter a number\"))\n",
        "\n",
        "# To take input from the user\n",
        "# num = int(input(\"Display multiplication table of? \"))\n",
        "\n",
        "# Iterate 10 times from i = 1 to 10\n",
        "for i in range(1, 11):\n",
        "   print(num, 'x', i, '=', num*i)"
      ],
      "metadata": {
        "colab": {
          "base_uri": "https://localhost:8080/"
        },
        "id": "KBIYngRkS7h6",
        "outputId": "297c0ce9-74ee-4778-d7a9-9b060253d5a1"
      },
      "execution_count": null,
      "outputs": [
        {
          "output_type": "stream",
          "name": "stdout",
          "text": [
            "enter a number4\n",
            "4 x 1 = 4\n",
            "4 x 2 = 8\n",
            "4 x 3 = 12\n",
            "4 x 4 = 16\n",
            "4 x 5 = 20\n",
            "4 x 6 = 24\n",
            "4 x 7 = 28\n",
            "4 x 8 = 32\n",
            "4 x 9 = 36\n",
            "4 x 10 = 40\n"
          ]
        }
      ]
    },
    {
      "cell_type": "code",
      "source": [
        "#93\n",
        "p=int(input())\n",
        "for i in range(p):\n",
        "    for j in range(i+1):\n",
        "        print(i+1,end=\" \")\n",
        "    print()"
      ],
      "metadata": {
        "colab": {
          "base_uri": "https://localhost:8080/"
        },
        "id": "jKmystEbTGUa",
        "outputId": "e4ea47fb-79ab-4540-e6fa-fffd646ddb8c"
      },
      "execution_count": null,
      "outputs": [
        {
          "output_type": "stream",
          "name": "stdout",
          "text": [
            "4\n",
            "1 \n",
            "2 2 \n",
            "3 3 3 \n",
            "4 4 4 4 \n"
          ]
        }
      ]
    },
    {
      "cell_type": "code",
      "source": [
        "#94\n",
        "rows = int(input(\"Enter number of rows: \"))\n",
        "\n",
        "k = 0\n",
        "\n",
        "for i in range(1, rows+1):\n",
        "    for space in range(1, (rows-i)+1):\n",
        "        print(end=\"  \")\n",
        "\n",
        "    while k!=(2*i-1):\n",
        "        print(\"* \", end=\"\")\n",
        "        k += 1\n",
        "\n",
        "    k = 0\n",
        "    print()"
      ],
      "metadata": {
        "colab": {
          "base_uri": "https://localhost:8080/"
        },
        "id": "D3nt-qmcTQRD",
        "outputId": "86cc2e50-451a-4ab8-be21-dec87e3714ad"
      },
      "execution_count": null,
      "outputs": [
        {
          "output_type": "stream",
          "name": "stdout",
          "text": [
            "Enter number of rows: 4\n",
            "      * \n",
            "    * * * \n",
            "  * * * * * \n",
            "* * * * * * * \n"
          ]
        }
      ]
    },
    {
      "cell_type": "code",
      "source": [
        "#95\n",
        "p=1\n",
        "for i in range(1,5):\n",
        "  for j in range(5-i):\n",
        "    print(' ',end='')\n",
        "  for k in range(i):\n",
        "    print(p,end=' ')\n",
        "    p+=1\n",
        "  print()"
      ],
      "metadata": {
        "colab": {
          "base_uri": "https://localhost:8080/"
        },
        "id": "3yeVuoJwTPtk",
        "outputId": "362e87e3-45a2-418c-f032-ab36c1ceee98"
      },
      "execution_count": null,
      "outputs": [
        {
          "output_type": "stream",
          "name": "stdout",
          "text": [
            "    1 \n",
            "   2 3 \n",
            "  4 5 6 \n",
            " 7 8 9 10 \n"
          ]
        }
      ]
    },
    {
      "cell_type": "code",
      "source": [
        "#96\n",
        "#a\n",
        "for i in range(0,5):\n",
        "    for j in range(0,i+1):\n",
        "        print('*',end='')\n",
        "    print()\n"
      ],
      "metadata": {
        "colab": {
          "base_uri": "https://localhost:8080/"
        },
        "id": "qSYfN8WATgrC",
        "outputId": "85388e77-e8de-4cd5-eaff-5a986235b19b"
      },
      "execution_count": null,
      "outputs": [
        {
          "output_type": "stream",
          "name": "stdout",
          "text": [
            "*\n",
            "**\n",
            "***\n",
            "****\n",
            "*****\n"
          ]
        }
      ]
    },
    {
      "cell_type": "code",
      "source": [
        "#b\n",
        "for i in range(1,6):\n",
        "    for j in range(1,i+1):\n",
        "        print(j,end='')\n",
        "    print()"
      ],
      "metadata": {
        "id": "OwqSHbkyTpWy"
      },
      "execution_count": null,
      "outputs": []
    },
    {
      "cell_type": "code",
      "source": [
        "#c\n",
        "n=int(input(\"enter the number:\"))\n",
        "for i in range(65,n+65):\n",
        "  for j in range(65,i+1):\n",
        "      print(chr(i),end=\" \")\n",
        "  print()"
      ],
      "metadata": {
        "id": "iVBC33Z1TrYI"
      },
      "execution_count": null,
      "outputs": []
    },
    {
      "cell_type": "code",
      "source": [
        "#d\n",
        "for i in range(n):\n",
        "    print('* '*(n-i))"
      ],
      "metadata": {
        "colab": {
          "base_uri": "https://localhost:8080/"
        },
        "id": "f3NirG7QTspl",
        "outputId": "c3a097cd-035b-4767-f245-e1e137e83ef3"
      },
      "execution_count": null,
      "outputs": [
        {
          "output_type": "stream",
          "name": "stdout",
          "text": [
            "* * * * * \n",
            "* * * * \n",
            "* * * \n",
            "* * \n",
            "* \n"
          ]
        }
      ]
    },
    {
      "cell_type": "code",
      "source": [
        "#e\n",
        "for i in range(n):\n",
        "  for j in range(n-i):\n",
        "      print(j+1,end=' ')\n",
        "  print()"
      ],
      "metadata": {
        "colab": {
          "base_uri": "https://localhost:8080/"
        },
        "id": "1zRDdQ54TuQJ",
        "outputId": "9f2d924c-5231-47c2-b75b-86b82433b648"
      },
      "execution_count": null,
      "outputs": [
        {
          "output_type": "stream",
          "name": "stdout",
          "text": [
            "1 2 3 4 5 \n",
            "1 2 3 4 \n",
            "1 2 3 \n",
            "1 2 \n",
            "1 \n"
          ]
        }
      ]
    },
    {
      "cell_type": "code",
      "source": [
        "#f\n",
        "for i in range(n):\n",
        "  for j in range(n-i-1):\n",
        "      print(' ',end='')\n",
        "  for k in range(2*i+1):\n",
        "    print('*',end='')\n",
        "  print()"
      ],
      "metadata": {
        "colab": {
          "base_uri": "https://localhost:8080/"
        },
        "id": "9uXdqXK2Tvrp",
        "outputId": "421a3c42-8566-486a-f6fc-4ced736478b8"
      },
      "execution_count": null,
      "outputs": [
        {
          "output_type": "stream",
          "name": "stdout",
          "text": [
            "    *\n",
            "   ***\n",
            "  *****\n",
            " *******\n",
            "*********\n"
          ]
        }
      ]
    },
    {
      "cell_type": "code",
      "source": [
        "#g\n",
        "num_rows = int(input(\"enter the no of rows \"))\n",
        "\n",
        "for i in range(1, num_rows + 1):\n",
        "    print(\" \" * (num_rows - i) * 2, end=\"\")\n",
        "    for j in range(i, i + i):\n",
        "        print(j, end=\" \")\n",
        "    for j in range(i + i - 2, i - 1, -1):\n",
        "        print(j, end=\" \")\n",
        "    print()"
      ],
      "metadata": {
        "colab": {
          "base_uri": "https://localhost:8080/"
        },
        "id": "OXRz6eY8T0Ng",
        "outputId": "354a04c5-38d1-4a18-b5ee-dd66c5dd8bbb"
      },
      "execution_count": null,
      "outputs": [
        {
          "output_type": "stream",
          "name": "stdout",
          "text": [
            "enter the no of rows 5\n",
            "        1 \n",
            "      2 3 2 \n",
            "    3 4 5 4 3 \n",
            "  4 5 6 7 6 5 4 \n",
            "5 6 7 8 9 8 7 6 5 \n"
          ]
        }
      ]
    },
    {
      "cell_type": "code",
      "source": [
        "#h\n",
        "size = int(input(\"enter tthe size \"))\n",
        "for i in range(size):\n",
        "    for j in range(size):\n",
        "        print(max(i, j, size-i-1, size-j-1) + 1, end=\" \")\n",
        "    print()"
      ],
      "metadata": {
        "colab": {
          "base_uri": "https://localhost:8080/"
        },
        "id": "O2XYru4sT1xZ",
        "outputId": "9d39556c-0322-4758-c3e1-631670931ca6"
      },
      "execution_count": null,
      "outputs": [
        {
          "output_type": "stream",
          "name": "stdout",
          "text": [
            "enter tthe size 5\n",
            "5 5 5 5 5 \n",
            "5 4 4 4 5 \n",
            "5 4 3 4 5 \n",
            "5 4 4 4 5 \n",
            "5 5 5 5 5 \n"
          ]
        }
      ]
    },
    {
      "cell_type": "code",
      "source": [
        "#97\n",
        "for char in range(5):\n",
        "    print(f\"Character: {chr(char)}, ASCII Value: {ord(chr(char))}\")"
      ],
      "metadata": {
        "colab": {
          "base_uri": "https://localhost:8080/"
        },
        "id": "OrKQIRqdUVdo",
        "outputId": "8370fac9-5502-4d24-90da-9bd2b77a4cea"
      },
      "execution_count": null,
      "outputs": [
        {
          "output_type": "stream",
          "name": "stdout",
          "text": [
            "Character: \u0000, ASCII Value: 0\n",
            "Character: \u0001, ASCII Value: 1\n",
            "Character: \u0002, ASCII Value: 2\n",
            "Character: \u0003, ASCII Value: 3\n",
            "Character: \u0004, ASCII Value: 4\n"
          ]
        }
      ]
    },
    {
      "cell_type": "code",
      "source": [
        "#98\n",
        "number = int(input(\"Enter a number: \"))\n",
        "factors = []\n",
        "divisor = 2\n",
        "\n",
        "while number > 1:\n",
        "    while number % divisor == 0:\n",
        "        factors.append(divisor)\n",
        "        number //= divisor\n",
        "    divisor += 1\n",
        "\n",
        "print(f\"Prime factors of {number}: {factors}\")"
      ],
      "metadata": {
        "colab": {
          "base_uri": "https://localhost:8080/"
        },
        "id": "yhBNwtufUc9Z",
        "outputId": "d9273a0c-0a4b-43cc-a9fa-1a43e762d79a"
      },
      "execution_count": null,
      "outputs": [
        {
          "output_type": "stream",
          "name": "stdout",
          "text": [
            "Enter a number: 4\n",
            "Prime factors of 1: [2, 2]\n"
          ]
        }
      ]
    },
    {
      "cell_type": "code",
      "source": [
        "#99\n",
        "import math\n",
        "def ncr(n,r):\n",
        "  return math.factorial(n)//(math.factorial(r)* math.factorial(n-r))\n",
        "n=5\n",
        "r=2\n",
        "print(\"the binomial coeffiencent of \",n,\"choose\",r,\"is:ncr(n,r)\")\n",
        "\n"
      ],
      "metadata": {
        "colab": {
          "base_uri": "https://localhost:8080/"
        },
        "id": "lKfiklbrUk6g",
        "outputId": "44729135-a066-4caf-97b6-0c6080c2a9b6"
      },
      "execution_count": null,
      "outputs": [
        {
          "output_type": "stream",
          "name": "stdout",
          "text": [
            "the binomial coeffiencent of  5 choose 2 is:ncr(n,r)\n"
          ]
        }
      ]
    }
  ],
  "metadata": {
    "colab": {
      "provenance": [],
      "include_colab_link": true
    },
    "kernelspec": {
      "display_name": "Python 3",
      "name": "python3"
    },
    "language_info": {
      "name": "python"
    }
  },
  "nbformat": 4,
  "nbformat_minor": 0
}