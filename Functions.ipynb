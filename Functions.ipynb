{
  "nbformat": 4,
  "nbformat_minor": 0,
  "metadata": {
    "colab": {
      "provenance": [],
      "include_colab_link": true
    },
    "kernelspec": {
      "name": "python3",
      "display_name": "Python 3"
    },
    "language_info": {
      "name": "python"
    }
  },
  "cells": [
    {
      "cell_type": "markdown",
      "metadata": {
        "id": "view-in-github",
        "colab_type": "text"
      },
      "source": [
        "<a href=\"https://colab.research.google.com/github/RithvikKuchi/Work-by-Rithvik/blob/main/Functions.ipynb\" target=\"_parent\"><img src=\"https://colab.research.google.com/assets/colab-badge.svg\" alt=\"Open In Colab\"/></a>"
      ]
    },
    {
      "cell_type": "markdown",
      "source": [
        "**FUNTIONS** **IN** **PYTHON**"
      ],
      "metadata": {
        "id": "DWbuhIAMXeWx"
      }
    },
    {
      "cell_type": "code",
      "execution_count": null,
      "metadata": {
        "colab": {
          "base_uri": "https://localhost:8080/"
        },
        "id": "7rTTozLp6h7P",
        "outputId": "3e6aec22-95b0-4a4b-89c4-7a6def7600c7"
      },
      "outputs": [
        {
          "output_type": "stream",
          "name": "stdout",
          "text": [
            "Enter an Number5\n",
            "The Factorial is 120\n"
          ]
        }
      ],
      "source": [
        "#Program for Factorial of given number.\n",
        "num=int(input(\"Enter an Number\"))\n",
        "f=1\n",
        "if(num==0):\n",
        "  print(\"Factorial is\",f)\n",
        "else:\n",
        "  for i in range(num,1,-1):\n",
        "    f=f*i\n",
        "  print(\"The Factorial is\",f)"
      ]
    },
    {
      "cell_type": "code",
      "source": [
        "#Factorial Using Functions\n",
        "def fact(n):\n",
        "  if(n==0):\n",
        "    return 1\n",
        "  else:\n",
        "    f=1\n",
        "    for i in range(n,1,-1):\n",
        "      f=f*i\n",
        "    return f\n",
        "#Driver Code\n",
        "num1=int(input(\"Enter a Number\"))\n",
        "print(\"The Factorial of \",num1,\"is\",fact(num1))"
      ],
      "metadata": {
        "colab": {
          "base_uri": "https://localhost:8080/"
        },
        "id": "nfaEYlbN8riK",
        "outputId": "df04ecdc-9f88-4ac8-ccd8-ae9529b1bed0"
      },
      "execution_count": null,
      "outputs": [
        {
          "output_type": "stream",
          "name": "stdout",
          "text": [
            "Enter a Number5\n",
            "The Factorial of  5 is 120\n"
          ]
        }
      ]
    },
    {
      "cell_type": "code",
      "source": [
        "# Python Program to Compute the factorial of a number and also to compute the sum of factorial\n",
        "# of the digits in the given number.\n",
        "\n",
        "#Without Functions\n",
        "\n",
        "n1=int(input(\"Enter a NUmber\"))\n",
        "#factorial of Number\n",
        "f=1\n",
        "if(n1==0):\n",
        "  print(\"Factorial is\",f)\n",
        "else:\n",
        "  for i in range(n1,1,-1):\n",
        "    f=f*i\n",
        "  print(\"The Factorial is\",f)\n",
        "#sum of factorial of digits in a number\n",
        "num=n1\n",
        "s=0\n",
        "while(num!=0):\n",
        "  f=1\n",
        "  rem=num%10\n",
        "  if(rem==0):\n",
        "    s=s+1\n",
        "  else:\n",
        "    for i in range(1,rem+1):\n",
        "      f=f*i\n",
        "    s=s+f\n",
        "  num=num//10\n",
        "print(\"Sum of Digits factorial is \",s)"
      ],
      "metadata": {
        "colab": {
          "base_uri": "https://localhost:8080/"
        },
        "id": "WglSOjLn987s",
        "outputId": "bf808c36-a506-4c82-f001-81489c099671"
      },
      "execution_count": null,
      "outputs": [
        {
          "output_type": "stream",
          "name": "stdout",
          "text": [
            "Enter a NUmber24\n",
            "The Factorial is 620448401733239439360000\n",
            "Sum of Digits factorial is  26\n"
          ]
        }
      ]
    },
    {
      "cell_type": "code",
      "source": [
        "# Code with Function\n",
        "def fact(n):\n",
        "  if(n==0):\n",
        "    return 1\n",
        "  else:\n",
        "    f=1\n",
        "    for i in range(n,1,-1):\n",
        "      f=f*i\n",
        "    return f\n",
        "# Driver Code\n",
        "num=int(input(\"Enter a Number\"))\n",
        "#task1: Factorial of a Number\n",
        "print(\"The Factorial of \",num,\"is \",fact(num))\n",
        "#task2: Sum of Digits Factorial\n",
        "s1=0\n",
        "num1=num\n",
        "while(num1!=0):\n",
        "  rem=num1%10\n",
        "  s1=s1+fact(rem)\n",
        "  num1=num1//10\n",
        "print(\"The Sum of Digits Facatorial of \",num,\"is \",s1)"
      ],
      "metadata": {
        "colab": {
          "base_uri": "https://localhost:8080/"
        },
        "id": "2xNNYzyTBNCS",
        "outputId": "932e7954-93cd-4004-b884-f396ff5dcfc8"
      },
      "execution_count": null,
      "outputs": [
        {
          "output_type": "stream",
          "name": "stdout",
          "text": [
            "Enter a Number204\n",
            "The Factorial of  204 is  1326057243693621217332951116794432419966106079326253461128571361896219220627592813941309056267893882766353579962753961259654835090125299420645464567948176773341405929566742723734451284877728373946503737685045475883370067891849358707528438515087100654429082243182025720274900300149415790281766550837429303812722914834538921053721492193280000000000000000000000000000000000000000000000000\n",
            "The Sum of Digits Facatorial of  204 is  27\n"
          ]
        }
      ]
    },
    {
      "cell_type": "code",
      "source": [
        "# Possibilitys of Function Writeup\n",
        "# Function with Return Value and With Parameter.\n",
        "def add(a,b,c):\n",
        "  res=a+b+c\n",
        "  return res\n",
        "print(\"The sum of three numbers is \",add(10,20,30))\n",
        "print(\"The three string concat \",add(\"Hi \",\"Welcome to \",\"Python Programming\"))"
      ],
      "metadata": {
        "colab": {
          "base_uri": "https://localhost:8080/"
        },
        "id": "UTT98AmIDhmA",
        "outputId": "735681f7-0057-49bf-d149-e9c3f32e8346"
      },
      "execution_count": null,
      "outputs": [
        {
          "output_type": "stream",
          "name": "stdout",
          "text": [
            "The sum of three numbers is  60\n",
            "The three string concat  Hi Welcome to Python Programming\n"
          ]
        }
      ]
    },
    {
      "cell_type": "code",
      "source": [
        "# Function with Return Value and Without Parameter.\n",
        "def add():\n",
        "  a=eval(input())\n",
        "  b=eval(input())\n",
        "  c=eval(input())\n",
        "  res=a+b+c\n",
        "  return res\n",
        "\n",
        "print(\"The sum of three numbers is \",add())\n",
        "#print(\"The three string concat \",add())\n",
        "#print(a+b+c) - scope of the variable is outside the function."
      ],
      "metadata": {
        "colab": {
          "base_uri": "https://localhost:8080/",
          "height": 280
        },
        "id": "0lBilGaXESUW",
        "outputId": "355fea00-6d2e-4f08-fccd-017bf32e07de"
      },
      "execution_count": null,
      "outputs": [
        {
          "output_type": "stream",
          "name": "stdout",
          "text": [
            "10\n",
            "20\n",
            "30\n",
            "The sum of three numbers is  60\n"
          ]
        },
        {
          "output_type": "error",
          "ename": "NameError",
          "evalue": "name 'a' is not defined",
          "traceback": [
            "\u001b[0;31m---------------------------------------------------------------------------\u001b[0m",
            "\u001b[0;31mNameError\u001b[0m                                 Traceback (most recent call last)",
            "\u001b[0;32m<ipython-input-10-2b78067b2256>\u001b[0m in \u001b[0;36m<cell line: 10>\u001b[0;34m()\u001b[0m\n\u001b[1;32m      8\u001b[0m \u001b[0mprint\u001b[0m\u001b[0;34m(\u001b[0m\u001b[0;34m\"The sum of three numbers is \"\u001b[0m\u001b[0;34m,\u001b[0m\u001b[0madd\u001b[0m\u001b[0;34m(\u001b[0m\u001b[0;34m)\u001b[0m\u001b[0;34m)\u001b[0m\u001b[0;34m\u001b[0m\u001b[0;34m\u001b[0m\u001b[0m\n\u001b[1;32m      9\u001b[0m \u001b[0;31m#print(\"The three string concat \",add())\u001b[0m\u001b[0;34m\u001b[0m\u001b[0;34m\u001b[0m\u001b[0m\n\u001b[0;32m---> 10\u001b[0;31m \u001b[0mprint\u001b[0m\u001b[0;34m(\u001b[0m\u001b[0ma\u001b[0m\u001b[0;34m+\u001b[0m\u001b[0mb\u001b[0m\u001b[0;34m+\u001b[0m\u001b[0mc\u001b[0m\u001b[0;34m)\u001b[0m\u001b[0;34m\u001b[0m\u001b[0;34m\u001b[0m\u001b[0m\n\u001b[0m",
            "\u001b[0;31mNameError\u001b[0m: name 'a' is not defined"
          ]
        }
      ]
    },
    {
      "cell_type": "code",
      "source": [
        "# Function without Return Value and With Parameter.\n",
        "def add(a,b,c):\n",
        "  res=a+b+c\n",
        "  print(\"The sum of three numbers is \",res)\n",
        "#driver code\n",
        "add(10,20,30)"
      ],
      "metadata": {
        "colab": {
          "base_uri": "https://localhost:8080/"
        },
        "id": "Tzkp25MYHENB",
        "outputId": "387ea6f8-6c69-49c8-f449-b80ad876b3d1"
      },
      "execution_count": null,
      "outputs": [
        {
          "output_type": "stream",
          "name": "stdout",
          "text": [
            "The sum of three numbers is  60\n"
          ]
        }
      ]
    },
    {
      "cell_type": "code",
      "source": [
        "# Function without Return Value and Without Parameter.\n",
        "def add():\n",
        "  a=int(input())\n",
        "  b=int(input())\n",
        "  c=int(input())\n",
        "  res=a+b+c\n",
        "  print(\"The sum of three numbers is \",res)\n",
        "#driver code4\n",
        "add()"
      ],
      "metadata": {
        "colab": {
          "base_uri": "https://localhost:8080/"
        },
        "id": "gBWPbpsbHq3S",
        "outputId": "8c436201-b23d-4c6e-9628-a984763dbb09"
      },
      "execution_count": null,
      "outputs": [
        {
          "output_type": "stream",
          "name": "stdout",
          "text": [
            "30\n",
            "40\n",
            "100\n",
            "The sum of three numbers is  170\n"
          ]
        }
      ]
    },
    {
      "cell_type": "code",
      "source": [
        "# Function Parameters : Formal Parameters & Actual Parameters.\n",
        "def add(a,b,c): #Function Def - Formal Parameters\n",
        "  res=a+b-c\n",
        "  return res\n",
        "#driver code\n",
        "n1=int(input(\"Enter Number 1\"))\n",
        "n2=int(input(\"Enter Number 2\"))\n",
        "n3=int(input(\"Enter Number 3\"))\n",
        "print(\"Sum of numbers \",add(n3,n2,n1)) # Function Call - Actual Parameters\n",
        "print(\"Sum of numbers \",add(n1,n2,n3))\n",
        "print(\"Sum of numbers \",add(n3,n3,n3))\n"
      ],
      "metadata": {
        "colab": {
          "base_uri": "https://localhost:8080/"
        },
        "id": "TnVWgImBIEhi",
        "outputId": "7b6a80b4-e009-4ff4-a1eb-7f90659a964e"
      },
      "execution_count": null,
      "outputs": [
        {
          "output_type": "stream",
          "name": "stdout",
          "text": [
            "Enter Number 110\n",
            "Enter Number 220\n",
            "Enter Number 330\n",
            "Sum of numbers  40\n",
            "Sum of numbers  0\n",
            "Sum of numbers  30\n"
          ]
        }
      ]
    },
    {
      "cell_type": "code",
      "source": [
        "#default Parameters - followed by positional args\n",
        "\n",
        "def add(a,b=10,c=0):\n",
        "  return a+b+c\n",
        "print(\"Sum is \",add(10,20))\n",
        "print(\"Sum is \",add(10,20,40))\n",
        "print(\"Sum is \",add(10))"
      ],
      "metadata": {
        "colab": {
          "base_uri": "https://localhost:8080/"
        },
        "id": "xTiqMxqzJ8e0",
        "outputId": "52c3c689-bab1-4d35-bff3-88ca94bcb5be"
      },
      "execution_count": null,
      "outputs": [
        {
          "output_type": "stream",
          "name": "stdout",
          "text": [
            "Sum is  30\n",
            "Sum is  70\n",
            "Sum is  20\n"
          ]
        }
      ]
    }
  ]
}