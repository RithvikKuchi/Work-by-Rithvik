{
  "nbformat": 4,
  "nbformat_minor": 0,
  "metadata": {
    "colab": {
      "provenance": [],
      "include_colab_link": true
    },
    "kernelspec": {
      "name": "python3",
      "display_name": "Python 3"
    },
    "language_info": {
      "name": "python"
    }
  },
  "cells": [
    {
      "cell_type": "markdown",
      "metadata": {
        "id": "view-in-github",
        "colab_type": "text"
      },
      "source": [
        "<a href=\"https://colab.research.google.com/github/RithvikKuchi/Work-by-Rithvik/blob/main/Python1.ipynb\" target=\"_parent\"><img src=\"https://colab.research.google.com/assets/colab-badge.svg\" alt=\"Open In Colab\"/></a>"
      ]
    },
    {
      "cell_type": "markdown",
      "source": [
        "1) Write a program to print **My Name**"
      ],
      "metadata": {
        "id": "N1QEaaQS7O59"
      }
    },
    {
      "cell_type": "code",
      "source": [
        "print(\"My Name is RITHVIK KUCHI\")"
      ],
      "metadata": {
        "colab": {
          "base_uri": "https://localhost:8080/"
        },
        "id": "cEV7fAHj8nKr",
        "outputId": "90d23a7e-77dc-4580-aeaf-179fc5a64aae"
      },
      "execution_count": 4,
      "outputs": [
        {
          "output_type": "stream",
          "name": "stdout",
          "text": [
            "My Name is RITHVIK KUCHI\n"
          ]
        }
      ]
    },
    {
      "cell_type": "markdown",
      "source": [
        "2) Write a program to find the **sum of two integers**"
      ],
      "metadata": {
        "id": "_Z9B-Gjt82QS"
      }
    },
    {
      "cell_type": "code",
      "source": [
        "a=10\n",
        "b=20\n",
        "s=a+b\n",
        "print(\"Sum is\",s)\n",
        "print(\"Sum of\",a,\"and\",b,\"is\",s)"
      ],
      "metadata": {
        "colab": {
          "base_uri": "https://localhost:8080/"
        },
        "id": "WWNlBFsx8_Ij",
        "outputId": "64bdb3d9-a569-43a4-a8eb-c4289a016b1a"
      },
      "execution_count": null,
      "outputs": [
        {
          "output_type": "stream",
          "name": "stdout",
          "text": [
            "Sum is 30\n",
            "Sum of 10 and 20 is 30\n"
          ]
        }
      ]
    },
    {
      "cell_type": "markdown",
      "source": [
        "3) Write a Program to Find the **Sum of Two Integers by inputting the value from the user**"
      ],
      "metadata": {
        "id": "iTzXIXvl-Lus"
      }
    },
    {
      "cell_type": "code",
      "source": [
        "x=int(input(\"Enter first number: \"))\n",
        "y=int(input(\"Enter second number: \"))\n",
        "sum=x+y\n",
        "print(\"Sum of\",x,\"and\",y,\"is\",sum)"
      ],
      "metadata": {
        "colab": {
          "base_uri": "https://localhost:8080/"
        },
        "id": "qZxzNZuJ90Qw",
        "outputId": "f7be8299-fe8e-4f8e-9629-452129675eda"
      },
      "execution_count": null,
      "outputs": [
        {
          "output_type": "stream",
          "name": "stdout",
          "text": [
            "Enter first number: 69\n",
            "Enter second number: 489\n",
            "Sum of 69 and 489 is 558\n"
          ]
        }
      ]
    },
    {
      "cell_type": "markdown",
      "source": [
        "4) Write a program to **Demonstrate single and multiline comments** by computing **area of triangle when 3 sides are given**"
      ],
      "metadata": {
        "id": "YsIN8GUcERYD"
      }
    },
    {
      "cell_type": "code",
      "source": [
        "#Area of Triangle\n",
        "\n",
        "#Taking Input of the sides\n",
        "x=int(input(\"enter side A: \"))\n",
        "y=int(input(\"enter side B: \"))\n",
        "z=int(input(\"enter side C: \"))\n",
        "\n",
        "#defining S as it is A+B+C/2 in any triangle\n",
        "s=float((x+y+z)/2)\n",
        "\n",
        "'''area=(s*(s-a)*(s-b)*(s-c))**0.5\n",
        "this is the area of a triangle when 3 sides are given\n",
        "we can write square root as to the power of 0.5'''\n",
        "\n",
        "area=(s*(s-x)*(s-y)*(s-z))**0.5\n",
        "print(\"Area of the Traingle is:\",area)"
      ],
      "metadata": {
        "id": "qsk41EXjEvhJ",
        "colab": {
          "base_uri": "https://localhost:8080/"
        },
        "outputId": "bb3af58d-50cd-4f09-e6c1-aabec8d36724"
      },
      "execution_count": null,
      "outputs": [
        {
          "output_type": "stream",
          "name": "stdout",
          "text": [
            "enter side A: 3\n",
            "enter side B: 4\n",
            "enter side C: 5\n",
            "Area of the Traingle is: 6.0\n"
          ]
        }
      ]
    },
    {
      "cell_type": "markdown",
      "source": [
        "5) Write a program to print your details like\n",
        "\n",
        "\n",
        "*   name\n",
        "*   registration no.\n",
        "*branch\n",
        "*address\n",
        "\n",
        "without using end of the line character"
      ],
      "metadata": {
        "id": "biZSvk6jFQK9"
      }
    },
    {
      "cell_type": "code",
      "source": [
        "x=''' RITHVIK KUCHI\n",
        "2023002731\n",
        "B.Tech CSE\n",
        "GITAM UNIVERSITY BENGALURU'''\n",
        "\n",
        "print(x)"
      ],
      "metadata": {
        "id": "-hjEKDO8GLcM",
        "colab": {
          "base_uri": "https://localhost:8080/"
        },
        "outputId": "66e95c97-3981-4d50-8028-295c1750957d"
      },
      "execution_count": 1,
      "outputs": [
        {
          "output_type": "stream",
          "name": "stdout",
          "text": [
            " RITHVIK KUCHI\n",
            "2023002731\n",
            "B.Tech CSE\n",
            "GITAM UNIVERSITY BENGALURU\n"
          ]
        }
      ]
    },
    {
      "cell_type": "markdown",
      "source": [],
      "metadata": {
        "id": "HXGZ-w6OycS_"
      }
    },
    {
      "cell_type": "markdown",
      "source": [
        "6) Write a program to create 4 different variables of different data types and print its value along with the data type"
      ],
      "metadata": {
        "id": "F8gVHTJCFx6v"
      }
    },
    {
      "cell_type": "code",
      "source": [
        "a=10+4j\n",
        "b=0.1\n",
        "c=\"HI\"\n",
        "d=True\n",
        "\n",
        "print(\"The Value of A is\",a)\n",
        "print(\"The type of A is\",type(a))\n",
        "print(\"The Value of A is\",b)\n",
        "print(\"The type of A is\",type(b))\n",
        "print(\"The Value of A is\",c)\n",
        "print(\"The type of A is\",type(c))\n",
        "print(\"The Value of A is\",d)\n",
        "print(\"The type of A is\",type(d))"
      ],
      "metadata": {
        "id": "DbHOamM9F8l1",
        "colab": {
          "base_uri": "https://localhost:8080/"
        },
        "outputId": "353a5838-827a-473f-fea4-205c187d40fc"
      },
      "execution_count": null,
      "outputs": [
        {
          "output_type": "stream",
          "name": "stdout",
          "text": [
            "The Value of A is (10+4j)\n",
            "The type of A is <class 'complex'>\n",
            "The Value of A is 0.1\n",
            "The type of A is <class 'float'>\n",
            "The Value of A is HI\n",
            "The type of A is <class 'str'>\n",
            "The Value of A is True\n",
            "The type of A is <class 'bool'>\n"
          ]
        }
      ]
    },
    {
      "cell_type": "markdown",
      "source": [
        "7) Write a Program to **Demonstrate Arithmetic Operators on numbers** (i.e Integers,float,complex)"
      ],
      "metadata": {
        "id": "3-nQJlt6kQDK"
      }
    },
    {
      "cell_type": "code",
      "source": [
        "#Arithmetic on Intergers\n",
        "x=int(input(\"Enter Integer A: \"))\n",
        "y=int(input(\"Enter Interger B: \"))\n",
        "\n",
        "print(\"Addition is\",x,\"+\",y,\"=\",x+y)\n",
        "print(\"Subtraction is\",x,\"-\",y,\"=\",x-y)\n",
        "print(\"Multiplication is\",x,\"*\",y,\"=\",x*y)\n",
        "print(\"Division is\",x,\"/\",y,\"=\",x/y)\n",
        "print(\"Floor Division is\",x,\"//\",y,\"=\",x//y)\n",
        "print(\"Remainder is\",x,\"%\",y,\"=\",x%y)\n",
        "print(\"Exponential is\",x,\"**\",y,\"=\",x**y)"
      ],
      "metadata": {
        "colab": {
          "base_uri": "https://localhost:8080/"
        },
        "id": "eDrhh-ZV0d_G",
        "outputId": "28b83fae-4fb3-4bac-9a60-2937c8777fee"
      },
      "execution_count": null,
      "outputs": [
        {
          "output_type": "stream",
          "name": "stdout",
          "text": [
            "Enter Integer A: 2\n",
            "Enter Interger B: 5\n",
            "Addition is 2 + 5 = 7\n",
            "Subtraction is 2 - 5 = -3\n",
            "Multiplication is 2 * 5 = 10\n",
            "Division is 2 / 5 = 0.4\n",
            "Floor Division is 2 // 5 = 0\n",
            "Remainder is 2 % 5 = 2\n",
            "Exponential is 2 ** 5 = 32\n"
          ]
        }
      ]
    },
    {
      "cell_type": "code",
      "source": [
        "#Arithmetic on Float\n",
        "x=float(input(\"Enter Integer A: \"))\n",
        "y=float(input(\"Enter Interger B: \"))\n",
        "\n",
        "print(\"Addition is\",x,\"+\",y,\"=\",x+y)\n",
        "print(\"Subtraction is\",x,\"-\",y,\"=\",x-y)\n",
        "print(\"Multiplication is\",x,\"*\",y,\"=\",x*y)\n",
        "print(\"Division is\",x,\"/\",y,\"=\",x/y)\n",
        "print(\"Floor Division is\",x,\"//\",y,\"=\",x//y)\n",
        "print(\"Remainder is\",x,\"%\",y,\"=\",x%y)\n",
        "print(\"Exponential is\",x,\"**\",y,\"=\",x**y)"
      ],
      "metadata": {
        "colab": {
          "base_uri": "https://localhost:8080/"
        },
        "id": "8KFOAhir24CC",
        "outputId": "7246d6d8-dd87-4981-e705-ba5261e7cb4c"
      },
      "execution_count": null,
      "outputs": [
        {
          "output_type": "stream",
          "name": "stdout",
          "text": [
            "Enter Integer A: 2.5\n",
            "Enter Interger B: 4.3\n",
            "Addition is 2.5 + 4.3 = 6.8\n",
            "Subtraction is 2.5 - 4.3 = -1.7999999999999998\n",
            "Multiplication is 2.5 * 4.3 = 10.75\n",
            "Division is 2.5 / 4.3 = 0.5813953488372093\n",
            "Floor Division is 2.5 // 4.3 = 0.0\n",
            "Remainder is 2.5 % 4.3 = 2.5\n",
            "Exponential is 2.5 ** 4.3 = 51.42117985680614\n"
          ]
        }
      ]
    },
    {
      "cell_type": "code",
      "source": [
        "#Arithmetic on Complex Numbers\n",
        "x=complex(input(\"Enter Integer A: \"))\n",
        "y=complex(input(\"Enter Interger B: \"))\n",
        "\n",
        "print(\"Addition is\",x,\"+\",y,\"=\",x+y)\n",
        "print(\"Subtraction is\",x,\"-\",y,\"=\",x-y)\n",
        "print(\"Multiplication is\",x,\"*\",y,\"=\",x*y)\n",
        "print(\"Division is\",x,\"/\",y,\"=\",x/y)\n",
        "#print(\"Floor Division is\",x,\"//\",y,\"=\",x//y)\n",
        "#print(\"Remainder is\",x,\"%\",y,\"=\",x%y)\n",
        "print(\"Exponential is\",x,\"**\",y,\"=\",x**y)"
      ],
      "metadata": {
        "colab": {
          "base_uri": "https://localhost:8080/"
        },
        "id": "px_PRTJQ3Fym",
        "outputId": "968d9e00-0425-426e-c422-b5be30f46327"
      },
      "execution_count": null,
      "outputs": [
        {
          "output_type": "stream",
          "name": "stdout",
          "text": [
            "Enter Integer A: 2+4j\n",
            "Enter Interger B: 5+2j\n",
            "Addition is (2+4j) + (5+2j) = (7+6j)\n",
            "Subtraction is (2+4j) - (5+2j) = (-3+2j)\n",
            "Multiplication is (2+4j) * (5+2j) = (2+24j)\n",
            "Division is (2+4j) / (5+2j) = (0.6206896551724138+0.5517241379310345j)\n",
            "Exponential is (2+4j) ** (5+2j) = (-122.48315294682413+152.24274797183205j)\n"
          ]
        }
      ]
    },
    {
      "cell_type": "markdown",
      "source": [
        "8) Write a python program to **demonstrate +** as a **concatenation operator** and **multiplication symbol as a string repitition operator**"
      ],
      "metadata": {
        "id": "CosScXfA0VRV"
      }
    },
    {
      "cell_type": "code",
      "source": [
        "a=input(\"Enter String 1: \")\n",
        "b=input(\"Enter String 2: \")\n",
        "\n",
        "print(\"String Concatenation:\",a,\"+\",b,\"=\",a+b)\n",
        "print(\"String Repetiotion:\",a,\"*\",5,\"=\",a*5)"
      ],
      "metadata": {
        "id": "hYCgdlZqssos",
        "colab": {
          "base_uri": "https://localhost:8080/"
        },
        "outputId": "edbf8227-ea1d-497e-c523-0b2ee79008ba"
      },
      "execution_count": null,
      "outputs": [
        {
          "output_type": "stream",
          "name": "stdout",
          "text": [
            "Enter String 1: amit\n",
            "Enter String 2: sabnis\n",
            "String Concatenation: amit + sabnis = amitsabnis\n",
            "String Repetiotion: amit * 5 = amitamitamitamitamit\n"
          ]
        }
      ]
    },
    {
      "cell_type": "markdown",
      "source": [
        "**Operator:** Specific Characters with Predefined meaning:\n",
        "\n",
        "             \n",
        "\n",
        "*   Arithematic [+,-,*,/,%,**,//]\n",
        "*   Relational [>,<,>=,<=,==,!=]\n",
        "*Assignment\n",
        "*Logical [and,or,not]\n",
        "*Membership\n",
        "*Identity\n",
        "*Bitwise\n",
        "\n"
      ],
      "metadata": {
        "id": "3lxPf7JVsJTv"
      }
    },
    {
      "cell_type": "code",
      "source": [
        "x=int(input(\"Enter first Integer: \"))\n",
        "y=int(input(\"Enter Second Integer: \"))\n",
        "print(\"x>y is\",x>y)\n",
        "print(\"x<y is\",x<y)\n",
        "print(\"x>=y is\",x>=y)\n",
        "print(\"x<=y is\",x<=y)\n",
        "print(\"x==y is\",x==y)\n",
        "print(\"x!=y is\",x!=y)\n",
        "print(\"type of x>y is\",type(x>y))"
      ],
      "metadata": {
        "colab": {
          "base_uri": "https://localhost:8080/"
        },
        "id": "hEh7qmvMsOEz",
        "outputId": "93023792-fa8a-4ab9-8d22-b812dcc0dd0f"
      },
      "execution_count": null,
      "outputs": [
        {
          "output_type": "stream",
          "name": "stdout",
          "text": [
            "Enter first Integer: 10\n",
            "Enter Second Integer: 20\n",
            "x>y is False\n",
            "x<y is True\n",
            "x>=y is False\n",
            "x<=y is True\n",
            "x==y is False\n",
            "x!=y is True\n",
            "type of x>y is <class 'bool'>\n"
          ]
        }
      ]
    },
    {
      "cell_type": "code",
      "source": [
        "x=input(\"Enter first string: \")\n",
        "y=input(\"Enter Second string: \")\n",
        "print(\"x>y is\",x>y)\n",
        "print(\"x<y is\",x<y)\n",
        "print(\"x>=y is\",x>=y)\n",
        "print(\"x<=y is\",x<=y)\n",
        "print(\"x==y is\",x==y)\n",
        "print(\"x!=y is\",x!=y)\n",
        "print(\"type of x>y is\",type(x>y))"
      ],
      "metadata": {
        "colab": {
          "base_uri": "https://localhost:8080/"
        },
        "id": "NYHfrWeJxcn-",
        "outputId": "3589a46d-f32a-450a-dbc2-cbb578fce72b"
      },
      "execution_count": null,
      "outputs": [
        {
          "output_type": "stream",
          "name": "stdout",
          "text": [
            "Enter first string: hi\n",
            "Enter Second string: mi\n",
            "x>y is False\n",
            "x<y is True\n",
            "x>=y is False\n",
            "x<=y is True\n",
            "x==y is False\n",
            "x!=y is True\n",
            "type of x>y is <class 'bool'>\n"
          ]
        }
      ]
    },
    {
      "cell_type": "code",
      "source": [
        "a=int(input(\"Enter number A:\"))\n",
        "b=int(input(\"Enter number B: \"))\n",
        "c=int(input(\"Enter number C: \"))\n",
        "print(\"A is Greater\",(a>b and a>c))\n",
        "print(\"B is Greater\",(b>a and b>c))\n",
        "print(\"C is Greater\",(c>b and c>a))"
      ],
      "metadata": {
        "colab": {
          "base_uri": "https://localhost:8080/"
        },
        "id": "gsS6WG9T0X4j",
        "outputId": "e55a5adb-c604-4e44-92d6-97b166ec31c5"
      },
      "execution_count": null,
      "outputs": [
        {
          "output_type": "stream",
          "name": "stdout",
          "text": [
            "Enter number A:10\n",
            "Enter number B: 20\n",
            "Enter number C: 30\n",
            "A is Greater False\n",
            "B is Greater False\n",
            "C is Greater True\n"
          ]
        }
      ]
    },
    {
      "cell_type": "code",
      "source": [
        "a=int(input(\"Enter number A:\"))\n",
        "b=int(input(\"Enter number B: \"))\n",
        "print(\"The result for A and B is \",a and b)\n",
        "print(\"The result for A or B is \",a or b)\n",
        "print(\"The result for not A is \",not(a))"
      ],
      "metadata": {
        "colab": {
          "base_uri": "https://localhost:8080/"
        },
        "id": "LUzZN1Jg3Fo_",
        "outputId": "39e012de-2de7-416f-f56b-6525ded385df"
      },
      "execution_count": null,
      "outputs": [
        {
          "output_type": "stream",
          "name": "stdout",
          "text": [
            "Enter number A:1\n",
            "Enter number B: 0\n",
            "The result for A and B is  0\n",
            "The result for A or B is  1\n",
            "The result for not A is  False\n"
          ]
        }
      ]
    },
    {
      "cell_type": "markdown",
      "source": [
        "Q) Write a Program to demonstrate invalid usage of in and not in"
      ],
      "metadata": {
        "id": "6gAB4bf9-6y0"
      }
    },
    {
      "cell_type": "code",
      "source": [
        "x=123456\n",
        "print(4 in x)"
      ],
      "metadata": {
        "colab": {
          "base_uri": "https://localhost:8080/",
          "height": 192
        },
        "id": "CSDd_KaV_HiM",
        "outputId": "1ab80711-0875-4336-8704-785c0f0cb93f"
      },
      "execution_count": null,
      "outputs": [
        {
          "output_type": "error",
          "ename": "TypeError",
          "evalue": "ignored",
          "traceback": [
            "\u001b[0;31m---------------------------------------------------------------------------\u001b[0m",
            "\u001b[0;31mTypeError\u001b[0m                                 Traceback (most recent call last)",
            "\u001b[0;32m<ipython-input-18-387310b57c8a>\u001b[0m in \u001b[0;36m<cell line: 2>\u001b[0;34m()\u001b[0m\n\u001b[1;32m      1\u001b[0m \u001b[0mx\u001b[0m\u001b[0;34m=\u001b[0m\u001b[0;36m123456\u001b[0m\u001b[0;34m\u001b[0m\u001b[0;34m\u001b[0m\u001b[0m\n\u001b[0;32m----> 2\u001b[0;31m \u001b[0mprint\u001b[0m\u001b[0;34m(\u001b[0m\u001b[0;36m4\u001b[0m \u001b[0;32min\u001b[0m \u001b[0mx\u001b[0m\u001b[0;34m)\u001b[0m\u001b[0;34m\u001b[0m\u001b[0;34m\u001b[0m\u001b[0m\n\u001b[0m",
            "\u001b[0;31mTypeError\u001b[0m: argument of type 'int' is not iterable"
          ]
        }
      ]
    },
    {
      "cell_type": "markdown",
      "source": [
        "Q) Write a Program to demonstrate valid usage of in and not in operators (always membership operators works on collection of values such as - strings, list, tuple, dictionary and sets)"
      ],
      "metadata": {
        "id": "OfspR6ps_IZk"
      }
    },
    {
      "cell_type": "code",
      "source": [
        "x=[1,2,3,4,5,6]\n",
        "print(4 in x)"
      ],
      "metadata": {
        "colab": {
          "base_uri": "https://localhost:8080/"
        },
        "id": "eW57l7Gp_fQA",
        "outputId": "42a54b3e-7730-418c-a4ed-aba7785500b8"
      },
      "execution_count": null,
      "outputs": [
        {
          "output_type": "stream",
          "name": "stdout",
          "text": [
            "True\n"
          ]
        }
      ]
    },
    {
      "cell_type": "markdown",
      "source": [
        "Q) write a program to assign 2 variables with different values and print its addresses along with demonstrating is and is not operators\n",
        "(one code with same values and one with different values)"
      ],
      "metadata": {
        "id": "iKD1gJjT_foI"
      }
    },
    {
      "cell_type": "code",
      "source": [
        "x=10\n",
        "y=20\n",
        "\n",
        "print(id(x))\n",
        "print(id(y))\n",
        "print(x is y)\n",
        "print(x is not y)"
      ],
      "metadata": {
        "colab": {
          "base_uri": "https://localhost:8080/"
        },
        "id": "4l6ob7tO_4gs",
        "outputId": "6f533f96-fa0b-452d-a1c8-5afd0d30494b"
      },
      "execution_count": null,
      "outputs": [
        {
          "output_type": "stream",
          "name": "stdout",
          "text": [
            "137607258784272\n",
            "137607258784592\n",
            "False\n",
            "True\n"
          ]
        }
      ]
    },
    {
      "cell_type": "code",
      "source": [
        "x=10\n",
        "y=10\n",
        "\n",
        "print(id(x))\n",
        "print(id(y))\n",
        "print(x is y)\n",
        "print(x is not y)"
      ],
      "metadata": {
        "colab": {
          "base_uri": "https://localhost:8080/"
        },
        "id": "tp5D9BkTBEuA",
        "outputId": "10875b5e-dec6-49dd-cf76-f60679ebc8a0"
      },
      "execution_count": null,
      "outputs": [
        {
          "output_type": "stream",
          "name": "stdout",
          "text": [
            "137607258784272\n",
            "137607258784272\n",
            "True\n",
            "False\n"
          ]
        }
      ]
    },
    {
      "cell_type": "code",
      "source": [
        "x=10\n",
        "y=10\n",
        "print(\"value is\",x,\"and\",y)\n",
        "print(id(x))\n",
        "print(id(y))\n",
        "y=20\n",
        "print(\"value became\",x,\"and\",y)\n",
        "print(id(x))\n",
        "print(id(y))\n",
        "print(x is y)\n",
        "print(x is not y)"
      ],
      "metadata": {
        "colab": {
          "base_uri": "https://localhost:8080/"
        },
        "id": "s0dgZ18Y8xLe",
        "outputId": "146db006-53b2-4d68-bc40-4d67c6d8387f"
      },
      "execution_count": null,
      "outputs": [
        {
          "output_type": "stream",
          "name": "stdout",
          "text": [
            "value is 10 and 10\n",
            "137431742546448\n",
            "137431742546448\n",
            "value became 10 and 20\n",
            "137431742546448\n",
            "137431742546768\n",
            "False\n",
            "True\n"
          ]
        }
      ]
    },
    {
      "cell_type": "markdown",
      "source": [
        "Q) Write a program to read a floating point number from the user and print the right most digit of its integral part"
      ],
      "metadata": {
        "id": "BpmQlfi-ACHb"
      }
    },
    {
      "cell_type": "code",
      "source": [
        "x=float(input(\"Enter the Float number: \"))\n",
        "print(\"The Right most digit is\",int(x%10))"
      ],
      "metadata": {
        "colab": {
          "base_uri": "https://localhost:8080/"
        },
        "id": "H4qgijHhAe5F",
        "outputId": "051a0b7b-673c-45bf-b1f5-32b44a74ccd9"
      },
      "execution_count": null,
      "outputs": [
        {
          "output_type": "stream",
          "name": "stdout",
          "text": [
            "Enter the Float number: 2456.264\n",
            "The Right most digit is 6\n"
          ]
        }
      ]
    },
    {
      "cell_type": "code",
      "source": [
        "#bitwise shift\n",
        "print(7>>1)\n",
        "print(7<<1)"
      ],
      "metadata": {
        "id": "Ii93gFxfBUSq",
        "colab": {
          "base_uri": "https://localhost:8080/"
        },
        "outputId": "a7482661-b2a7-4942-c2e1-e41300ed16c0"
      },
      "execution_count": null,
      "outputs": [
        {
          "output_type": "stream",
          "name": "stdout",
          "text": [
            "3\n",
            "14\n"
          ]
        }
      ]
    },
    {
      "cell_type": "code",
      "source": [
        "#type casting\n",
        "print(int(9/4))"
      ],
      "metadata": {
        "colab": {
          "base_uri": "https://localhost:8080/"
        },
        "id": "dBzDoR-OFEfU",
        "outputId": "ca38ac90-66bc-4e06-b4ac-b93ef3d7adb1"
      },
      "execution_count": null,
      "outputs": [
        {
          "output_type": "stream",
          "name": "stdout",
          "text": [
            "2\n"
          ]
        }
      ]
    },
    {
      "cell_type": "code",
      "source": [
        "#type casting\n",
        "x=4\n",
        "y=5.2\n",
        "\n",
        "print(list((x,y)))"
      ],
      "metadata": {
        "colab": {
          "base_uri": "https://localhost:8080/"
        },
        "id": "XrptReGXGQrx",
        "outputId": "165fdcbc-2fbc-4f95-de5e-6532c9f71a14"
      },
      "execution_count": null,
      "outputs": [
        {
          "output_type": "stream",
          "name": "stdout",
          "text": [
            "[4, 5.2]\n"
          ]
        }
      ]
    },
    {
      "cell_type": "code",
      "source": [
        "#Multiline Print Statement\n",
        "print(\"RITHVIK KUCHI\\\n",
        " 2023002731\\\n",
        " GITAM\")"
      ],
      "metadata": {
        "colab": {
          "base_uri": "https://localhost:8080/"
        },
        "id": "V_mHY8xUIJBg",
        "outputId": "fe351c2d-4b50-4c3d-df2f-d6cab3419f16"
      },
      "execution_count": 2,
      "outputs": [
        {
          "output_type": "stream",
          "name": "stdout",
          "text": [
            "RITHVIK KUCHI 2023002731 GITAM\n"
          ]
        }
      ]
    },
    {
      "cell_type": "code",
      "source": [
        "#implicit line break\n",
        "l=[1,2,3\n",
        "   ,4,5,6]\n",
        "print(l)\n"
      ],
      "metadata": {
        "colab": {
          "base_uri": "https://localhost:8080/"
        },
        "id": "FSh__RxMI4eH",
        "outputId": "87dc6553-35c2-4268-848b-f9fbb4bc2b94"
      },
      "execution_count": null,
      "outputs": [
        {
          "output_type": "stream",
          "name": "stdout",
          "text": [
            "[1, 2, 3, 4, 5, 6]\n"
          ]
        }
      ]
    },
    {
      "cell_type": "code",
      "source": [
        "#multiline(statements) in single line\n",
        "x=int(input(\"A: \"))\n",
        "y=int(input(\"B: \"))\n",
        "z=x+y\n",
        "print(\"Sum:\",z)"
      ],
      "metadata": {
        "colab": {
          "base_uri": "https://localhost:8080/"
        },
        "id": "ZHuHoNTjJhvn",
        "outputId": "ad8317b3-b8ec-4b05-9339-6b2073fe2b69"
      },
      "execution_count": null,
      "outputs": [
        {
          "output_type": "stream",
          "name": "stdout",
          "text": [
            "A: 10\n",
            "B: 50\n",
            "Sum: 60\n"
          ]
        }
      ]
    },
    {
      "cell_type": "code",
      "source": [
        "x=int(input(\"A: \"));y=int(input(\"B: \"));z=x+y;print(\"Sum:\",z)"
      ],
      "metadata": {
        "colab": {
          "base_uri": "https://localhost:8080/"
        },
        "id": "IyUUAwntKQA4",
        "outputId": "ec139f7f-bd15-4cd4-d5d7-9b2520093ec7"
      },
      "execution_count": null,
      "outputs": [
        {
          "output_type": "stream",
          "name": "stdout",
          "text": [
            "A: 10\n",
            "B: 20\n",
            "Sum: 30\n"
          ]
        }
      ]
    },
    {
      "cell_type": "markdown",
      "source": [
        "13) Write code to swap two numbers in 4 methods:"
      ],
      "metadata": {
        "id": "G-q7UiHxj91H"
      }
    },
    {
      "cell_type": "code",
      "source": [
        "#comma operator\n",
        "x=int(input(\"Enter first number: \"))\n",
        "y=int(input(\"Enter second Number: \"))\n",
        "print(\"Before Swapping x=\",x,\"and y=\",y)\n",
        "x,y = y,x\n",
        "print(\"After Swapping x=\",x,\"and y=\",y)"
      ],
      "metadata": {
        "colab": {
          "base_uri": "https://localhost:8080/"
        },
        "id": "7myKhUK2LPOa",
        "outputId": "ce5a85b5-44db-4864-f06e-815d4cef15b3"
      },
      "execution_count": null,
      "outputs": [
        {
          "output_type": "stream",
          "name": "stdout",
          "text": [
            "Enter first number: 10\n",
            "Enter second Number: 20\n",
            "Before Swapping x= 10 and y= 20\n",
            "After Swapping x= 20 and y= 10\n"
          ]
        }
      ]
    },
    {
      "cell_type": "code",
      "source": [
        "#temp variable\n",
        "x=int(input(\"Enter first number: \"))\n",
        "y=int(input(\"Enter second Number: \"))\n",
        "print(\"Before Swapping x=\",x,\"and y=\",y)\n",
        "temp = x\n",
        "x = y\n",
        "y = temp\n",
        "print(\"After Swapping x=\",x,\"and y=\",y)"
      ],
      "metadata": {
        "id": "d_zoyivxL7i4",
        "colab": {
          "base_uri": "https://localhost:8080/"
        },
        "outputId": "a52eca48-ff50-4c3e-8c44-0d7d635ca6de"
      },
      "execution_count": null,
      "outputs": [
        {
          "output_type": "stream",
          "name": "stdout",
          "text": [
            "Enter first number: 10\n",
            "Enter second Number: 20\n",
            "Before Swapping x= 10 and y= 20\n",
            "After Swapping x= 20 and y= 10\n"
          ]
        }
      ]
    },
    {
      "cell_type": "code",
      "source": [
        "#XOR method\n",
        "x=int(input(\"Enter first number: \"))\n",
        "y=int(input(\"Enter second Number: \"))\n",
        "print(\"Before Swapping x=\",x,\"and y=\",y)\n",
        "x=x^y\n",
        "y=x^y\n",
        "x=x^y\n",
        "print(\"After Swapping x=\",x,\"and y=\",y)"
      ],
      "metadata": {
        "colab": {
          "base_uri": "https://localhost:8080/"
        },
        "id": "Km84sdFtlN-L",
        "outputId": "7ded52fc-6f8d-4231-ae3f-60b8c7d0fa79"
      },
      "execution_count": null,
      "outputs": [
        {
          "output_type": "stream",
          "name": "stdout",
          "text": [
            "Enter first number: 10\n",
            "Enter second Number: 20\n",
            "Before Swapping x= 10 and y= 20\n",
            "After Swapping x= 20 and y= 10\n"
          ]
        }
      ]
    },
    {
      "cell_type": "code",
      "source": [
        "#arithematic method\n",
        "x=int(input(\"Enter first number: \"))\n",
        "y=int(input(\"Enter second Number: \"))\n",
        "print(\"Before Swapping x=\",x,\"and y=\",y)\n",
        "x=x+y\n",
        "y=x-y\n",
        "x=x-y\n",
        "print(\"After Swapping x=\",x,\"and y=\",y)"
      ],
      "metadata": {
        "colab": {
          "base_uri": "https://localhost:8080/"
        },
        "id": "BpAF_XTRlVLz",
        "outputId": "1e149e0f-062b-4d2e-ce31-52491f1022eb"
      },
      "execution_count": null,
      "outputs": [
        {
          "output_type": "stream",
          "name": "stdout",
          "text": [
            "Enter first number: 10\n",
            "Enter second Number: 20\n",
            "Before Swapping x= 10 and y= 20\n",
            "After Swapping x= 20 and y= 10\n"
          ]
        }
      ]
    },
    {
      "cell_type": "code",
      "source": [
        "#String Concatenation\n",
        "s1=input()\n",
        "s2=input()\n",
        "print(\"The concatenated string is\",s1+s2)"
      ],
      "metadata": {
        "colab": {
          "base_uri": "https://localhost:8080/"
        },
        "id": "WwDxXub6lr2k",
        "outputId": "6b8dab4d-d4e5-45c7-a5bc-a7395fcc11d3"
      },
      "execution_count": 3,
      "outputs": [
        {
          "output_type": "stream",
          "name": "stdout",
          "text": [
            "HI\n",
            "PO\n",
            "The concatenated string is HIPO\n"
          ]
        }
      ]
    },
    {
      "cell_type": "code",
      "source": [
        "#print-string\n",
        "print(\"Hello\")\n",
        "#print-stringReturnValue\n",
        "x=print(\"Hello\")\n",
        "print(x)"
      ],
      "metadata": {
        "colab": {
          "base_uri": "https://localhost:8080/"
        },
        "id": "-CbXzdTwt8_E",
        "outputId": "a912721c-3d25-4a0a-bfca-d48cdf57c77b"
      },
      "execution_count": null,
      "outputs": [
        {
          "output_type": "stream",
          "name": "stdout",
          "text": [
            "Hello\n",
            "Hello\n",
            "None\n"
          ]
        }
      ]
    },
    {
      "cell_type": "code",
      "source": [
        "#print-endAsParameter\n",
        "print(\"Hi Welcome\",end=\" \")\n",
        "print(\"to Python\")\n",
        "print(\"Hi Welcome\",end=\"$$\")\n",
        "print(\"to Python\")"
      ],
      "metadata": {
        "colab": {
          "base_uri": "https://localhost:8080/"
        },
        "id": "Jy21TCQKw9j4",
        "outputId": "ede19a1a-8f1c-41c4-b676-d0b732c6f04a"
      },
      "execution_count": null,
      "outputs": [
        {
          "output_type": "stream",
          "name": "stdout",
          "text": [
            "Hi Welcome to Python\n",
            "Hi Welcome$$to Python\n"
          ]
        }
      ]
    },
    {
      "cell_type": "code",
      "source": [
        "print('Hi',\"Welcome\",end=\" \")\n",
        "print('to',\"python\")"
      ],
      "metadata": {
        "colab": {
          "base_uri": "https://localhost:8080/"
        },
        "id": "aE7faBTcyEZg",
        "outputId": "19a383e4-06a5-4de2-f65b-f89ddc115666"
      },
      "execution_count": null,
      "outputs": [
        {
          "output_type": "stream",
          "name": "stdout",
          "text": [
            "Hi Welcome to python\n"
          ]
        }
      ]
    },
    {
      "cell_type": "code",
      "source": [
        "print('Hi',\"Welcome\",\"To\",\"Python\",sep=\"\")"
      ],
      "metadata": {
        "colab": {
          "base_uri": "https://localhost:8080/"
        },
        "id": "FFUaGe_uzF1P",
        "outputId": "f6652d07-9e45-4789-d58d-8c63c27d61dd"
      },
      "execution_count": null,
      "outputs": [
        {
          "output_type": "stream",
          "name": "stdout",
          "text": [
            "HiWelcomeToPython\n"
          ]
        }
      ]
    },
    {
      "cell_type": "code",
      "source": [
        "a=10\n",
        "b=20\n",
        "c=30\n",
        "print(a,b,c,sep=\",\")"
      ],
      "metadata": {
        "colab": {
          "base_uri": "https://localhost:8080/"
        },
        "id": "MOm8GPgT0NN9",
        "outputId": "b645b44e-5655-49e4-8b2c-1eef5e338202"
      },
      "execution_count": null,
      "outputs": [
        {
          "output_type": "stream",
          "name": "stdout",
          "text": [
            "10,20,30\n"
          ]
        }
      ]
    },
    {
      "cell_type": "code",
      "source": [
        "x=10\n",
        "y=20\n",
        "print(\"The Value of x is\"+str(x),\"and the Value of y is\",y)"
      ],
      "metadata": {
        "colab": {
          "base_uri": "https://localhost:8080/"
        },
        "id": "fxOsptcO0gsE",
        "outputId": "07dc6e55-9c47-4a19-ad30-00f190da057c"
      },
      "execution_count": null,
      "outputs": [
        {
          "output_type": "stream",
          "name": "stdout",
          "text": [
            "The Value of x is10 and the Value of y is 20\n"
          ]
        }
      ]
    },
    {
      "cell_type": "code",
      "source": [
        "print(\"sum of\",x,\"and\",y,\"is\",x+y)\n",
        "print(\"sum of {} and {} is {}\".format(x,y,x+y))\n",
        "print(\"sum of {1} and {0} is {2}\".format(x,y,x+y))\n",
        "print(\"sum of {a} and {b} is {z}\".format(a=x,b=y,z=x+y))"
      ],
      "metadata": {
        "colab": {
          "base_uri": "https://localhost:8080/"
        },
        "id": "hr4ttRB23F0a",
        "outputId": "752e21f2-e6ed-4269-dcb8-58ab99cd73b0"
      },
      "execution_count": null,
      "outputs": [
        {
          "output_type": "stream",
          "name": "stdout",
          "text": [
            "sum of 10 and 20 is 30\n",
            "sum of 10 and 20 is 30\n",
            "sum of 20 and 10 is 30\n",
            "sum of 10 and 20 is 30\n"
          ]
        }
      ]
    },
    {
      "cell_type": "code",
      "source": [
        "a=126.4676865\n",
        "print(\"the value of a is {r:.4f}\".format(r=a))"
      ],
      "metadata": {
        "colab": {
          "base_uri": "https://localhost:8080/"
        },
        "id": "uodgZ0rh4U5y",
        "outputId": "e70e12c2-e29b-4777-b7dc-c18672e51ae6"
      },
      "execution_count": null,
      "outputs": [
        {
          "output_type": "stream",
          "name": "stdout",
          "text": [
            "the value of a is 126.4677\n"
          ]
        }
      ]
    },
    {
      "cell_type": "code",
      "source": [
        "print(\"Welcome to Python Programming\")"
      ],
      "metadata": {
        "id": "I4mwUeYv7O8u",
        "colab": {
          "base_uri": "https://localhost:8080/"
        },
        "outputId": "502f2396-d6b2-4458-dd11-a73338ee0479"
      },
      "execution_count": null,
      "outputs": [
        {
          "output_type": "stream",
          "name": "stdout",
          "text": [
            "Welcome to Python Programming\n"
          ]
        }
      ]
    },
    {
      "cell_type": "code",
      "source": [
        "print(f\"Welcome to Python Programming\")"
      ],
      "metadata": {
        "colab": {
          "base_uri": "https://localhost:8080/"
        },
        "id": "dJeRilYFu8Lv",
        "outputId": "f445858f-d363-4afb-d97f-ecd66b5d6757"
      },
      "execution_count": null,
      "outputs": [
        {
          "output_type": "stream",
          "name": "stdout",
          "text": [
            "Welcome to Python Programming\n"
          ]
        }
      ]
    },
    {
      "cell_type": "code",
      "source": [
        "x=10\n",
        "print(f\"the value of x is {x}\")"
      ],
      "metadata": {
        "colab": {
          "base_uri": "https://localhost:8080/"
        },
        "id": "LoqLGj7qvDo1",
        "outputId": "81f61449-2d1f-4529-a851-aeacb3b4443a"
      },
      "execution_count": null,
      "outputs": [
        {
          "output_type": "stream",
          "name": "stdout",
          "text": [
            "the value of x is 10\n"
          ]
        }
      ]
    },
    {
      "cell_type": "code",
      "source": [
        "#usage of usage of eval() function\n",
        "x=eval(input(\"Enter the value of x: \"))\n",
        "y=eval(input(\"Enter the value of y: \"))\n",
        "z=x+y\n",
        "print(\"The result is\",z)"
      ],
      "metadata": {
        "colab": {
          "base_uri": "https://localhost:8080/"
        },
        "id": "CeTGDWijwSd7",
        "outputId": "2bbe2090-983d-494c-99f2-7c9b3318b122"
      },
      "execution_count": null,
      "outputs": [
        {
          "output_type": "stream",
          "name": "stdout",
          "text": [
            "Enter the value of x: '10'\n",
            "Enter the value of y: '220'\n",
            "The result is 10220\n"
          ]
        }
      ]
    },
    {
      "cell_type": "code",
      "source": [
        "r=eval(\"'hi'*8\")\n",
        "print(r)"
      ],
      "metadata": {
        "colab": {
          "base_uri": "https://localhost:8080/"
        },
        "id": "jTSAJsIvxYwn",
        "outputId": "198143d9-23e3-4ce2-bd15-40bb6dbee4fc"
      },
      "execution_count": null,
      "outputs": [
        {
          "output_type": "stream",
          "name": "stdout",
          "text": [
            "hihihihihihihihi\n"
          ]
        }
      ]
    },
    {
      "cell_type": "markdown",
      "source": [
        "**CONDITIONAL STATEMENTS:**\n",
        "\n",
        "\n",
        "*   Simple-if\n",
        "*   if-else\n",
        "*elif\n",
        "*Nested if-else\n",
        "\n"
      ],
      "metadata": {
        "id": "11fgkiDYUtDT"
      }
    },
    {
      "cell_type": "code",
      "source": [
        "#Greatest of two numbers using simple if\n",
        "x=int(input(\"Enter value of X: \"))\n",
        "y=int(input(\"Enter value of Y: \"))\n",
        "if(x>y):\n",
        "  print(\"X is Greater\")\n",
        "if(x<y):\n",
        "  print(\"Y is Greater\")"
      ],
      "metadata": {
        "colab": {
          "base_uri": "https://localhost:8080/"
        },
        "id": "npPv5-__Uw-n",
        "outputId": "f8b0d3eb-cd77-4b9e-9b8d-edad90f50be1"
      },
      "execution_count": null,
      "outputs": [
        {
          "output_type": "stream",
          "name": "stdout",
          "text": [
            "Enter value of X: 12\n",
            "Enter value of Y: 15\n",
            "Y is Greater\n"
          ]
        }
      ]
    },
    {
      "cell_type": "code",
      "source": [
        "#positive or negative\n",
        "x=int(input())\n",
        "if(x>0):\n",
        "  print(\"Positive\")\n",
        "if(x<0):\n",
        "  print(\"Negative\")"
      ],
      "metadata": {
        "id": "fVK7CS5LzkzM",
        "colab": {
          "base_uri": "https://localhost:8080/"
        },
        "outputId": "6679b080-5b4e-4662-9ef0-303c7486e9db"
      },
      "execution_count": null,
      "outputs": [
        {
          "output_type": "stream",
          "name": "stdout",
          "text": [
            "5\n",
            "Positive\n"
          ]
        }
      ]
    },
    {
      "cell_type": "code",
      "source": [
        "#greatest of three number\n",
        "a=int(input(\"A: \"))\n",
        "b=int(input(\"B: \"))\n",
        "c=int(input(\"C: \"))\n",
        "if(a>b and a>c):\n",
        "  print(\"A is Greater\")\n",
        "if(b>a and b>c):\n",
        "  print(\"B is Greater\")\n",
        "if(c>a and c>b):\n",
        "  print(\"C is Greater\")"
      ],
      "metadata": {
        "colab": {
          "base_uri": "https://localhost:8080/"
        },
        "id": "lh3Cou7JVw9V",
        "outputId": "6535b019-0fa1-47eb-a007-df88d38821c9"
      },
      "execution_count": null,
      "outputs": [
        {
          "output_type": "stream",
          "name": "stdout",
          "text": [
            "A: 12\n",
            "B: 56\n",
            "C: 84\n",
            "C is Greater\n"
          ]
        }
      ]
    },
    {
      "cell_type": "code",
      "source": [
        "#Leap year or not\n",
        "x=int(input(\"Enter the Year: \"))\n",
        "if((x%4==0 or x%400==0) and x%100!=0):\n",
        "  print(\"It is a Leap Year\")\n",
        "else:\n",
        "  print(\"It is not a Leap Year\")"
      ],
      "metadata": {
        "colab": {
          "base_uri": "https://localhost:8080/"
        },
        "id": "aFJ5bubiWVqF",
        "outputId": "db6b81ee-786f-46f4-fea0-65a07794ee0a"
      },
      "execution_count": null,
      "outputs": [
        {
          "output_type": "stream",
          "name": "stdout",
          "text": [
            "Enter the Year: 2024\n",
            "It is a Leap Year\n"
          ]
        }
      ]
    },
    {
      "cell_type": "code",
      "source": [
        "#Even or Not\n",
        "x=int(input(\"Enter the Number: \"))\n",
        "if(x%2==0):\n",
        "  print(\"Even Number\")\n",
        "else:\n",
        "  print(\"Odd Number\")"
      ],
      "metadata": {
        "colab": {
          "base_uri": "https://localhost:8080/"
        },
        "id": "WuDtR8MTXDMd",
        "outputId": "64c7a433-c681-411a-cc73-a9e5af78b813"
      },
      "execution_count": null,
      "outputs": [
        {
          "output_type": "stream",
          "name": "stdout",
          "text": [
            "Enter the Number: 18\n",
            "Even Number\n"
          ]
        }
      ]
    },
    {
      "cell_type": "markdown",
      "source": [
        "Write a Python program to find the greatest of three numbers\n"
      ],
      "metadata": {
        "id": "oDBq-bLv-6HZ"
      }
    },
    {
      "cell_type": "code",
      "source": [
        "a=int(input(\"A: \"))\n",
        "b=int(input(\"B: \"))\n",
        "c=int(input(\"C: \"))\n",
        "if(a>b):\n",
        "  if(a>c):\n",
        "    print(\"A is Greater\")\n",
        "  else:\n",
        "    print(\"C is Greater\")\n",
        "else:\n",
        "  if(b>c):\n",
        "    print(\"B is Greater\")\n",
        "  else:\n",
        "    print(\"C is Greater\")"
      ],
      "metadata": {
        "id": "2iTbIrJEXlL7",
        "colab": {
          "base_uri": "https://localhost:8080/"
        },
        "outputId": "595a6886-b909-413b-cbd4-7e134de860bd"
      },
      "execution_count": null,
      "outputs": [
        {
          "output_type": "stream",
          "name": "stdout",
          "text": [
            "A: 10\n",
            "B: 5\n",
            "C: 9\n",
            "A is Greater\n"
          ]
        }
      ]
    },
    {
      "cell_type": "markdown",
      "source": [
        "Write a python program to read six subject marks of a student to declare the semester result"
      ],
      "metadata": {
        "id": "iUT2dMO0-_qS"
      }
    },
    {
      "cell_type": "code",
      "source": [
        "print(\"Enter the Marks of all subjects:\\n\")\n",
        "s1=int(input(\"Subject 1: \"))\n",
        "s2=int(input(\"Subject 2: \"))\n",
        "s3=int(input(\"Subject 3: \"))\n",
        "s4=int(input(\"Subject 4: \"))\n",
        "s5=int(input(\"Subject 5: \"))\n",
        "s6=int(input(\"Subject 6: \"))\n",
        "if(s1>=35):\n",
        "  if(s2>=35):\n",
        "    if(s3>=35):\n",
        "      if(s4>=35):\n",
        "        if(s5>=35):\n",
        "          if(s6>=35):\n",
        "            print(\"Pass\")\n",
        "          else:\n",
        "            print(\"Fail\")\n",
        "        else:\n",
        "          print(\"Fail\")\n",
        "      else:\n",
        "        print(\"Fail\")\n",
        "    else:\n",
        "      print(\"Fail\")\n",
        "  else:\n",
        "    print(\"Fail\")\n",
        "else:\n",
        "  print(\"Fail\")"
      ],
      "metadata": {
        "id": "SJf1UOYj_Pom",
        "colab": {
          "base_uri": "https://localhost:8080/"
        },
        "outputId": "57d4d4cf-62e0-4ff4-a25e-e9154f65b68e"
      },
      "execution_count": null,
      "outputs": [
        {
          "output_type": "stream",
          "name": "stdout",
          "text": [
            "Enter the Marks of all subjects:\n",
            "\n",
            "Subject 1: 10\n",
            "Subject 2: 6\n",
            "Subject 3: 89\n",
            "Subject 4: 88\n",
            "Subject 5: 55\n",
            "Subject 6: 66\n",
            "Fail\n"
          ]
        }
      ]
    },
    {
      "cell_type": "markdown",
      "source": [
        "Write a python program to input a student percentage obtained and compute or declare the class obtained by the student based on the following condition:\n",
        "\n",
        "\n",
        "\n",
        "*   per>=85 => Distiction\n",
        "*   per>=60 => First Class\n",
        "*per>=50 => Second Class\n",
        "*per>=35 => Pass Class\n",
        "*per<35 => Fail\n",
        "\n"
      ],
      "metadata": {
        "id": "xNmt_7inDM-1"
      }
    },
    {
      "cell_type": "code",
      "source": [
        "per=int(input(\"Enter the Percentage: \"))\n",
        "if(per>=85):\n",
        "  print(\"Distinction\")\n",
        "elif(per>=60):\n",
        "  print(\"First Class\")\n",
        "elif(per>=50):\n",
        "  print(\"Second Class\")\n",
        "elif(per>=35):\n",
        "  print(\"Pass Class\")\n",
        "else:\n",
        "  print(\"Fail\")"
      ],
      "metadata": {
        "id": "mjIaKBo5D2kX"
      },
      "execution_count": null,
      "outputs": []
    },
    {
      "cell_type": "markdown",
      "source": [
        "Write a python program to read a number and print the following:\n",
        "\n",
        "\n",
        "*   Divisible by 3 => Fizz\n",
        "*   Divisible by 5 => Buzz\n",
        "*Divisible by both 3 & 5 => Fizz Buzz\n",
        "\n"
      ],
      "metadata": {
        "id": "0i3sFPWYD58C"
      }
    },
    {
      "cell_type": "code",
      "source": [
        "n=int(input(\"Enter the Number: \"))\n",
        "if(n%3==0 and n%5==0):\n",
        "  print(\"Fizz Buzz\")\n",
        "elif(n%3==0):\n",
        "  print(\"Fizz\")\n",
        "elif(n%5==0):\n",
        "  print(\"Buzz\")\n",
        "else:\n",
        "  print(\"Not Divisible by 3 or 5\")"
      ],
      "metadata": {
        "colab": {
          "base_uri": "https://localhost:8080/"
        },
        "id": "9VVNMR5tEYd3",
        "outputId": "9e69fbca-2497-477b-a748-796ec874c283"
      },
      "execution_count": null,
      "outputs": [
        {
          "output_type": "stream",
          "name": "stdout",
          "text": [
            "Enter the Number: 15\n",
            "Fizz Buzz\n"
          ]
        }
      ]
    },
    {
      "cell_type": "markdown",
      "source": [
        "Write a program to generate a series of number till n"
      ],
      "metadata": {
        "id": "CzmERRYaGDBX"
      }
    },
    {
      "cell_type": "code",
      "source": [
        "n=int(input(\"Enter the value of n: \"))\n",
        "i=1\n",
        "while(i<=n):\n",
        "  print(i,end=\"\")\n",
        "  i+=1"
      ],
      "metadata": {
        "colab": {
          "base_uri": "https://localhost:8080/"
        },
        "id": "erKSPdrFKSmf",
        "outputId": "9b561cfa-9b88-4c48-9998-fbd208e043c5"
      },
      "execution_count": null,
      "outputs": [
        {
          "output_type": "stream",
          "name": "stdout",
          "text": [
            "Enter the value of n: 10\n",
            "12345678910"
          ]
        }
      ]
    },
    {
      "cell_type": "code",
      "source": [
        "n=int(input(\"Enter the value of n: \"))\n",
        "for i in range(1,n+1,2):\n",
        "  print(i)"
      ],
      "metadata": {
        "colab": {
          "base_uri": "https://localhost:8080/"
        },
        "id": "n4iVpM25NJBX",
        "outputId": "8afcf1cb-514a-4b0c-ad90-87a6ddcb4a7b"
      },
      "execution_count": null,
      "outputs": [
        {
          "output_type": "stream",
          "name": "stdout",
          "text": [
            "Enter the value of n: 10\n",
            "1\n",
            "3\n",
            "5\n",
            "7\n",
            "9\n"
          ]
        }
      ]
    },
    {
      "cell_type": "code",
      "source": [
        "#print series of numbers from n to 1\n",
        "n=int(input(\"Enter the value of n: \"))\n",
        "for i in range(n,-1,-1):\n",
        "  print(i)"
      ],
      "metadata": {
        "colab": {
          "base_uri": "https://localhost:8080/"
        },
        "id": "bXZ0gYVSN5s2",
        "outputId": "545348f8-8482-4c18-eaec-33d06a261f95"
      },
      "execution_count": null,
      "outputs": [
        {
          "output_type": "stream",
          "name": "stdout",
          "text": [
            "Enter the value of n: 5\n",
            "5\n",
            "4\n",
            "3\n",
            "2\n",
            "1\n",
            "0\n"
          ]
        }
      ]
    },
    {
      "cell_type": "markdown",
      "source": [
        "Write a python program to print the series of even numbers till n"
      ],
      "metadata": {
        "id": "3PjjXhbvO0U3"
      }
    },
    {
      "cell_type": "code",
      "source": [
        "n=int(input(\"Enter the value of N: \"))\n",
        "for i in range(1,n+1):\n",
        "  if(i%2==0):\n",
        "    print(i)"
      ],
      "metadata": {
        "colab": {
          "base_uri": "https://localhost:8080/"
        },
        "id": "WWMftDCuPMGp",
        "outputId": "1c76d171-7485-4176-d194-c332d08a2ac0"
      },
      "execution_count": null,
      "outputs": [
        {
          "output_type": "stream",
          "name": "stdout",
          "text": [
            "Enter the value of N: 10\n",
            "2\n",
            "4\n",
            "6\n",
            "8\n",
            "10\n"
          ]
        }
      ]
    },
    {
      "cell_type": "markdown",
      "source": [
        "Write a python program to print the series of numbers starting from A with a difference of 3 till B"
      ],
      "metadata": {
        "id": "6yB1-NuZO6Q6"
      }
    },
    {
      "cell_type": "code",
      "source": [
        "a=int(input(\"Enter the Value of A: \"))\n",
        "b=int(input(\"Enter the Value of B: \"))\n",
        "for i in range(a,b+1,3):\n",
        "  print(i)"
      ],
      "metadata": {
        "colab": {
          "base_uri": "https://localhost:8080/"
        },
        "id": "aOByi0aXPLVh",
        "outputId": "5622a9f7-1105-4ec2-96fc-eb570b8a54aa"
      },
      "execution_count": null,
      "outputs": [
        {
          "output_type": "stream",
          "name": "stdout",
          "text": [
            "Enter the Value of A: 10\n",
            "Enter the Value of B: 30\n",
            "10\n",
            "13\n",
            "16\n",
            "19\n",
            "22\n",
            "25\n",
            "28\n"
          ]
        }
      ]
    },
    {
      "cell_type": "markdown",
      "source": [
        "# **EXERCISES**"
      ],
      "metadata": {
        "id": "9jaHUZiqo798"
      }
    },
    {
      "cell_type": "markdown",
      "source": [
        "Write a Python program to perform the simple calculator operation"
      ],
      "metadata": {
        "id": "G0_5Bt8OnMI8"
      }
    },
    {
      "cell_type": "code",
      "source": [
        "x=eval(input(\"Enter The First Number: \"))\n",
        "y=eval(input(\"Enter The Second Number: \"))\n",
        "print(\"\\n1.Addition: +\\n2.Subtraction: -\\n3.Multiplication: *\\n4.Division: /\\n\")\n",
        "op=input(\"Enter the Operation to be Performed: \")\n",
        "if(op=='+'):\n",
        "  print(\"The Addition of\",x,\"and\",y,\"is\",x+y)\n",
        "elif(op=='-'):\n",
        "  print(\"The Subtraction of\",x,\"and\",y,\"is\",x-y)\n",
        "elif(op=='*'):\n",
        "  print(\"The Multiplication of\",x,\"and\",y,\"is\",x*y)\n",
        "elif(op=='/'):\n",
        "  print(\"The Division of\",x,\"and\",y,\"is\",x/y)\n",
        "else:\n",
        "  print(\"Please Input a valid operator!\")"
      ],
      "metadata": {
        "colab": {
          "base_uri": "https://localhost:8080/"
        },
        "id": "OkYhofzvpG3D",
        "outputId": "0a8a6d97-051a-4e60-e8d6-fff536b672be"
      },
      "execution_count": null,
      "outputs": [
        {
          "output_type": "stream",
          "name": "stdout",
          "text": [
            "Enter The First Number: 2+1j\n",
            "Enter The Second Number: 5-3j\n",
            "\n",
            "1.Addition: +\n",
            "2.Subtraction: -\n",
            "3.Multiplication: *\n",
            "4.Division: /\n",
            "\n",
            "Enter the Operation to be Performed: *\n",
            "The Multiplication of (2+1j) and (5-3j) is (13-1j)\n"
          ]
        }
      ]
    },
    {
      "cell_type": "markdown",
      "source": [
        "Write a Python Program to compute the roots of an quadratic equation"
      ],
      "metadata": {
        "id": "EpgiNdEFnSwr"
      }
    },
    {
      "cell_type": "code",
      "source": [
        "print(\"Quadratic Equation of the Form:\\nax^2+bx+c\")\n",
        "print(\"Enter the Values of a,b,c\")\n",
        "a=int(input(\"a: \"))\n",
        "b=int(input(\"b: \"))\n",
        "c=int(input(\"c: \"))\n",
        "if(a>0):\n",
        "  d=b**2 - 4*a*c\n",
        "  if(d>0):\n",
        "    print(\"The Roots are Real and Distinct\")\n",
        "    r1=(-b+d**0.5)/(2*a)\n",
        "    r2=(-b-d**0.5)/(2*a)\n",
        "    print(\"The Roots are\",r1,\"and\",r2)\n",
        "  elif(d==0):\n",
        "    print(\"The Roots are Real and Equal\")\n",
        "    r=(-b)/(2*a)\n",
        "    print(\"The Roots are\",r,\"and\",r)\n",
        "  else:\n",
        "    print(\"The Roots are imaginary\")\n",
        "    r=(-b)/2*a\n",
        "    i=(-1*d)/2*a\n",
        "    print(\"The Roots are ({}+{}i) and ({}-{}i)\".format(r,i,r,i))\n",
        "else:\n",
        "  print(\"Please enter a Valid Quadratic Equation!\")"
      ],
      "metadata": {
        "colab": {
          "base_uri": "https://localhost:8080/"
        },
        "id": "CcMJ8x-VpHev",
        "outputId": "cee01da0-c729-4085-9a93-b18d4c7abcfb"
      },
      "execution_count": null,
      "outputs": [
        {
          "output_type": "stream",
          "name": "stdout",
          "text": [
            "Quadratic Equation of the Form:\n",
            "ax^2+bx+c\n",
            "Enter the Values of a,b,c\n",
            "a: 2\n",
            "b: 5\n",
            "c: 10\n",
            "The Roots are imaginary\n",
            "The Roots are (-5.0+55.0i) and (-5.0-55.0i)\n"
          ]
        }
      ]
    },
    {
      "cell_type": "markdown",
      "source": [
        "write a python program to print first n even numbers"
      ],
      "metadata": {
        "id": "sdW76YY6na0_"
      }
    },
    {
      "cell_type": "code",
      "source": [
        "n=int(input(\"Enter the Value of N: \"))\n",
        "cnt=0\n",
        "while(cnt<n):\n",
        "  print(cnt*2,end=\" \")\n",
        "  cnt+=1"
      ],
      "metadata": {
        "colab": {
          "base_uri": "https://localhost:8080/"
        },
        "id": "jYclaXQApIRl",
        "outputId": "0c87eb08-dd52-4921-8a67-1c4855beaa6d"
      },
      "execution_count": null,
      "outputs": [
        {
          "output_type": "stream",
          "name": "stdout",
          "text": [
            "Enter the Value of N: 10\n",
            "0 2 4 6 8 10 12 14 16 18 "
          ]
        }
      ]
    },
    {
      "cell_type": "markdown",
      "source": [
        "Write a Python Program to find the sum and average of n input numbers"
      ],
      "metadata": {
        "id": "eLecogLhnhhC"
      }
    },
    {
      "cell_type": "code",
      "source": [
        "n=int(input(\"Enter the Value of N: \"))\n",
        "print(\"Enter the Numbers: \")\n",
        "for i in range(n):\n",
        "  x=int(input())\n",
        "  sum+=x\n",
        "avg=sum/n\n",
        "print(\"The Sum is\",sum,\"and the Average is\",avg)"
      ],
      "metadata": {
        "colab": {
          "base_uri": "https://localhost:8080/"
        },
        "id": "G8imAA_qpJJr",
        "outputId": "0f4287e5-1282-441a-8d35-6161d2f7d0f8"
      },
      "execution_count": null,
      "outputs": [
        {
          "output_type": "stream",
          "name": "stdout",
          "text": [
            "Enter the Value of N: 5\n",
            "Enter the Numbers: \n",
            "5\n",
            "4\n",
            "6\n",
            "5\n",
            "4\n",
            "The Sum is 24 and the average is 4.8\n"
          ]
        }
      ]
    },
    {
      "cell_type": "markdown",
      "source": [
        "write a python program to evaluate the following series:\n",
        "1. 1+x^2+x^3+.....+x^n\n",
        "2. 1-x^2+x^3+.....+x^n5"
      ],
      "metadata": {
        "id": "vckRRWf2nqfj"
      }
    },
    {
      "cell_type": "code",
      "source": [
        "#1+x+x^2+x^3+.....+x^n\n",
        "x=int(input(\"x: \"))\n",
        "n=int(input(\"n: \"))\n",
        "sum=0\n",
        "for i in range(n+1):\n",
        "  sum=sum+(x**i)\n",
        "print(sum)"
      ],
      "metadata": {
        "id": "0EYvO27bn8fW",
        "colab": {
          "base_uri": "https://localhost:8080/"
        },
        "outputId": "77d2d164-41d8-453a-f342-7fd31af60a4c"
      },
      "execution_count": null,
      "outputs": [
        {
          "output_type": "stream",
          "name": "stdout",
          "text": [
            "x: 2\n",
            "n: 2\n",
            "7\n"
          ]
        }
      ]
    },
    {
      "cell_type": "code",
      "source": [
        "#1+x-x^2+x^3-.....+x^n5\n",
        "x=int(input(\"x: \"))\n",
        "n=int(input(\"n: \"))\n",
        "sum=0\n",
        "for i in range(n+1):\n",
        "  if(i%2==0):\n",
        "    sum=sum-(x**i)\n",
        "  else:\n",
        "    sum=sum+(x**i)\n",
        "print(sum)"
      ],
      "metadata": {
        "colab": {
          "base_uri": "https://localhost:8080/"
        },
        "id": "cPMAhJC88TXv",
        "outputId": "7d19ad74-8930-47c4-d461-abf0deb61b1b"
      },
      "execution_count": null,
      "outputs": [
        {
          "output_type": "stream",
          "name": "stdout",
          "text": [
            "x: 2\n",
            "n: 2\n",
            "-3\n"
          ]
        }
      ]
    },
    {
      "cell_type": "markdown",
      "source": [
        "write a python program to print the series of odd numbers with its sum and total number of odd numbers till n"
      ],
      "metadata": {
        "id": "88IRdXjRn97p"
      }
    },
    {
      "cell_type": "code",
      "source": [
        "n=int(input(\"Enter the Value of N: \"))\n",
        "sum=0\n",
        "count=0\n",
        "for i in range(n):\n",
        "  if(i%2==1):\n",
        "    print(i,end=\" \")\n",
        "    sum+=i\n",
        "    count+=1\n",
        "print(\"\\nThe sum is\",sum,\"and the total number of odd numbers are\",count)"
      ],
      "metadata": {
        "colab": {
          "base_uri": "https://localhost:8080/"
        },
        "id": "ueWWZucwoIK8",
        "outputId": "5158c5ab-3023-4498-f981-9757467439ea"
      },
      "execution_count": null,
      "outputs": [
        {
          "output_type": "stream",
          "name": "stdout",
          "text": [
            "Enter the Value of N: 20\n",
            "1 3 5 7 9 11 13 15 17 19 \n",
            "The sum is 100 and the total number of odd numbers are 10\n"
          ]
        }
      ]
    },
    {
      "cell_type": "markdown",
      "source": [
        "write a python program to find the factors of a given number and total number of factors"
      ],
      "metadata": {
        "id": "qFZqm29NoImo"
      }
    },
    {
      "cell_type": "code",
      "source": [
        "x=int(input(\"Enter the Number: \"))\n",
        "cnt=0\n",
        "print(\"The Factors are:\")\n",
        "for i in range(1,x+1):\n",
        "  if(x%i==0):\n",
        "    print(i,end=\" \")\n",
        "    cnt+=1\n",
        "print(\"\\nTotal Number of Factors are:\",cnt)"
      ],
      "metadata": {
        "id": "cKQwZxIDpKAm",
        "colab": {
          "base_uri": "https://localhost:8080/"
        },
        "outputId": "7427ecf8-ed37-4704-a1aa-d3a2f929ed16"
      },
      "execution_count": null,
      "outputs": [
        {
          "output_type": "stream",
          "name": "stdout",
          "text": [
            "Enter the Number: 15\n",
            "The Factors are:\n",
            "1 3 5 15 \n",
            "Total Number of Factors are: 4\n"
          ]
        }
      ]
    },
    {
      "cell_type": "code",
      "source": [
        "#Even Factors\n",
        "x=int(input(\"Enter the Number: \"))\n",
        "cnt=0\n",
        "print(\"The Even Factors are:\")\n",
        "for i in range(1,x+1):\n",
        "  if(x%i==0 and i%2==0):\n",
        "    print(i,end=\" \")"
      ],
      "metadata": {
        "colab": {
          "base_uri": "https://localhost:8080/"
        },
        "id": "X_LySoAZxB6m",
        "outputId": "1c052d4e-5536-46f6-9847-d65ac7f49b81"
      },
      "execution_count": null,
      "outputs": [
        {
          "output_type": "stream",
          "name": "stdout",
          "text": [
            "Enter the Number: 10\n",
            "The Even Factors are:\n",
            "2 10 "
          ]
        }
      ]
    },
    {
      "cell_type": "markdown",
      "source": [
        "write a python program to check the input number is prime number or not"
      ],
      "metadata": {
        "id": "jiovkRu5oUUq"
      }
    },
    {
      "cell_type": "code",
      "source": [
        "n=int(input(\"Enter the Number: \"))\n",
        "flag=0\n",
        "cnt=0\n",
        "if(n==1):\n",
        "  print(f\"{n} is not a Prime Number\")\n",
        "elif(n>1):\n",
        "  for i in range(2,int((n/2))+1):\n",
        "    cnt+=1\n",
        "    if(n%i==0):\n",
        "      flag=1\n",
        "      break\n",
        "  if(flag):\n",
        "    print(f\"{n} is not a Prime Number\")\n",
        "  else:\n",
        "    print(f\"{n} is a Prime Number\")\n",
        "print(\"Iterations:\",cnt)"
      ],
      "metadata": {
        "id": "twf8Uhj-pKq5",
        "colab": {
          "base_uri": "https://localhost:8080/"
        },
        "outputId": "74340802-f9e7-49a2-8267-c74172c523eb"
      },
      "execution_count": null,
      "outputs": [
        {
          "output_type": "stream",
          "name": "stdout",
          "text": [
            "Enter the Number: 37\n",
            "37 is a Prime Number\n",
            "Iterations: 17\n"
          ]
        }
      ]
    },
    {
      "cell_type": "code",
      "source": [
        "n=int(input(\"Enter the Number: \"))\n",
        "flag=0\n",
        "cnt=0\n",
        "if(n==1):\n",
        "  print(f\"{n} is not a Prime Number\")\n",
        "elif(n>1):\n",
        "  for i in range(2,int(n**0.5)):\n",
        "    cnt+=1\n",
        "    if(n%i==0):\n",
        "      flag=1\n",
        "      break\n",
        "  if(flag):\n",
        "    print(f\"{n} is not a Prime Number\")\n",
        "  else:\n",
        "    print(f\"{n} is a Prime Number\")\n",
        "print(\"Iterations:\",cnt)"
      ],
      "metadata": {
        "colab": {
          "base_uri": "https://localhost:8080/"
        },
        "id": "lsGJIVqV5kAw",
        "outputId": "9c7bd34f-75aa-414b-8505-447b63aa543f"
      },
      "execution_count": null,
      "outputs": [
        {
          "output_type": "stream",
          "name": "stdout",
          "text": [
            "Enter the Number: 37\n",
            "37 is a Prime Number\n",
            "Iterations: 4\n"
          ]
        }
      ]
    },
    {
      "cell_type": "code",
      "source": [
        "n=int(input(\"Enter the Number: \"))\n",
        "flag=0\n",
        "cnt=0\n",
        "if(n==1):\n",
        "  print(f\"{n} is not a Prime Number\")\n",
        "elif(n>1):\n",
        "  for i in range(2,n):\n",
        "    cnt+=1\n",
        "    if(n%i==0):\n",
        "      flag=1\n",
        "  if(flag):\n",
        "    print(f\"{n} is not a Prime Number\")\n",
        "  else:\n",
        "    print(f\"{n} is a Prime Number\")\n",
        "print(\"Iterations:\",cnt)"
      ],
      "metadata": {
        "colab": {
          "base_uri": "https://localhost:8080/"
        },
        "id": "flV9t7251iWv",
        "outputId": "5cc72a81-503f-4dd2-dcb0-56131c047d4d"
      },
      "execution_count": null,
      "outputs": [
        {
          "output_type": "stream",
          "name": "stdout",
          "text": [
            "Enter the Number: 37\n",
            "37 is a Prime Number\n",
            "Iterations: 35\n"
          ]
        }
      ]
    },
    {
      "cell_type": "code",
      "source": [
        "n=int(input(\"Enter the Number: \"))\n",
        "flag=0\n",
        "cnt=0\n",
        "if(n==1):\n",
        "  print(f\"{n} is not a Prime Number\")\n",
        "elif(n>1):\n",
        "  for i in range(2,n+1):\n",
        "    cnt+=1\n",
        "    if(n%i==0):\n",
        "      flag=1\n",
        "  if(flag):\n",
        "    print(f\"{n} is not a Prime Number\")\n",
        "  else:\n",
        "    print(f\"{n} is a Prime Number\")\n",
        "print(\"Iterations:\",cnt)"
      ],
      "metadata": {
        "colab": {
          "base_uri": "https://localhost:8080/"
        },
        "id": "48Q8nl7l8qMA",
        "outputId": "c62c7084-d32d-4cdc-d129-892382f410be"
      },
      "execution_count": null,
      "outputs": [
        {
          "output_type": "stream",
          "name": "stdout",
          "text": [
            "Enter the Number: 37\n",
            "37 is not a Prime Number\n",
            "Iterations: 36\n"
          ]
        }
      ]
    },
    {
      "cell_type": "markdown",
      "source": [
        "write a python program to find the sum of digits in a given number"
      ],
      "metadata": {
        "id": "eBvriE5KobAd"
      }
    },
    {
      "cell_type": "code",
      "source": [
        "n=int(input(\"Enter the Number: \"))\n",
        "sum=0\n",
        "while(n!=0):\n",
        "  r=n%10\n",
        "  sum=sum+r\n",
        "  n=n//10\n",
        "print(\"The Sum of the digits is\",sum)"
      ],
      "metadata": {
        "id": "Uf3xDIs7pLXa",
        "colab": {
          "base_uri": "https://localhost:8080/"
        },
        "outputId": "e495048a-b388-42d5-9fb8-8c4b5208a14d"
      },
      "execution_count": null,
      "outputs": [
        {
          "output_type": "stream",
          "name": "stdout",
          "text": [
            "Enter the Number: 1234\n",
            "The Sum of the digits is 10\n"
          ]
        }
      ]
    },
    {
      "cell_type": "markdown",
      "source": [
        "write a Python program to find the sum of the digits in a given number till the result is a single digit"
      ],
      "metadata": {
        "id": "PUGQoIHEFOpb"
      }
    },
    {
      "cell_type": "code",
      "source": [
        "n=int(input(\"Enter the Number: \"))\n",
        "sum=0\n",
        "while(n!=0):\n",
        "  r=n%10\n",
        "  sum=sum+r\n",
        "  n=n//10\n",
        "  if(n==0 and sum//10!=0):\n",
        "    n=sum\n",
        "    sum=0\n",
        "print(\"The Sum of the digits is\",sum)"
      ],
      "metadata": {
        "colab": {
          "base_uri": "https://localhost:8080/"
        },
        "id": "dnSWmO_pFica",
        "outputId": "e57db668-7250-47d6-fa66-8e34356a19f3"
      },
      "execution_count": null,
      "outputs": [
        {
          "output_type": "stream",
          "name": "stdout",
          "text": [
            "Enter the Number: 8849\n",
            "The Sum of the digits is 2\n"
          ]
        }
      ]
    },
    {
      "cell_type": "markdown",
      "source": [
        "write a python program to check the given number is palindrome or not"
      ],
      "metadata": {
        "id": "UW0r91luoiRD"
      }
    },
    {
      "cell_type": "code",
      "source": [
        "n=int(input(\"Enter the Number: \"))\n",
        "temp=n\n",
        "rev=0\n",
        "while(n>0):\n",
        "  r=n%10\n",
        "  rev=rev*10+r\n",
        "  n=n//10\n",
        "if(temp==rev):\n",
        "  print(\"The Number is a Palindrome\")\n",
        "else:\n",
        "  print(\"The Number is not a Palindrome\")"
      ],
      "metadata": {
        "id": "CZK28w7_osVJ",
        "colab": {
          "base_uri": "https://localhost:8080/"
        },
        "outputId": "7d313a10-d35f-4f25-8c4c-7a098faa17fc"
      },
      "execution_count": null,
      "outputs": [
        {
          "output_type": "stream",
          "name": "stdout",
          "text": [
            "Enter the Number: 2323\n",
            "The Number is not a Palindrome\n"
          ]
        }
      ]
    },
    {
      "cell_type": "code",
      "source": [
        "s=input(\"Enter a String: \")\n",
        "flag=0\n",
        "if(s==\" \"):\n",
        "  print(\"Enter a Valid String!\")\n",
        "for i in range(len(s)):\n",
        "  if(s[i]!=s[-1-i]):\n",
        "    flag=1\n",
        "    break\n",
        "if(flag):\n",
        "  print(\"It is not a Palindrome\")\n",
        "  print(\"Size:\",len(s))\n",
        "else:\n",
        "  print(\"It is a Palindrome\")\n",
        "  print(\"Count:\",int(i/2))"
      ],
      "metadata": {
        "id": "qUBRHv_W9Sa9",
        "colab": {
          "base_uri": "https://localhost:8080/"
        },
        "outputId": "61230cf6-e0f4-4ebb-9b02-bc3473bee804"
      },
      "execution_count": null,
      "outputs": [
        {
          "output_type": "stream",
          "name": "stdout",
          "text": [
            "Enter a String: malayalam\n",
            "It is a Palindrome\n",
            "Count: 4\n"
          ]
        }
      ]
    },
    {
      "cell_type": "code",
      "source": [
        "x=int(input(\"Enter the Number of Rows Required: \"))\n",
        "for i in range(0,x):\n",
        "  for j in range(0,i+1):\n",
        "    print(\"*\",end=\"\")\n",
        "  print()"
      ],
      "metadata": {
        "id": "ZozKLAsjyjxD",
        "colab": {
          "base_uri": "https://localhost:8080/"
        },
        "outputId": "79995865-729b-4b3d-c9f6-be9ed6e2b7a0"
      },
      "execution_count": null,
      "outputs": [
        {
          "output_type": "stream",
          "name": "stdout",
          "text": [
            "Enter the Number of Rows Required: 5\n",
            "*\n",
            "**\n",
            "***\n",
            "****\n",
            "*****\n"
          ]
        }
      ]
    },
    {
      "cell_type": "code",
      "source": [
        "x=int(input(\"Enter the Number of Rows Required: \"))\n",
        "for i in range(0,x):\n",
        "  for j in range(1,i+2):\n",
        "    print(j,end=\"\")\n",
        "  print()"
      ],
      "metadata": {
        "colab": {
          "base_uri": "https://localhost:8080/"
        },
        "id": "febLZuC3D2CU",
        "outputId": "d64c1eb8-d514-49d4-cb97-db7f6cc83eb3"
      },
      "execution_count": null,
      "outputs": [
        {
          "output_type": "stream",
          "name": "stdout",
          "text": [
            "Enter the Number of Rows Required: 5\n",
            "1\n",
            "12\n",
            "123\n",
            "1234\n",
            "12345\n"
          ]
        }
      ]
    },
    {
      "cell_type": "code",
      "source": [
        "x=int(input(\"Enter the Number of Rows Required: \"))\n",
        "for i in range(1,x+1):\n",
        "  for j in range(0,i):\n",
        "    print(i,end=\"\")\n",
        "  print()"
      ],
      "metadata": {
        "colab": {
          "base_uri": "https://localhost:8080/"
        },
        "id": "QVfNN8WHEC9_",
        "outputId": "0e582e18-9792-4a86-d1d5-611a4cb5084c"
      },
      "execution_count": null,
      "outputs": [
        {
          "output_type": "stream",
          "name": "stdout",
          "text": [
            "Enter the Number of Rows Required: 5\n",
            "1\n",
            "22\n",
            "333\n",
            "4444\n",
            "55555\n"
          ]
        }
      ]
    },
    {
      "cell_type": "code",
      "source": [
        "x=int(input(\"Enter the Number of Rows Required: \"))\n",
        "n='A'\n",
        "for i in range(0,x):\n",
        "  for j in range(0,i+1):\n",
        "    print(n,end=\"\")\n",
        "  print()"
      ],
      "metadata": {
        "colab": {
          "base_uri": "https://localhost:8080/"
        },
        "id": "q-GJETBgESRA",
        "outputId": "a8d0c7fd-5379-46c5-d306-9e238787df7f"
      },
      "execution_count": null,
      "outputs": [
        {
          "output_type": "stream",
          "name": "stdout",
          "text": [
            "Enter the Number of Rows Required: 5\n",
            "A\n",
            "AA\n",
            "AAA\n",
            "AAAA\n",
            "AAAAA\n"
          ]
        }
      ]
    },
    {
      "cell_type": "code",
      "source": [
        "x=int(input(\"Enter the Number of Rows Required: \"))\n",
        "for i in range(x,0,-1):\n",
        "  for j in range(0,i):\n",
        "    print(\"*\",end=\"\")\n",
        "  print()"
      ],
      "metadata": {
        "colab": {
          "base_uri": "https://localhost:8080/"
        },
        "id": "cpPiUYN3F1ko",
        "outputId": "a0d84eed-6511-4752-bdb1-bbf4be74929e"
      },
      "execution_count": null,
      "outputs": [
        {
          "output_type": "stream",
          "name": "stdout",
          "text": [
            "Enter the Number of Rows Required: 5\n",
            "*****\n",
            "****\n",
            "***\n",
            "**\n",
            "*\n"
          ]
        }
      ]
    },
    {
      "cell_type": "code",
      "source": [
        "x=int(input(\"Enter the Number of Rows Required: \"))\n",
        "for i in range(x,0,-1):\n",
        "  for j in range(i,0,-1):\n",
        "    print(j,end=\"\")\n",
        "  print()"
      ],
      "metadata": {
        "colab": {
          "base_uri": "https://localhost:8080/"
        },
        "id": "l3jpXr-QGKFF",
        "outputId": "2dda2dd1-d792-4784-9a1f-2e546f3cc82b"
      },
      "execution_count": null,
      "outputs": [
        {
          "output_type": "stream",
          "name": "stdout",
          "text": [
            "Enter the Number of Rows Required: 5\n",
            "54321\n",
            "4321\n",
            "321\n",
            "21\n",
            "1\n"
          ]
        }
      ]
    },
    {
      "cell_type": "code",
      "source": [
        "x=int(input(\"Enter the Number of Rows Required: \"))\n",
        "for i in range(0,x):\n",
        "  for j in range(65,65+i+1):\n",
        "    print(chr(j),end=\"\")\n",
        "  print()"
      ],
      "metadata": {
        "colab": {
          "base_uri": "https://localhost:8080/"
        },
        "id": "xywXExgGGqPI",
        "outputId": "5d1c639b-ba84-44bc-e6a7-605ce598a01c"
      },
      "execution_count": null,
      "outputs": [
        {
          "output_type": "stream",
          "name": "stdout",
          "text": [
            "Enter the Number of Rows Required: 5\n",
            "A\n",
            "AB\n",
            "ABC\n",
            "ABCD\n",
            "ABCDE\n"
          ]
        }
      ]
    },
    {
      "cell_type": "markdown",
      "source": [
        "#Functions:"
      ],
      "metadata": {
        "id": "n0rzqjRy2lWV"
      }
    },
    {
      "cell_type": "code",
      "source": [
        "#Variable Length Non Keyword Parameters\n",
        "def f(*x):\n",
        "  s=0\n",
        "  for i in x:\n",
        "    s=s+i\n",
        "  return s\n",
        "print(\"Sum is\",f(10))\n",
        "print(\"Sum is\",f(10,20,30))\n",
        "print(\"Sum is\",f(10,20))"
      ],
      "metadata": {
        "colab": {
          "base_uri": "https://localhost:8080/"
        },
        "id": "Kt6dLuo-2noX",
        "outputId": "f599e665-a75b-4fb7-cbd2-fea9bce0d0cf"
      },
      "execution_count": null,
      "outputs": [
        {
          "output_type": "stream",
          "name": "stdout",
          "text": [
            "Sum is 10\n",
            "Sum is 60\n",
            "Sum is 30\n"
          ]
        }
      ]
    },
    {
      "cell_type": "code",
      "source": [
        "#Variable Length Keyword Parameters\n",
        "def f(**x):\n",
        "  for i,j in x.items():\n",
        "    print(j)\n",
        "f(first=\"Amit\",last=\"Sabnis\")"
      ],
      "metadata": {
        "colab": {
          "base_uri": "https://localhost:8080/"
        },
        "id": "jt6MLyzm6h0y",
        "outputId": "009d1160-4cbd-4cce-9ef2-7e2b9c32b9d2"
      },
      "execution_count": null,
      "outputs": [
        {
          "output_type": "stream",
          "name": "stdout",
          "text": [
            "Amit\n",
            "Sabnis\n"
          ]
        }
      ]
    },
    {
      "cell_type": "markdown",
      "source": [
        "Recursion:"
      ],
      "metadata": {
        "id": "IwOQlyXxAFLu"
      }
    },
    {
      "cell_type": "code",
      "source": [
        "#Factorial\n",
        "def fact(n):\n",
        "  if(n==0):\n",
        "    return 1\n",
        "  else:\n",
        "    return n*fact(n-1)\n",
        "num=int(input(\"Enter the Number: \"))\n",
        "print(\"Factorial is\",fact(num))"
      ],
      "metadata": {
        "colab": {
          "base_uri": "https://localhost:8080/"
        },
        "id": "gFiZVSwYAJB1",
        "outputId": "38219039-39ef-4774-d14f-7cd10b5ddc5c"
      },
      "execution_count": null,
      "outputs": [
        {
          "output_type": "stream",
          "name": "stdout",
          "text": [
            "Enter the Number: 6\n",
            "Factorial is 720\n"
          ]
        }
      ]
    },
    {
      "cell_type": "code",
      "source": [
        "#sum of digits\n",
        "def dig(n):\n",
        "  if(n==0):\n",
        "    return 0\n",
        "  else:\n",
        "    return (n%10)+dig(n//10)\n",
        "n=int(input(\"Enter the Number: \"))\n",
        "print(\"Sum of Digits is\",dig(n))"
      ],
      "metadata": {
        "colab": {
          "base_uri": "https://localhost:8080/"
        },
        "id": "OyFUjUmUHg2c",
        "outputId": "80101370-cafa-4fb6-e58d-e8e213181505"
      },
      "execution_count": null,
      "outputs": [
        {
          "output_type": "stream",
          "name": "stdout",
          "text": [
            "Enter the Number: 5654\n",
            "Sum of Digits is 20\n"
          ]
        }
      ]
    },
    {
      "cell_type": "markdown",
      "source": [
        "#List:"
      ],
      "metadata": {
        "id": "dNG2l2IaJFt8"
      }
    },
    {
      "cell_type": "markdown",
      "source": [
        "write a python program to create list at compile time and print the list"
      ],
      "metadata": {
        "id": "PljbW7fHMzpr"
      }
    },
    {
      "cell_type": "code",
      "source": [
        "l1=[1,2,3,4,5]\n",
        "print(l1)"
      ],
      "metadata": {
        "colab": {
          "base_uri": "https://localhost:8080/"
        },
        "id": "HEGyNCD7Bx8y",
        "outputId": "7d45aae7-8bf7-4043-f046-58a96aab7f08"
      },
      "execution_count": null,
      "outputs": [
        {
          "output_type": "stream",
          "name": "stdout",
          "text": [
            "[1, 2, 3, 4, 5]\n"
          ]
        }
      ]
    },
    {
      "cell_type": "markdown",
      "source": [
        "write a python program to create a list at compile time and print the elements of the list using indexing and for each"
      ],
      "metadata": {
        "id": "VU1j7W7KM-jB"
      }
    },
    {
      "cell_type": "code",
      "source": [
        "#indexing\n",
        "l1=[10,20,30,40,50,60]\n",
        "for i in range(0,len(l1)):\n",
        "  print(l1[i])"
      ],
      "metadata": {
        "colab": {
          "base_uri": "https://localhost:8080/"
        },
        "id": "dswdp2LDN6qU",
        "outputId": "3e3add19-06e6-499b-955a-b420bda765b9"
      },
      "execution_count": null,
      "outputs": [
        {
          "output_type": "stream",
          "name": "stdout",
          "text": [
            "10\n",
            "20\n",
            "30\n",
            "40\n",
            "50\n",
            "60\n"
          ]
        }
      ]
    },
    {
      "cell_type": "code",
      "source": [
        "#for each\n",
        "l1=[2,4,6,8,10,12]\n",
        "for i in l1:\n",
        "  print(i)"
      ],
      "metadata": {
        "colab": {
          "base_uri": "https://localhost:8080/"
        },
        "id": "XfmD9p33OfnQ",
        "outputId": "07d069ee-bcad-4f23-eff4-325e7529453c"
      },
      "execution_count": null,
      "outputs": [
        {
          "output_type": "stream",
          "name": "stdout",
          "text": [
            "2\n",
            "4\n",
            "6\n",
            "8\n",
            "10\n",
            "12\n"
          ]
        }
      ]
    },
    {
      "cell_type": "markdown",
      "source": [
        "write a python program to create a list with n elements and print\n",
        "\n",
        "a. list\n",
        "b. list elements"
      ],
      "metadata": {
        "id": "7BJqBCw5NNt1"
      }
    },
    {
      "cell_type": "code",
      "source": [
        "n=int(input(\"Enter the Value of N: \"))\n",
        "l1=[]\n",
        "for i in range(n):\n",
        "  a=eval(input())\n",
        "  l1.append(a)\n",
        "print(\"List:\",l1)\n",
        "print(\"Elements:\")\n",
        "for i in l1:\n",
        "  print(i)"
      ],
      "metadata": {
        "colab": {
          "base_uri": "https://localhost:8080/"
        },
        "id": "BMPcXup6N5_c",
        "outputId": "8e67f6de-7e95-4133-a703-5eb313d81995"
      },
      "execution_count": null,
      "outputs": [
        {
          "output_type": "stream",
          "name": "stdout",
          "text": [
            "Enter the Value of N: 5\n",
            "10\n",
            "12\n",
            "14\n",
            "16\n",
            "18\n",
            "List: [10, 12, 14, 16, 18]\n",
            "Elements:\n",
            "10\n",
            "12\n",
            "14\n",
            "16\n",
            "18\n"
          ]
        }
      ]
    },
    {
      "cell_type": "markdown",
      "source": [
        "write a python program to read a list with n elements and compute the sum of elements in the list"
      ],
      "metadata": {
        "id": "KTLFlvAvNgA2"
      }
    },
    {
      "cell_type": "code",
      "source": [
        "n=int(input(\"Enter the Value of N: \"))\n",
        "l1=[]\n",
        "for i in range(n):\n",
        "  a=eval(input())\n",
        "  l1.append(a)\n",
        "sum=0\n",
        "for i in l1:\n",
        "  sum+=i\n",
        "print(\"The Sum of Elements is:\",sum)"
      ],
      "metadata": {
        "colab": {
          "base_uri": "https://localhost:8080/"
        },
        "id": "_uSqdhTlN5IB",
        "outputId": "191209b0-19c3-435e-b675-fa7b9b79b2db"
      },
      "execution_count": null,
      "outputs": [
        {
          "output_type": "stream",
          "name": "stdout",
          "text": [
            "Enter the Value of N: 5\n",
            "10\n",
            "20\n",
            "30\n",
            "40\n",
            "50\n",
            "The Sum of Elements is: 150\n"
          ]
        }
      ]
    },
    {
      "cell_type": "markdown",
      "source": [
        "write a python program to create a list with n elements and display the list from to first"
      ],
      "metadata": {
        "id": "mzoMHFG3Nshm"
      }
    },
    {
      "cell_type": "code",
      "source": [
        "n=int(input(\"Enter the Value of N: \"))\n",
        "l1=[]\n",
        "for i in range(n):\n",
        "  a=eval(input())\n",
        "  l1.append(a)\n",
        "print(\"Reversed list is: 63\")\n",
        "for i in range(-1,-(len(l1)+1),-1):\n",
        "  print(l1[i],end=\" \")"
      ],
      "metadata": {
        "colab": {
          "base_uri": "https://localhost:8080/"
        },
        "id": "bbmRsgOUN4Sc",
        "outputId": "847dcdde-f551-477d-eba3-7ba569c81996"
      },
      "execution_count": null,
      "outputs": [
        {
          "output_type": "stream",
          "name": "stdout",
          "text": [
            "Enter the Value of N: 10\n",
            "20\n",
            "5\n",
            "5\n",
            "65\n",
            "65\n",
            "454\n",
            "44\n",
            "4\n",
            "2\n",
            "2\n",
            "Reversed list is: \n",
            "2 2 4 44 454 65 65 5 5 20 "
          ]
        }
      ]
    },
    {
      "cell_type": "markdown",
      "source": [
        "write a python program to find the number of prime numbers in the input list with a size of n"
      ],
      "metadata": {
        "id": "U49ZQ4mmXcsy"
      }
    },
    {
      "cell_type": "code",
      "source": [
        "def isPrime(n):\n",
        "  if(n==1):\n",
        "    return False\n",
        "  for i in range(2,n+1):\n",
        "    if(n%i==0):\n",
        "      return False\n",
        "    else:\n",
        "      return True\n",
        "n=int(input(\"Enter the value of n: \"))\n",
        "l1=[]\n",
        "for i in range(n):\n",
        "  a=eval(input())\n",
        "  l1.append(a)\n",
        "cnt=0\n",
        "for i in l1:\n",
        "  if(isPrime(i)):\n",
        "    cnt+=1\n",
        "print(\"The Total Numbers of Prime Numbers are:\",cnt)"
      ],
      "metadata": {
        "colab": {
          "base_uri": "https://localhost:8080/"
        },
        "id": "sJjNIsMPX0tv",
        "outputId": "34a4b52b-dcd4-4ac5-ca08-d40f41e7de4f"
      },
      "execution_count": null,
      "outputs": [
        {
          "name": "stdout",
          "output_type": "stream",
          "text": [
            "Enter the value of n: 5\n"
          ]
        }
      ]
    },
    {
      "cell_type": "code",
      "source": [
        "#list of integers from 1 to n\n",
        "n=int(input())\n",
        "l=[i for i in range(1,n+1)]\n",
        "print(l)"
      ],
      "metadata": {
        "colab": {
          "base_uri": "https://localhost:8080/"
        },
        "id": "BPg9VZT5B1FC",
        "outputId": "439a00ae-5f92-416a-c279-e8908ef9edd0"
      },
      "execution_count": null,
      "outputs": [
        {
          "output_type": "stream",
          "name": "stdout",
          "text": [
            "5\n",
            "[1, 2, 3, 4, 5]\n"
          ]
        }
      ]
    },
    {
      "cell_type": "code",
      "source": [
        "#list of even numbers from 1 to n\n",
        "n=int(input())\n",
        "l=[i for i in range(1,n+1) if(i%2==0)]\n",
        "print(\"Even Numbers are\",l)"
      ],
      "metadata": {
        "colab": {
          "base_uri": "https://localhost:8080/"
        },
        "id": "hUTBZU-5DX0O",
        "outputId": "3db4376e-f302-472d-a24c-67bdbe6f9a01"
      },
      "execution_count": null,
      "outputs": [
        {
          "output_type": "stream",
          "name": "stdout",
          "text": [
            "5\n",
            "[2, 4]\n"
          ]
        }
      ]
    },
    {
      "cell_type": "code",
      "source": [
        "#square of the number in a series from 1 to n\n",
        "n=int(input())\n",
        "l=[i*i for i in range(1,n+1)]\n",
        "print(\"The List is\",l)"
      ],
      "metadata": {
        "colab": {
          "base_uri": "https://localhost:8080/"
        },
        "id": "29z913SXEa2i",
        "outputId": "f3978103-0c93-4cc9-e74b-6ce20c042220"
      },
      "execution_count": null,
      "outputs": [
        {
          "output_type": "stream",
          "name": "stdout",
          "text": [
            "5\n",
            "The List is [1, 4, 9, 16, 25]\n"
          ]
        }
      ]
    },
    {
      "cell_type": "code",
      "source": [
        "#list of factors for an input n value\n",
        "n=int(input())\n",
        "l=[i for i in range(1,n+1) if(n%i==0)]\n",
        "print(\"The Factors are\",l)"
      ],
      "metadata": {
        "colab": {
          "base_uri": "https://localhost:8080/"
        },
        "id": "b1TEMCErErXa",
        "outputId": "b4eaf3e7-f5bb-45d5-f8d2-7f3d9ff1dcc3"
      },
      "execution_count": null,
      "outputs": [
        {
          "output_type": "stream",
          "name": "stdout",
          "text": [
            "1024\n",
            "The Factors are [1, 2, 4, 8, 16, 32, 64, 128, 256, 512, 1024]\n"
          ]
        }
      ]
    },
    {
      "cell_type": "code",
      "source": [
        "#nested list of series of numbers from 1 to n where each sublist is again a series of numbers with its respective postition\n",
        "#[[1],[1,2],[1,2,3]]\n",
        "n=int(input())\n",
        "l=[[j for j in range(1,i+1)] for i in range(1,n+1)]\n",
        "print(l)"
      ],
      "metadata": {
        "colab": {
          "base_uri": "https://localhost:8080/"
        },
        "id": "-dVbPmJZEyNK",
        "outputId": "94502cbc-c695-4e10-f26f-6ffce6ea5485"
      },
      "execution_count": null,
      "outputs": [
        {
          "output_type": "stream",
          "name": "stdout",
          "text": [
            "5\n",
            "[[1], [1, 2], [1, 2, 3], [1, 2, 3, 4], [1, 2, 3, 4, 5]]\n"
          ]
        }
      ]
    },
    {
      "cell_type": "code",
      "source": [
        "#create a nested list by accepting an input n where the sublist should contain the factors of each and every number from 1 to n\n",
        "n=int(input())\n",
        "l=[[j for j in range(1,i+1) if(i%j==0)] for i in range(1,n+1)]\n",
        "print(l)"
      ],
      "metadata": {
        "colab": {
          "base_uri": "https://localhost:8080/"
        },
        "id": "uxLH7BxFFMqk",
        "outputId": "4082b170-e7b5-4ee1-bb1f-61467927ea26"
      },
      "execution_count": null,
      "outputs": [
        {
          "output_type": "stream",
          "name": "stdout",
          "text": [
            "10\n",
            "[[1], [1, 2], [1, 3], [1, 2, 4], [1, 5], [1, 2, 3, 6], [1, 7], [1, 2, 4, 8], [1, 3, 9], [1, 2, 5, 10]]\n"
          ]
        }
      ]
    },
    {
      "cell_type": "markdown",
      "source": [
        "#Tuples:\n",
        "\n",
        "\n",
        "*   Collection of Elements\n",
        "*   Indexing, Ordered\n",
        "*   Immutable\n",
        "\n"
      ],
      "metadata": {
        "id": "T1dOYJwqQrXQ"
      }
    },
    {
      "cell_type": "code",
      "source": [
        "n=int(input())\n",
        "t=()\n",
        "for i in range(n):\n",
        "  x=input().split(\",\")\n",
        "  t=t+tuple(x)\n",
        "print(t)"
      ],
      "metadata": {
        "colab": {
          "base_uri": "https://localhost:8080/"
        },
        "id": "emcDg9GNQpNR",
        "outputId": "1af93c6a-3b68-4de3-bda7-70d42f52142c"
      },
      "execution_count": null,
      "outputs": [
        {
          "output_type": "stream",
          "name": "stdout",
          "text": [
            "2\n",
            "15\n",
            "18\n",
            "('15', '18')\n"
          ]
        }
      ]
    },
    {
      "cell_type": "code",
      "source": [
        "#create a tuple of even integers till n\n",
        "n=int(input())\n",
        "t=()\n",
        "for i in range(1,n+1):\n",
        "  if(i%2==0):\n",
        "    l=[i]\n",
        "    t=t+tuple(l)\n",
        "print(t)"
      ],
      "metadata": {
        "id": "tudvngB6Wwk0",
        "colab": {
          "base_uri": "https://localhost:8080/"
        },
        "outputId": "5b94eb7a-1be9-4e5d-c33f-f0687042c6c0"
      },
      "execution_count": null,
      "outputs": [
        {
          "output_type": "stream",
          "name": "stdout",
          "text": [
            "10\n",
            "(2, 4, 6, 8, 10)\n"
          ]
        }
      ]
    },
    {
      "cell_type": "code",
      "source": [
        "#read a string and create the vowel and consonant tuples separately\n",
        "n=input()\n",
        "vow_tup=()\n",
        "con_tup=()\n",
        "for i in range(len(n)-1):\n",
        "  if(n[i] in [\" \",\",\"]):\n",
        "    continue\n",
        "  if(n[i] in ['a','e','i','o','u','A','E','I','O','U']):\n",
        "    l=[n[i]]\n",
        "    vow_tup+=tuple(l)\n",
        "  else:\n",
        "    l=[n[i]]\n",
        "    con_tup+=tuple(l)\n",
        "print(\"Vowels:\",vow_tup)\n",
        "print(\"Consonants:\",con_tup)"
      ],
      "metadata": {
        "id": "yaD51aefW_G9",
        "colab": {
          "base_uri": "https://localhost:8080/"
        },
        "outputId": "268eb58b-5a65-4a86-93e9-73c7287332b6"
      },
      "execution_count": null,
      "outputs": [
        {
          "output_type": "stream",
          "name": "stdout",
          "text": [
            "Hi, My name is Amit\n",
            "Vowels: ('i', 'a', 'e', 'i', 'A', 'i')\n",
            "Consonants: ('H', 'M', 'y', 'n', 'm', 's', 'm')\n"
          ]
        }
      ]
    },
    {
      "cell_type": "code",
      "source": [
        "#read a string and create a tuple of words with even count\n",
        "n=input().split(\" \")\n",
        "t=()\n",
        "for i in n:\n",
        "  if(len(i)%2==0):\n",
        "    l=[i]\n",
        "    t+=tuple(l)\n",
        "print(t)"
      ],
      "metadata": {
        "id": "TP31cjIxXQwl",
        "colab": {
          "base_uri": "https://localhost:8080/"
        },
        "outputId": "ad2faa20-2c71-49e5-995f-3856cbf7efd3"
      },
      "execution_count": null,
      "outputs": [
        {
          "output_type": "stream",
          "name": "stdout",
          "text": [
            "hi, im MIt\n",
            "('im',)\n"
          ]
        }
      ]
    },
    {
      "cell_type": "code",
      "source": [
        "#create tuple without list\n",
        "n=int(input())\n",
        "t=()\n",
        "for i in range(n):\n",
        "  x=eval(input())\n",
        "  t+=(x,)\n",
        "print(t)"
      ],
      "metadata": {
        "colab": {
          "base_uri": "https://localhost:8080/"
        },
        "id": "caygWHFsPu1w",
        "outputId": "496aa134-bd95-45dd-d7ec-f4f6f20b83aa"
      },
      "execution_count": null,
      "outputs": [
        {
          "output_type": "stream",
          "name": "stdout",
          "text": [
            "5\n",
            "2\n",
            "6\n",
            "7\n",
            "5\n",
            "2\n",
            "(2, 6, 7, 5, 2)\n"
          ]
        }
      ]
    },
    {
      "cell_type": "code",
      "source": [
        "t=(10,20,10,20,30,10,50)\n",
        "print(t.count(10))\n",
        "print(t.index(30))"
      ],
      "metadata": {
        "colab": {
          "base_uri": "https://localhost:8080/"
        },
        "id": "G6Bhh9oNRhld",
        "outputId": "4589a829-fab3-4784-ace5-407f2d155edc"
      },
      "execution_count": null,
      "outputs": [
        {
          "output_type": "stream",
          "name": "stdout",
          "text": [
            "3\n",
            "4\n"
          ]
        }
      ]
    },
    {
      "cell_type": "code",
      "source": [
        "#create a tuple for factors of input\n",
        "n=int(input())\n",
        "t=()\n",
        "for i in range(1,n+1):\n",
        "  if(n%i==0):\n",
        "    t+=(i,)\n",
        "print(t)"
      ],
      "metadata": {
        "colab": {
          "base_uri": "https://localhost:8080/"
        },
        "id": "Jr-Iy1v7SuK3",
        "outputId": "652ffba2-a983-4e0d-fc97-c4be6e7aef57"
      },
      "execution_count": null,
      "outputs": [
        {
          "output_type": "stream",
          "name": "stdout",
          "text": [
            "10\n",
            "(1, 2, 5, 10)\n"
          ]
        }
      ]
    },
    {
      "cell_type": "markdown",
      "source": [
        "#Strings\n",
        "\n",
        "1.   Sequences - Collections of Characters (Character Set)\n",
        "2.   \" \" or ' '\n",
        "3.   Blank Space and Tab Space(Valid)\n",
        "4.   Representation of Strings is as Similar to List\n",
        "5.   Indexing, Ordered Type\n",
        "6.   Immutable - String Contents are unmodifiable\n",
        "7.   String can be sliced, : String Slicing\n",
        "8.   String Traversing is allowed using indexing and also for each\n",
        "\n"
      ],
      "metadata": {
        "id": "G-CArICKdP9H"
      }
    },
    {
      "cell_type": "code",
      "source": [
        "#create\n",
        "s=\"Welcome to Python Programming\"\n",
        "print(s)"
      ],
      "metadata": {
        "colab": {
          "base_uri": "https://localhost:8080/"
        },
        "id": "sblkHhVkWjVb",
        "outputId": "22e2fe71-3867-4b32-bb16-635727c80ac0"
      },
      "execution_count": null,
      "outputs": [
        {
          "output_type": "stream",
          "name": "stdout",
          "text": [
            "Welcome to Python Programming\n"
          ]
        }
      ]
    },
    {
      "cell_type": "code",
      "source": [
        "#create multiline\n",
        "s='''Hi\n",
        "my name is amit\n",
        "i am in gitam'''\n",
        "print(s)"
      ],
      "metadata": {
        "colab": {
          "base_uri": "https://localhost:8080/"
        },
        "id": "k4aevK44e88h",
        "outputId": "a20892ae-b895-40ed-e46b-91b6bee8edf8"
      },
      "execution_count": null,
      "outputs": [
        {
          "output_type": "stream",
          "name": "stdout",
          "text": [
            "Hi\n",
            "my name is amit\n",
            "i am in gitam\n"
          ]
        }
      ]
    },
    {
      "cell_type": "code",
      "source": [
        "#run string run\n",
        "s=input()\n",
        "print(s)"
      ],
      "metadata": {
        "colab": {
          "base_uri": "https://localhost:8080/"
        },
        "id": "zfYwLbPcfWIX",
        "outputId": "3946df40-24ae-487f-fbeb-3565de78be99"
      },
      "execution_count": null,
      "outputs": [
        {
          "output_type": "stream",
          "name": "stdout",
          "text": [
            "hi hello\n",
            "hi hello\n"
          ]
        }
      ]
    },
    {
      "cell_type": "code",
      "source": [
        "s=input()\n",
        "vc=0\n",
        "for i in s:\n",
        "  if(i in \"aeiouAEIOU\"):\n",
        "    vc+=1\n",
        "print(\"Vowels:\",vc)\n",
        "print(\"Consonants:\",len(s)-vc)"
      ],
      "metadata": {
        "colab": {
          "base_uri": "https://localhost:8080/"
        },
        "id": "rj6aWuGPfkDm",
        "outputId": "71b3a6c2-3b26-4d77-bb74-3515a1ebb8ac"
      },
      "execution_count": null,
      "outputs": [
        {
          "output_type": "stream",
          "name": "stdout",
          "text": [
            "Programming\n",
            "Vowels: 3\n",
            "Consonants: 8\n"
          ]
        }
      ]
    },
    {
      "cell_type": "code",
      "source": [
        "s=''''''\n",
        "while(True):\n",
        "  a=input()\n",
        "  if(a=='end'):\n",
        "    break\n",
        "  s=s+\"\\n\"+a\n",
        "print(s)"
      ],
      "metadata": {
        "colab": {
          "base_uri": "https://localhost:8080/"
        },
        "id": "mfygxl-aZk-J",
        "outputId": "2caaaf9c-b855-4d23-bb11-0bea095cfe84"
      },
      "execution_count": null,
      "outputs": [
        {
          "output_type": "stream",
          "name": "stdout",
          "text": [
            "hi\n",
            "my name is amit\n",
            "i am in bengaluru\n",
            "end\n",
            "\n",
            "hi\n",
            "my name is amit\n",
            "i am in bengaluru\n"
          ]
        }
      ]
    },
    {
      "cell_type": "code",
      "source": [
        "s=\"Hi my name is Amit\"\n",
        "i=0\n",
        "cnt=0\n",
        "while(s[i]!='\\O'):\n",
        "  cnt+=1\n",
        "  i+=1\n",
        "print(\"Count is\",cnt)"
      ],
      "metadata": {
        "colab": {
          "base_uri": "https://localhost:8080/",
          "height": 211
        },
        "id": "xeI5lfske4Xn",
        "outputId": "02be666a-a98a-47f5-f8d7-8d3ae12e460c"
      },
      "execution_count": null,
      "outputs": [
        {
          "output_type": "error",
          "ename": "IndexError",
          "evalue": "string index out of range",
          "traceback": [
            "\u001b[0;31m---------------------------------------------------------------------------\u001b[0m",
            "\u001b[0;31mIndexError\u001b[0m                                Traceback (most recent call last)",
            "\u001b[0;32m<ipython-input-12-a0ebc255a72c>\u001b[0m in \u001b[0;36m<cell line: 4>\u001b[0;34m()\u001b[0m\n\u001b[1;32m      2\u001b[0m \u001b[0mi\u001b[0m\u001b[0;34m=\u001b[0m\u001b[0;36m0\u001b[0m\u001b[0;34m\u001b[0m\u001b[0;34m\u001b[0m\u001b[0m\n\u001b[1;32m      3\u001b[0m \u001b[0mcnt\u001b[0m\u001b[0;34m=\u001b[0m\u001b[0;36m0\u001b[0m\u001b[0;34m\u001b[0m\u001b[0;34m\u001b[0m\u001b[0m\n\u001b[0;32m----> 4\u001b[0;31m \u001b[0;32mwhile\u001b[0m\u001b[0;34m(\u001b[0m\u001b[0ms\u001b[0m\u001b[0;34m[\u001b[0m\u001b[0mi\u001b[0m\u001b[0;34m]\u001b[0m\u001b[0;34m!=\u001b[0m\u001b[0;34m'\\O'\u001b[0m\u001b[0;34m)\u001b[0m\u001b[0;34m:\u001b[0m\u001b[0;34m\u001b[0m\u001b[0;34m\u001b[0m\u001b[0m\n\u001b[0m\u001b[1;32m      5\u001b[0m   \u001b[0mcnt\u001b[0m\u001b[0;34m+=\u001b[0m\u001b[0;36m1\u001b[0m\u001b[0;34m\u001b[0m\u001b[0;34m\u001b[0m\u001b[0m\n\u001b[1;32m      6\u001b[0m   \u001b[0mi\u001b[0m\u001b[0;34m+=\u001b[0m\u001b[0;36m1\u001b[0m\u001b[0;34m\u001b[0m\u001b[0;34m\u001b[0m\u001b[0m\n",
            "\u001b[0;31mIndexError\u001b[0m: string index out of range"
          ]
        }
      ]
    },
    {
      "cell_type": "code",
      "source": [
        "#read a string and check string is a palindrome or not\n",
        "s=input(\"Enter Your String:\")\n",
        "rev=\"\"\n",
        "for i in range(len(s)-1,-1,-1):\n",
        "  rev+=s[i]\n",
        "if(rev==s):\n",
        "  print(\"It is a Palindrome\")\n",
        "else:\n",
        "  print(\"It is not a Palindrome\")"
      ],
      "metadata": {
        "id": "Z5aPOVxemXQ3",
        "colab": {
          "base_uri": "https://localhost:8080/"
        },
        "outputId": "cfd41da0-ead2-4c59-897c-99350d452a79"
      },
      "execution_count": null,
      "outputs": [
        {
          "output_type": "stream",
          "name": "stdout",
          "text": [
            "hi\n",
            "It is not a Palindrome\n"
          ]
        }
      ]
    },
    {
      "cell_type": "code",
      "source": [
        "#read a string and display the reverse of each and every word of the string\n",
        "s=input()"
      ],
      "metadata": {
        "id": "_9S2P6trnLv9"
      },
      "execution_count": null,
      "outputs": []
    },
    {
      "cell_type": "code",
      "source": [
        "#read a sentence and display the words starting with \"a\""
      ],
      "metadata": {
        "id": "1mIVAUqzniGk"
      },
      "execution_count": null,
      "outputs": []
    },
    {
      "cell_type": "code",
      "source": [
        "#read two strings and check if the strings are anagram to each other or not"
      ],
      "metadata": {
        "id": "beexZcV5mlba"
      },
      "execution_count": null,
      "outputs": []
    },
    {
      "cell_type": "code",
      "source": [
        "#read a sentence and find the number of words,number of spaces and number of special symbols in it"
      ],
      "metadata": {
        "id": "KmnaZY56m4BR"
      },
      "execution_count": null,
      "outputs": []
    },
    {
      "cell_type": "markdown",
      "source": [
        "#SETS:"
      ],
      "metadata": {
        "id": "CHrUXvaHaHo_"
      }
    },
    {
      "cell_type": "markdown",
      "source": [
        "*   No Duplicates\n",
        "*   Unordered collection of elements\n",
        "*   set()\n",
        "*   No Indexing/Subscript\n"
      ],
      "metadata": {
        "id": "402vvBawahdB"
      }
    },
    {
      "cell_type": "code",
      "source": [
        "#Creating an empty set using de-limiter\n",
        "s={}\n",
        "print(type(s)) #{}-is used only for dict"
      ],
      "metadata": {
        "colab": {
          "base_uri": "https://localhost:8080/"
        },
        "id": "fmJiwmg-aFTA",
        "outputId": "33f9342d-488a-4b31-c3fb-a40fd1f5ba83"
      },
      "execution_count": null,
      "outputs": [
        {
          "output_type": "stream",
          "name": "stdout",
          "text": [
            "<class 'dict'>\n"
          ]
        }
      ]
    },
    {
      "cell_type": "code",
      "source": [
        "#Creating an empty set using set() constructor\n",
        "s1=set()\n",
        "print(type(s1))"
      ],
      "metadata": {
        "colab": {
          "base_uri": "https://localhost:8080/"
        },
        "id": "he_a4CvccuLj",
        "outputId": "9ede1d87-e7d0-4a70-b984-87340b02cf28"
      },
      "execution_count": null,
      "outputs": [
        {
          "output_type": "stream",
          "name": "stdout",
          "text": [
            "<class 'set'>\n"
          ]
        }
      ]
    },
    {
      "cell_type": "code",
      "source": [
        "#Creating a set with elements at compile time and display the same\n",
        "s2={1,2,6,1,4,2,\"amit\",\"Hi\",(4+2j),True}\n",
        "print(s2)"
      ],
      "metadata": {
        "colab": {
          "base_uri": "https://localhost:8080/"
        },
        "id": "bjk3Rak_dOEL",
        "outputId": "9cb64e71-d19a-4216-921c-87007a2eacdd"
      },
      "execution_count": null,
      "outputs": [
        {
          "output_type": "stream",
          "name": "stdout",
          "text": [
            "{1, 2, 'amit', 4, 6, (4+2j), 'Hi'}\n"
          ]
        }
      ]
    },
    {
      "cell_type": "code",
      "source": [
        "#create a set and access one of the element using indexing\n",
        "s3={1,2,4,5,2,1,1,1}\n",
        "print(s3[2])"
      ],
      "metadata": {
        "colab": {
          "base_uri": "https://localhost:8080/",
          "height": 176
        },
        "id": "rH23M4v9dzqb",
        "outputId": "01a7e4aa-2d6c-45d0-82e9-d2ef2d5be9bd"
      },
      "execution_count": null,
      "outputs": [
        {
          "output_type": "error",
          "ename": "TypeError",
          "evalue": "'set' object is not subscriptable",
          "traceback": [
            "\u001b[0;31m---------------------------------------------------------------------------\u001b[0m",
            "\u001b[0;31mTypeError\u001b[0m                                 Traceback (most recent call last)",
            "\u001b[0;32m<ipython-input-4-10ce8ac91383>\u001b[0m in \u001b[0;36m<cell line: 3>\u001b[0;34m()\u001b[0m\n\u001b[1;32m      1\u001b[0m \u001b[0;31m#create a set and access one of the element using indexing\u001b[0m\u001b[0;34m\u001b[0m\u001b[0;34m\u001b[0m\u001b[0m\n\u001b[1;32m      2\u001b[0m \u001b[0ms3\u001b[0m\u001b[0;34m=\u001b[0m\u001b[0;34m{\u001b[0m\u001b[0;36m1\u001b[0m\u001b[0;34m,\u001b[0m\u001b[0;36m2\u001b[0m\u001b[0;34m,\u001b[0m\u001b[0;36m4\u001b[0m\u001b[0;34m,\u001b[0m\u001b[0;36m5\u001b[0m\u001b[0;34m,\u001b[0m\u001b[0;36m2\u001b[0m\u001b[0;34m,\u001b[0m\u001b[0;36m1\u001b[0m\u001b[0;34m,\u001b[0m\u001b[0;36m1\u001b[0m\u001b[0;34m,\u001b[0m\u001b[0;36m1\u001b[0m\u001b[0;34m}\u001b[0m\u001b[0;34m\u001b[0m\u001b[0;34m\u001b[0m\u001b[0m\n\u001b[0;32m----> 3\u001b[0;31m \u001b[0mprint\u001b[0m\u001b[0;34m(\u001b[0m\u001b[0ms3\u001b[0m\u001b[0;34m[\u001b[0m\u001b[0;36m2\u001b[0m\u001b[0;34m]\u001b[0m\u001b[0;34m)\u001b[0m\u001b[0;34m\u001b[0m\u001b[0;34m\u001b[0m\u001b[0m\n\u001b[0m",
            "\u001b[0;31mTypeError\u001b[0m: 'set' object is not subscriptable"
          ]
        }
      ]
    },
    {
      "cell_type": "code",
      "source": [
        "#create a set at compile time\n",
        "#display the elements of the set one after the other\n",
        "s4={10,2,1,4,\"hi\",3,3,2,0}\n",
        "for ele in s4:\n",
        "  print(ele)"
      ],
      "metadata": {
        "colab": {
          "base_uri": "https://localhost:8080/"
        },
        "id": "NjoacUUqehOd",
        "outputId": "07adb56b-ad41-49ce-8a46-57f478ab8602"
      },
      "execution_count": null,
      "outputs": [
        {
          "output_type": "stream",
          "name": "stdout",
          "text": [
            "0\n",
            "1\n",
            "2\n",
            "3\n",
            "4\n",
            "10\n",
            "hi\n"
          ]
        }
      ]
    },
    {
      "cell_type": "code",
      "source": [
        "#set methods\n",
        "#add() - adds an element to the set\n",
        "#clear() - removes all the elements from the set\n",
        "#copy() - returns a copy of the set\n",
        "#discard() - deletes or removes specified element from the set\n",
        "#pop() - removes an element from the set\n",
        "#remove() - removes an specified element from the set\n",
        "#update() - update the set with another set or another iterable\n",
        "#difference() - returns a set containing the difference between two or more sets\n",
        "#difference_update() - removes the items in this set that are also included in another specified set\n",
        "#intersection() - returns a set that is the intersection of two or more sets\n",
        "#intersection_update() - removes the items in this set that is not present in other specified set\n",
        "#isDisjoint() - returns boolean value of comparing two sets to check intersection exists or not\n",
        "#isSubset() - returns boolean value on validating another set contains this set or not\n",
        "#isSuperset() -\n",
        "#symmetricdifference() -\n",
        "#symmetricdifference_update() -\n",
        "#union() - returns a set containing all the elements of the set"
      ],
      "metadata": {
        "id": "-eUR9vEBfnaP"
      },
      "execution_count": null,
      "outputs": []
    },
    {
      "cell_type": "code",
      "source": [
        "#create a set at the runtime and display its elements one after the another\n",
        "ss=set()\n",
        "n=int(input(\"Enter the Number of Elements to enter in the set: \"))\n",
        "for i in range(n):\n",
        "  x=eval(input())\n",
        "  ss.add(x)\n",
        "print(\"The Set is\",ss)\n",
        "print(\"\\nThe Elements are:\")\n",
        "for ele in ss:\n",
        "  print(ele)"
      ],
      "metadata": {
        "colab": {
          "base_uri": "https://localhost:8080/"
        },
        "id": "olkqKRLRf4d6",
        "outputId": "aa5788ad-885f-416c-9ef0-1ba7674df26e"
      },
      "execution_count": null,
      "outputs": [
        {
          "output_type": "stream",
          "name": "stdout",
          "text": [
            "Enter the Number of Elements to enter in the set: 10\n",
            "1\n",
            "8\n",
            "\"hi\"\n",
            "5\n",
            "\"amit\"\n",
            "(4+3j)\n",
            "5\n",
            "1\n",
            "\"hello\"\n",
            "2\n",
            "The Set is {1, 'amit', 2, 5, 8, (4+3j), 'hello', 'hi'}\n",
            "\n",
            "The Elements are:\n",
            "1\n",
            "amit\n",
            "2\n",
            "5\n",
            "8\n",
            "(4+3j)\n",
            "hello\n",
            "hi\n"
          ]
        }
      ]
    },
    {
      "cell_type": "markdown",
      "source": [
        "create a set at compile time and demonstrate the set operations:\n",
        "\n",
        "1.update 2.copy 3.discard 4.pop 5.remove 6.clear\n",
        "\n",
        "display the empty at the last"
      ],
      "metadata": {
        "id": "J8N28aQFl9XN"
      }
    },
    {
      "cell_type": "code",
      "source": [
        "s={1,2,4,5,2,1}\n",
        "print(\"orignal set:\",s)\n",
        "x=[10,20,30,20,10]\n",
        "s.update(x)\n",
        "print(\"Updated set:\",s)\n",
        "t=s.copy()\n",
        "print(\"orignal set:\",s)\n",
        "print(\"copied set:\",t)\n",
        "s.discard(5)\n",
        "print(\"after discard:\",s)\n",
        "s.pop()\n",
        "print(\"after pop:\",s)\n",
        "s.remove(2)\n",
        "print(\"after remove:\",s)\n",
        "s.clear()\n",
        "print(\"after clear:\",s)"
      ],
      "metadata": {
        "colab": {
          "base_uri": "https://localhost:8080/"
        },
        "id": "6HwU8_61kiuX",
        "outputId": "41b71620-cd3c-486e-bd52-49d4d2093060"
      },
      "execution_count": null,
      "outputs": [
        {
          "output_type": "stream",
          "name": "stdout",
          "text": [
            "orignal set: {1, 2, 4, 5}\n",
            "Updated set: {1, 2, 4, 5, 10, 20, 30}\n",
            "orignal set: {1, 2, 4, 5, 10, 20, 30}\n",
            "copied set: {1, 2, 4, 5, 20, 10, 30}\n",
            "after discard: {1, 2, 4, 10, 20, 30}\n",
            "after pop: {2, 4, 10, 20, 30}\n",
            "after remove: {4, 10, 20, 30}\n",
            "after clear: set()\n"
          ]
        }
      ]
    },
    {
      "cell_type": "markdown",
      "source": [
        "create 2 sets at compile time\n",
        "* print the difference between the sets\n",
        "* intersection and union of the sets\n",
        "* update the set1 with difference_update()\n",
        "* update the set2 with intersection_update()\n",
        "* check for symmetric difference between the obtained sets\n",
        "* update set1 with symmetric difference update\n",
        "* finally verify is set1 disjoint\n",
        "* set2 is subset of set 1 and set 1 is superset of set 2"
      ],
      "metadata": {
        "id": "SpNwPPKmlzL4"
      }
    },
    {
      "cell_type": "code",
      "source": [
        "a={1,5,4,9,3,2,4,5,1}\n",
        "b={2,4,6,4,7,1}\n",
        "print(\"set a:\",a)\n",
        "print(\"set b:\",b)\n",
        "x=a.difference(b)\n",
        "print(\"difference is:\",x)\n",
        "x=a.intersection(b)\n",
        "print(\"intersection is:\",x)\n",
        "x=a.union(b)\n",
        "print(\"union is:\",x)\n",
        "a.difference_update(b)\n",
        "print(\"set1 difference update:\",a)\n",
        "b.intersection_update(a)\n",
        "print(\"set2 intersection update:\",b)\n",
        "a.symmetric_difference(b)\n",
        "print(\"symmetric difference:\",a)\n",
        "a.symmetric_difference_update(b)\n",
        "print(\"set1 symmetric difference update:\",a)\n",
        "print(\"set a is disjoint:\",a.isdisjoint(b))\n",
        "print(\"set b is subset of set a:\",b.issubset(a))\n",
        "print(\"set a is superset of set b:\",a.issuperset(b))"
      ],
      "metadata": {
        "colab": {
          "base_uri": "https://localhost:8080/"
        },
        "id": "0tjve3IAk-LD",
        "outputId": "05ebd88b-915e-4746-e2e3-8ec1094939de"
      },
      "execution_count": null,
      "outputs": [
        {
          "output_type": "stream",
          "name": "stdout",
          "text": [
            "set a: {1, 2, 3, 4, 5, 9}\n",
            "set b: {1, 2, 4, 6, 7}\n",
            "difference is: {9, 3, 5}\n",
            "intersection is: {1, 2, 4}\n",
            "union is: {1, 2, 3, 4, 5, 6, 7, 9}\n",
            "set1 difference update: {3, 5, 9}\n",
            "set2 intersection update: set()\n",
            "symmetric difference: {3, 5, 9}\n",
            "set1 symmetric difference update: {3, 5, 9}\n",
            "set a is disjoint: True\n",
            "set b is subset of set a: True\n",
            "set a is superset of set b: True\n"
          ]
        }
      ]
    },
    {
      "cell_type": "markdown",
      "source": [
        "#Dictionaries\n",
        "\n",
        "\n",
        "*  Key, Value Pairs\n",
        "*  Unordered Type\n",
        "*  Mutable\n",
        "*  Key must be unique\n",
        "\n"
      ],
      "metadata": {
        "id": "d_0n_SFPOmNq"
      }
    },
    {
      "cell_type": "code",
      "source": [
        "#Create a Dictionary at the Compile time and display the same\n",
        "#a)have key elements as integer type b) have key elements as string\n",
        "d={1:\"hi\",2:\"Amit\",3:\"Dharwad\",4:100}\n",
        "dd={'a':10,'b':20,'c':30}\n",
        "\n",
        "print(d)\n",
        "print(dd)"
      ],
      "metadata": {
        "colab": {
          "base_uri": "https://localhost:8080/"
        },
        "id": "Q-njbj-kPIcQ",
        "outputId": "ccc12b0c-b261-42e5-d4b3-6ab35f9ddd9e"
      },
      "execution_count": null,
      "outputs": [
        {
          "output_type": "stream",
          "name": "stdout",
          "text": [
            "{1: 'hi', 2: 'Amit', 3: 'Dharwad', 4: 100}\n",
            "{'a': 10, 'b': 20, 'c': 30}\n"
          ]
        }
      ]
    },
    {
      "cell_type": "code",
      "source": [
        "d1={1.4:10,2.1:20,3.4:12,1.6:21}\n",
        "print(d1)"
      ],
      "metadata": {
        "colab": {
          "base_uri": "https://localhost:8080/"
        },
        "id": "67oDQgCKSZIo",
        "outputId": "9382f184-0de4-4522-92cf-0720fcdddcd4"
      },
      "execution_count": null,
      "outputs": [
        {
          "output_type": "stream",
          "name": "stdout",
          "text": [
            "{1.4: 10, 2.1: 20, 3.4: 12, 1.6: 21}\n"
          ]
        }
      ]
    },
    {
      "cell_type": "code",
      "source": [
        "d2={(2+3j):10,(1+2j):15}\n",
        "print(d2)"
      ],
      "metadata": {
        "colab": {
          "base_uri": "https://localhost:8080/"
        },
        "id": "OAZvu5vZTC8R",
        "outputId": "afe0e29f-b1df-43d3-9efc-c420afff63dd"
      },
      "execution_count": null,
      "outputs": [
        {
          "output_type": "stream",
          "name": "stdout",
          "text": [
            "{(2+3j): 10}\n"
          ]
        }
      ]
    },
    {
      "cell_type": "code",
      "source": [
        "dd1={[1,2,3]:10}\n",
        "print(dd1)"
      ],
      "metadata": {
        "colab": {
          "base_uri": "https://localhost:8080/",
          "height": 165
        },
        "id": "8eaRA4LpTJr3",
        "outputId": "e0d15433-74a4-4041-ec74-8e7471af03a2"
      },
      "execution_count": null,
      "outputs": [
        {
          "output_type": "error",
          "ename": "TypeError",
          "evalue": "unhashable type: 'list'",
          "traceback": [
            "\u001b[0;31m---------------------------------------------------------------------------\u001b[0m",
            "\u001b[0;31mTypeError\u001b[0m                                 Traceback (most recent call last)",
            "\u001b[0;32m<ipython-input-6-ca75a17ca5a7>\u001b[0m in \u001b[0;36m<cell line: 1>\u001b[0;34m()\u001b[0m\n\u001b[0;32m----> 1\u001b[0;31m \u001b[0mdd1\u001b[0m\u001b[0;34m=\u001b[0m\u001b[0;34m{\u001b[0m\u001b[0;34m[\u001b[0m\u001b[0;36m1\u001b[0m\u001b[0;34m,\u001b[0m\u001b[0;36m2\u001b[0m\u001b[0;34m,\u001b[0m\u001b[0;36m3\u001b[0m\u001b[0;34m]\u001b[0m\u001b[0;34m:\u001b[0m\u001b[0;36m10\u001b[0m\u001b[0;34m}\u001b[0m\u001b[0;34m\u001b[0m\u001b[0;34m\u001b[0m\u001b[0m\n\u001b[0m\u001b[1;32m      2\u001b[0m \u001b[0mprint\u001b[0m\u001b[0;34m(\u001b[0m\u001b[0mdd1\u001b[0m\u001b[0;34m)\u001b[0m\u001b[0;34m\u001b[0m\u001b[0;34m\u001b[0m\u001b[0m\n",
            "\u001b[0;31mTypeError\u001b[0m: unhashable type: 'list'"
          ]
        }
      ]
    },
    {
      "cell_type": "code",
      "source": [
        "#Create a dictionary having duplicate keys and analyse it\n",
        "d={1:20,2:10,3:21,4:84,1:22}\n",
        "print(d)"
      ],
      "metadata": {
        "colab": {
          "base_uri": "https://localhost:8080/"
        },
        "id": "QXfrVp8vT3FH",
        "outputId": "7be49736-84a1-4def-e722-e2b4928b9fc7"
      },
      "execution_count": null,
      "outputs": [
        {
          "output_type": "stream",
          "name": "stdout",
          "text": [
            "{1: 22, 2: 10, 3: 21, 4: 84}\n"
          ]
        }
      ]
    },
    {
      "cell_type": "code",
      "source": [
        "#create dictionary at the runtime and display the same\n",
        "d={}\n",
        "n=int(input(\"Enter the Number of Elements: \"))\n",
        "for i in range(n):\n",
        "  key=eval(input(\"Key:\"))\n",
        "  val=eval(input(\"Value:\"))\n",
        "  d[key]=val\n",
        "print(d)"
      ],
      "metadata": {
        "colab": {
          "base_uri": "https://localhost:8080/"
        },
        "id": "VG4lJuLUV6Tr",
        "outputId": "b096a3f5-1e39-49c8-87bc-117d7d99ca94"
      },
      "execution_count": null,
      "outputs": [
        {
          "output_type": "stream",
          "name": "stdout",
          "text": [
            "Enter the Number of Elements: 2\n",
            "Key:10\n",
            "Value:20\n",
            "Key:1\n",
            "Value:30\n",
            "{10: 20, 1: 30}\n"
          ]
        }
      ]
    },
    {
      "cell_type": "code",
      "source": [
        "#create a dictionary of elements or items from the input string to find the number of words,no of spaces,no of digits,no of special characters and output the same\n",
        "d={}\n",
        "s=input(\"Enter the String: \")\n",
        "x=s.split(\" \")\n",
        "d[\"words\"]=0\n",
        "d[\"spaces\"]=0\n",
        "d[\"digits\"]=0\n",
        "d[\"spcl char\"]=0\n",
        "for i in x:\n",
        "  d[\"words\"]+=1\n",
        "for i in s:\n",
        "  if(i==\" \"):\n",
        "    d[\"spaces\"]+=1\n",
        "  elif(i==int):\n",
        "    d[\"digits\"]+=1\n",
        "  else:\n",
        "    d[\"spcl char\"]+=1\n",
        "print(d)"
      ],
      "metadata": {
        "colab": {
          "base_uri": "https://localhost:8080/"
        },
        "id": "pdU_q4SKWB8O",
        "outputId": "3332111d-fdd2-40d3-89bc-8bed69069b82"
      },
      "execution_count": null,
      "outputs": [
        {
          "output_type": "stream",
          "name": "stdout",
          "text": [
            "Enter the String: 1\n",
            "{'words': 1, 'spaces': 0, 'digits': 0, 'spcl char': 1}\n"
          ]
        }
      ]
    },
    {
      "cell_type": "code",
      "source": [
        "#create a dict at runtime\n",
        "n=int(input(\"Enter the Number of Elements Required for Dict: \"))\n",
        "d={}\n",
        "for i in range(n):\n",
        "  d.update({1:\"Apple\"})\n",
        "print(d)"
      ],
      "metadata": {
        "colab": {
          "base_uri": "https://localhost:8080/"
        },
        "id": "b_PQ_yLmgGuP",
        "outputId": "eec0763a-e7f4-44e1-9ee1-38ae19706c04"
      },
      "execution_count": null,
      "outputs": [
        {
          "output_type": "stream",
          "name": "stdout",
          "text": [
            "Enter the Number of Elements Required for Dict: 1\n",
            "{1: 'Apple'}\n"
          ]
        }
      ]
    },
    {
      "cell_type": "code",
      "source": [
        "#create a dict at runtime\n",
        "n=int(input(\"Enter the Number of Elements Required for Dict: \"))\n",
        "d={}\n",
        "for i in range(n):\n",
        "  d.update({eval(input(\"Key: \")):eval(input(\"Value: \"))})\n",
        "print(d)"
      ],
      "metadata": {
        "colab": {
          "base_uri": "https://localhost:8080/"
        },
        "id": "PwQDnoYPhvYR",
        "outputId": "009daa1f-6149-4df3-eabb-818020138d72"
      },
      "execution_count": null,
      "outputs": [
        {
          "output_type": "stream",
          "name": "stdout",
          "text": [
            "Enter the Number of Elements Required for Dict: 3\n",
            "Key: 1\n",
            "Value: 10\n",
            "Key: 2\n",
            "Value: 30\n",
            "Key: 3\n",
            "Value: 20\n",
            "{1: 10, 2: 30, 3: 20}\n"
          ]
        }
      ]
    },
    {
      "cell_type": "markdown",
      "source": [
        "#Files:"
      ],
      "metadata": {
        "id": "zCEttMEmHWUP"
      }
    },
    {
      "cell_type": "markdown",
      "source": [
        "*   Read\n",
        "*   Write\n",
        "*Append\n",
        "*x mode\n",
        "\n"
      ],
      "metadata": {
        "id": "9LwDDILQJJhq"
      }
    },
    {
      "cell_type": "code",
      "source": [
        "f = open(\"123.txt\")\n",
        "print(f.read())"
      ],
      "metadata": {
        "colab": {
          "base_uri": "https://localhost:8080/"
        },
        "id": "CjyJ1aVCHUFa",
        "outputId": "43d5333d-2585-4a15-b7ab-eb7fb99b9999"
      },
      "execution_count": null,
      "outputs": [
        {
          "output_type": "stream",
          "name": "stdout",
          "text": [
            "\n"
          ]
        }
      ]
    },
    {
      "cell_type": "code",
      "source": [
        "#creating in x mode\n",
        "g = open(\"cse.txt\",\"x\")"
      ],
      "metadata": {
        "id": "CGutFh7jLI2q"
      },
      "execution_count": null,
      "outputs": []
    },
    {
      "cell_type": "code",
      "source": [
        "x = open(\"cse.txt\",\"w\")\n",
        "x.write(\"Hello, Bilack Debil\")\n",
        "x = open(\"cse.txt\",\"r\")\n",
        "print(x.read())"
      ],
      "metadata": {
        "colab": {
          "base_uri": "https://localhost:8080/"
        },
        "id": "sH6an8jvM68K",
        "outputId": "637574ae-c35b-47cc-80af-b99e902a54a8"
      },
      "execution_count": null,
      "outputs": [
        {
          "output_type": "stream",
          "name": "stdout",
          "text": [
            "Hello, Bilack Debil\n"
          ]
        }
      ]
    },
    {
      "cell_type": "markdown",
      "source": [
        "Write a python program to create a file with your name and write your admission number in the file"
      ],
      "metadata": {
        "id": "I0jcljdNOx2K"
      }
    },
    {
      "cell_type": "code",
      "source": [
        "f=open(\"Amit.txt\",\"w\")\n",
        "f.write(\"2023002731\")\n",
        "f=open(\"Amit.txt\",\"r\")\n",
        "print(f.read())"
      ],
      "metadata": {
        "colab": {
          "base_uri": "https://localhost:8080/"
        },
        "id": "t919r4CKOwMb",
        "outputId": "549d2904-39bb-409f-ea6c-7fc58af420af"
      },
      "execution_count": null,
      "outputs": [
        {
          "output_type": "stream",
          "name": "stdout",
          "text": [
            "2023002731\n"
          ]
        }
      ]
    },
    {
      "cell_type": "code",
      "source": [
        "f=open(\"Amit.txt\",\"w+\")\n",
        "f.write(\"Hi, My Name is Amit\")\n",
        "f.seek(0)\n",
        "print(f.read())"
      ],
      "metadata": {
        "colab": {
          "base_uri": "https://localhost:8080/"
        },
        "id": "E9nxpN5oQx0D",
        "outputId": "98e638df-2eed-40f5-e5b1-315bf2d1b90d"
      },
      "execution_count": null,
      "outputs": [
        {
          "output_type": "stream",
          "name": "stdout",
          "text": [
            "Hi, My Name is Amit\n"
          ]
        }
      ]
    },
    {
      "cell_type": "code",
      "source": [
        "f=open(\"Amit.txt\",\"a+\")\n",
        "f.write(\"\\nI Study in GITAM University Bengaluru\")\n",
        "f.seek(0)\n",
        "print(f.read())"
      ],
      "metadata": {
        "colab": {
          "base_uri": "https://localhost:8080/"
        },
        "id": "BwexiWE4RWn8",
        "outputId": "69dae7cc-c3ce-4a7e-a398-a8c6259f11f6"
      },
      "execution_count": null,
      "outputs": [
        {
          "output_type": "stream",
          "name": "stdout",
          "text": [
            "Hi, My Name is Amit\n",
            "I Study in GITAM University Bengaluru\n"
          ]
        }
      ]
    },
    {
      "cell_type": "markdown",
      "source": [
        "Write a python program to create a file and add your address. then you change the address with gitam address"
      ],
      "metadata": {
        "id": "YohKrk87R_ZM"
      }
    },
    {
      "cell_type": "code",
      "source": [
        "f=open(\"Address.txt\",\"w+\")\n",
        "f.write(\"Before Address:\\nDharwad,Karnataka,India\\n\")\n",
        "f.seek(0)\n",
        "print(f.read())\n",
        "f.close()\n",
        "f=open(\"Address.txt\",\"w+\")\n",
        "f.write(\"\\nNew Address:\\nNagadenahalli,Bengaluru,Karnataka,India\")\n",
        "f.seek(0)\n",
        "print(f.read())\n",
        "f.close()"
      ],
      "metadata": {
        "colab": {
          "base_uri": "https://localhost:8080/"
        },
        "id": "HOdj8PYkSh3b",
        "outputId": "806cc11f-0478-41c6-a980-b21932de8da3"
      },
      "execution_count": null,
      "outputs": [
        {
          "output_type": "stream",
          "name": "stdout",
          "text": [
            "Before Address:\n",
            "Dharwad,Karnataka,India\n",
            "\n",
            "\n",
            "New Address:\n",
            "Nagadenahalli,Bengaluru,Karnataka,India\n"
          ]
        }
      ]
    },
    {
      "cell_type": "markdown",
      "source": [
        "write a python program to create a empty file with the content 1 to 100"
      ],
      "metadata": {
        "id": "_AJ0WLE8Wb_0"
      }
    },
    {
      "cell_type": "code",
      "source": [
        "f=open(\"Numbers.txt\",\"w+\")\n",
        "for i in range(1,101):\n",
        "  x=str(i)\n",
        "  f.write(x)\n",
        "  f.write(\"\\n\")\n",
        "f.seek(0)\n",
        "print(f.read())"
      ],
      "metadata": {
        "colab": {
          "base_uri": "https://localhost:8080/"
        },
        "id": "Z57KYmM4WP9N",
        "outputId": "f588f093-2021-4a7a-a8c3-1c2bf273875a"
      },
      "execution_count": null,
      "outputs": [
        {
          "output_type": "stream",
          "name": "stdout",
          "text": [
            "1\n",
            "2\n",
            "3\n",
            "4\n",
            "5\n",
            "6\n",
            "7\n",
            "8\n",
            "9\n",
            "10\n",
            "11\n",
            "12\n",
            "13\n",
            "14\n",
            "15\n",
            "16\n",
            "17\n",
            "18\n",
            "19\n",
            "20\n",
            "21\n",
            "22\n",
            "23\n",
            "24\n",
            "25\n",
            "26\n",
            "27\n",
            "28\n",
            "29\n",
            "30\n",
            "31\n",
            "32\n",
            "33\n",
            "34\n",
            "35\n",
            "36\n",
            "37\n",
            "38\n",
            "39\n",
            "40\n",
            "41\n",
            "42\n",
            "43\n",
            "44\n",
            "45\n",
            "46\n",
            "47\n",
            "48\n",
            "49\n",
            "50\n",
            "51\n",
            "52\n",
            "53\n",
            "54\n",
            "55\n",
            "56\n",
            "57\n",
            "58\n",
            "59\n",
            "60\n",
            "61\n",
            "62\n",
            "63\n",
            "64\n",
            "65\n",
            "66\n",
            "67\n",
            "68\n",
            "69\n",
            "70\n",
            "71\n",
            "72\n",
            "73\n",
            "74\n",
            "75\n",
            "76\n",
            "77\n",
            "78\n",
            "79\n",
            "80\n",
            "81\n",
            "82\n",
            "83\n",
            "84\n",
            "85\n",
            "86\n",
            "87\n",
            "88\n",
            "89\n",
            "90\n",
            "91\n",
            "92\n",
            "93\n",
            "94\n",
            "95\n",
            "96\n",
            "97\n",
            "98\n",
            "99\n",
            "100\n",
            "\n"
          ]
        }
      ]
    },
    {
      "cell_type": "code",
      "source": [
        "f=open(\"Odd.txt\",\"w+\")\n",
        "g=open(\"Even.txt\",\"w+\")\n",
        "x=open(\"Numbers.txt\",\"r\")\n",
        "for i in x:\n",
        "  i=int(i)\n",
        "  if(i%2==0):\n",
        "    s=str(i)\n",
        "    #print(\"Even:\",s)\n",
        "    g.write(s)\n",
        "    g.write(\"\\n\")\n",
        "    g.seek(0)\n",
        "    #print(g.read())\n",
        "  else:\n",
        "    s=str(i)\n",
        "    #print(\"Odd:\",s)\n",
        "    f.write(s)\n",
        "    f.write(\"\\n\")\n",
        "    f.seek(0)\n",
        "    #print(f.read())"
      ],
      "metadata": {
        "id": "WbadhhYNZnHc"
      },
      "execution_count": null,
      "outputs": []
    },
    {
      "cell_type": "code",
      "source": [
        "#Create a Text File having your personal details (name,ph no,address,\n",
        "#academic details) and display the same on the execution screen(output window)\n",
        "f=open(\"/content/drive/MyDrive/Python Files/myData.txt\",\"w\")\n",
        "name=input(\"Enter Your Name: \")\n",
        "f.write(name)\n",
        "phone=input(\"Enter Your Ph No: \")\n",
        "f.write(phone)\n",
        "address=input(\"Enter your Address: \")\n",
        "f.write(address)\n",
        "academic=input(\"Enter your Academic Details: \")\n",
        "f.write(academic)\n",
        "f.close()\n",
        "f=open(\"/content/drive/MyDrive/Python Files/myData.txt\",\"r\")\n",
        "g=f.read()\n",
        "print(g)\n",
        "f.close()"
      ],
      "metadata": {
        "colab": {
          "base_uri": "https://localhost:8080/"
        },
        "id": "x8ox96zILUg9",
        "outputId": "b7bbfc2f-f4e8-4c69-c01b-8f87968f3e3c"
      },
      "execution_count": null,
      "outputs": [
        {
          "output_type": "stream",
          "name": "stdout",
          "text": [
            "Enter Your Name: Amit\n",
            "Enter Your Ph No:  5646546654\n",
            "Enter your Address:  Doddaballapura\n",
            "Enter your Academic Details:  GITAM\n",
            "Amit 5646546654 Doddaballapura GITAM\n"
          ]
        }
      ]
    },
    {
      "cell_type": "code",
      "source": [
        "#Create a Text File having n student details (name,ph no,address,\n",
        "#academic details) and display the same on the execution screen(output window)\n",
        "f=open(\"/content/drive/MyDrive/Python Files/myData1.txt\",\"w\")\n",
        "n=int(input(\"Enter the Number of Students: \"))\n",
        "for i in range(n):\n",
        "  name=input(\"Name: \")\n",
        "  f.write(name)\n",
        "  f.write(\" \")\n",
        "  phone=input(\"Ph No: \")\n",
        "  f.write(phone)\n",
        "  f.write(\" \")\n",
        "  address=input(\"Address: \")\n",
        "  f.write(address)\n",
        "  f.write(\" \")\n",
        "  academic=input(\"Academic Details: \")\n",
        "  f.write(academic)\n",
        "  f.write(\"\\n\")\n",
        "f.close()\n",
        "f=open(\"/content/drive/MyDrive/Python Files/myData1.txt\",\"r\")\n",
        "g=f.read()\n",
        "print(g)\n",
        "f.close()"
      ],
      "metadata": {
        "colab": {
          "base_uri": "https://localhost:8080/"
        },
        "id": "SG4JNfMiSra-",
        "outputId": "b91c0976-07d9-4071-c60c-300cac04801d"
      },
      "execution_count": null,
      "outputs": [
        {
          "output_type": "stream",
          "name": "stdout",
          "text": [
            "Enter the Number of Students: 2\n",
            "Name: Amit A Sabnis\n",
            "Ph No: 6354788566\n",
            "Address: Doddaballapura\n",
            "Academic Details: GITAM\n",
            "Name: Gautam Kumar\n",
            "Ph No: 7845666355\n",
            "Address: Doddaballapura\n",
            "Academic Details: GITAm\n",
            "Amit A Sabnis 6354788566 Doddaballapura GITAM\n",
            "Gautam Kumar 7845666355 Doddaballapura GITAm\n",
            "\n"
          ]
        }
      ]
    },
    {
      "cell_type": "code",
      "source": [
        "#create a text file with series of numbers from 1 to n having sum of all the\n",
        "#numbers in a series also\n",
        "f=open(\"/content/drive/MyDrive/Python Files/series.txt\",\"w\")\n",
        "n=int(input(\"Enter the Value of N: \"))\n",
        "for i in range(1,n+1):\n",
        "  f.write(f\"{i}\")\n",
        "  f.write(\"\\n\")\n",
        "f.close()\n",
        "f=open(\"/content/drive/MyDrive/Python Files/series.txt\",\"r\")\n",
        "sum=0\n",
        "for i in range(n):\n",
        "  g=f.readline()\n",
        "  sum=sum+int(g)\n",
        "print(f\"Sum is {sum}\")\n",
        "f.close()\n",
        "f=open(\"/content/drive/MyDrive/Python Files/series.txt\",\"a\")\n",
        "f.write(f\"\\nSum of All the Numbers from the File is {sum}\")\n",
        "f.close()"
      ],
      "metadata": {
        "colab": {
          "base_uri": "https://localhost:8080/"
        },
        "id": "04LFMcJ3MPKl",
        "outputId": "abdda4f3-abd3-4223-e15a-258db0bfd090"
      },
      "execution_count": null,
      "outputs": [
        {
          "output_type": "stream",
          "name": "stdout",
          "text": [
            "Enter the Value of N: 10\n",
            "Sum is 55\n"
          ]
        }
      ]
    },
    {
      "cell_type": "code",
      "source": [
        "#create a file having a series of numbers and compute sum of even numbers in a\n",
        "#series and update the file with even sum and average of it\n",
        "f=open(\"/content/drive/MyDrive/Python Files/evenSeries.txt\",\"w\")\n",
        "n=int(input(\"Enter the Value of N: \"))\n",
        "for i in range(1,n+1):\n",
        "  f.write(f\"{i}\")\n",
        "  f.write(\"\\n\")\n",
        "f.close()\n",
        "f=open(\"/content/drive/MyDrive/Python Files/evenSeries.txt\",\"r\")\n",
        "sum=0\n",
        "cnt=0\n",
        "for i in range(n):\n",
        "  g=f.readline()\n",
        "  h=int(g)\n",
        "  if(h%2==0):\n",
        "    sum=sum+h\n",
        "    cnt+=1\n",
        "print(f\"Sum of even numbers is {sum}\")\n",
        "avg=sum/cnt\n",
        "print(f\"Avg is {avg}\")\n",
        "f.close()\n",
        "f=open(\"/content/drive/MyDrive/Python Files/evenSeries.txt\",\"a\")\n",
        "f.write(f\"\\nSum of All the Even Numbers from the File is {sum}\")\n",
        "f.write(f\"\\nAvg of Sum is {avg}\")\n",
        "f.close()"
      ],
      "metadata": {
        "colab": {
          "base_uri": "https://localhost:8080/"
        },
        "id": "uqqVfp2pMgyE",
        "outputId": "727adcdb-5681-4e75-e33d-3fdecd31adc4"
      },
      "execution_count": null,
      "outputs": [
        {
          "output_type": "stream",
          "name": "stdout",
          "text": [
            "Enter the Value of N: 10\n",
            "Sum of 5 even numbers is 30\n",
            "Avg is 6.0\n"
          ]
        }
      ]
    },
    {
      "cell_type": "code",
      "source": [
        "#create a file with minimum of 10 strings and find the number of characters,\n",
        "#vowels and consonants in a string and update the file for the same and display\n",
        "#the content on the output window\n",
        "f=open(\"/content/drive/MyDrive/Python Files/Strings.txt\",\"w\")\n",
        "for i in range(10):\n",
        "  print(\"Enter 10 strings: \")\n",
        "  s=input()\n",
        "  f.write(s)\n",
        "f.close()\n"
      ],
      "metadata": {
        "id": "n9iEPCC_My0F"
      },
      "execution_count": null,
      "outputs": []
    },
    {
      "cell_type": "code",
      "source": [
        "#create a file with multiline string (min 10 and above lines),and count the\n",
        "#number of words, no of vowels, no of consonants, no of words with even length,\n",
        "#no of words with odd length, number of spaces and update the result in a\n",
        "#new file and display the same\n"
      ],
      "metadata": {
        "id": "wea5JUXkdSww"
      },
      "execution_count": null,
      "outputs": []
    },
    {
      "cell_type": "markdown",
      "source": [
        "#file methods:\n",
        "- read()\n",
        "- write()\n",
        "- seek()\n",
        "- open()\n",
        "- close()"
      ],
      "metadata": {
        "id": "WMvFxcTnNbq8"
      }
    },
    {
      "cell_type": "markdown",
      "source": [
        "#MATPLOTLIB"
      ],
      "metadata": {
        "id": "QeNqRX8FhQtD"
      }
    },
    {
      "cell_type": "code",
      "source": [
        "import matplotlib.pyplot as plt\n",
        "x=[\"Apple\",\"Banana\",\"Orange\"]\n",
        "y=[15,16,10]\n",
        "plt.plot(x,y)\n",
        "plt.show()"
      ],
      "metadata": {
        "id": "xwb8s5fbNaRl",
        "colab": {
          "base_uri": "https://localhost:8080/",
          "height": 430
        },
        "outputId": "a6ec2f4f-8e94-46ad-f343-25604e105349"
      },
      "execution_count": null,
      "outputs": [
        {
          "output_type": "display_data",
          "data": {
            "text/plain": [
              "<Figure size 640x480 with 1 Axes>"
            ],
            "image/png": "[encoded data removed]"
          },
          "metadata": {}
        }
      ]
    },
    {
      "cell_type": "code",
      "source": [
        "import pandas as pd\n",
        "\n",
        "df = pd.read_csv('sample2_casestudy.csv')\n",
        "\n",
        "course_counts = df['course'].value_counts()\n",
        "print(\"Number of students attending each course:\")\n",
        "print(course_counts)\n",
        "\n",
        "vizag_students = df[df['city'] == 'Vizag']\n",
        "print(\"\\nDetails of students from Vizag:\")\n",
        "print(vizag_students)\n",
        "\n",
        "students = df[df['city'] == 'Bengaluru']\n",
        "python_course = bengaluru_students[bengaluru_students['course'] == 'python']\n",
        "if len(bengaluru_students) == len(python_course):\n",
        "    print(\"\\nAll Bengaluru campus students have opted for the Python course.\")\n",
        "else:\n",
        "    print(\"\\nNot all Bengaluru campus students have opted for the Python course.\")\n",
        "\n",
        "roll_number_24 = df[df['roll_number'] == 24]\n",
        "if len(roll_number_24) > 0 and roll_number_24['course'].iloc[0] == 'python':\n",
        "    print(\"\\nRoll number 24 has opted for the Python course.\")\n",
        "else:\n",
        "    print(\"\\nRoll number 24 has not opted for the Python course.\")"
      ],
      "metadata": {
        "colab": {
          "base_uri": "https://localhost:8080/",
          "height": 356
        },
        "id": "gR03VZizBGrI",
        "outputId": "d44a09af-a380-4587-ff56-81410ef13517"
      },
      "execution_count": null,
      "outputs": [
        {
          "output_type": "error",
          "ename": "FileNotFoundError",
          "evalue": "[Errno 2] No such file or directory: 'sample2_casestudy.csv'",
          "traceback": [
            "\u001b[0;31m---------------------------------------------------------------------------\u001b[0m",
            "\u001b[0;31mFileNotFoundError\u001b[0m                         Traceback (most recent call last)",
            "\u001b[0;32m<ipython-input-1-5c62b4087974>\u001b[0m in \u001b[0;36m<cell line: 3>\u001b[0;34m()\u001b[0m\n\u001b[1;32m      1\u001b[0m \u001b[0;32mimport\u001b[0m \u001b[0mpandas\u001b[0m \u001b[0;32mas\u001b[0m \u001b[0mpd\u001b[0m\u001b[0;34m\u001b[0m\u001b[0;34m\u001b[0m\u001b[0m\n\u001b[1;32m      2\u001b[0m \u001b[0;34m\u001b[0m\u001b[0m\n\u001b[0;32m----> 3\u001b[0;31m \u001b[0mdf\u001b[0m \u001b[0;34m=\u001b[0m \u001b[0mpd\u001b[0m\u001b[0;34m.\u001b[0m\u001b[0mread_csv\u001b[0m\u001b[0;34m(\u001b[0m\u001b[0;34m'sample2_casestudy.csv'\u001b[0m\u001b[0;34m)\u001b[0m\u001b[0;34m\u001b[0m\u001b[0;34m\u001b[0m\u001b[0m\n\u001b[0m\u001b[1;32m      4\u001b[0m \u001b[0;34m\u001b[0m\u001b[0m\n\u001b[1;32m      5\u001b[0m \u001b[0mcourse_counts\u001b[0m \u001b[0;34m=\u001b[0m \u001b[0mdf\u001b[0m\u001b[0;34m[\u001b[0m\u001b[0;34m'course'\u001b[0m\u001b[0;34m]\u001b[0m\u001b[0;34m.\u001b[0m\u001b[0mvalue_counts\u001b[0m\u001b[0;34m(\u001b[0m\u001b[0;34m)\u001b[0m\u001b[0;34m\u001b[0m\u001b[0;34m\u001b[0m\u001b[0m\n",
            "\u001b[0;32m/usr/local/lib/python3.10/dist-packages/pandas/io/parsers/readers.py\u001b[0m in \u001b[0;36mread_csv\u001b[0;34m(filepath_or_buffer, sep, delimiter, header, names, index_col, usecols, dtype, engine, converters, true_values, false_values, skipinitialspace, skiprows, skipfooter, nrows, na_values, keep_default_na, na_filter, verbose, skip_blank_lines, parse_dates, infer_datetime_format, keep_date_col, date_parser, date_format, dayfirst, cache_dates, iterator, chunksize, compression, thousands, decimal, lineterminator, quotechar, quoting, doublequote, escapechar, comment, encoding, encoding_errors, dialect, on_bad_lines, delim_whitespace, low_memory, memory_map, float_precision, storage_options, dtype_backend)\u001b[0m\n\u001b[1;32m    910\u001b[0m     \u001b[0mkwds\u001b[0m\u001b[0;34m.\u001b[0m\u001b[0mupdate\u001b[0m\u001b[0;34m(\u001b[0m\u001b[0mkwds_defaults\u001b[0m\u001b[0;34m)\u001b[0m\u001b[0;34m\u001b[0m\u001b[0;34m\u001b[0m\u001b[0m\n\u001b[1;32m    911\u001b[0m \u001b[0;34m\u001b[0m\u001b[0m\n\u001b[0;32m--> 912\u001b[0;31m     \u001b[0;32mreturn\u001b[0m \u001b[0m_read\u001b[0m\u001b[0;34m(\u001b[0m\u001b[0mfilepath_or_buffer\u001b[0m\u001b[0;34m,\u001b[0m \u001b[0mkwds\u001b[0m\u001b[0;34m)\u001b[0m\u001b[0;34m\u001b[0m\u001b[0;34m\u001b[0m\u001b[0m\n\u001b[0m\u001b[1;32m    913\u001b[0m \u001b[0;34m\u001b[0m\u001b[0m\n\u001b[1;32m    914\u001b[0m \u001b[0;34m\u001b[0m\u001b[0m\n",
            "\u001b[0;32m/usr/local/lib/python3.10/dist-packages/pandas/io/parsers/readers.py\u001b[0m in \u001b[0;36m_read\u001b[0;34m(filepath_or_buffer, kwds)\u001b[0m\n\u001b[1;32m    575\u001b[0m \u001b[0;34m\u001b[0m\u001b[0m\n\u001b[1;32m    576\u001b[0m     \u001b[0;31m# Create the parser.\u001b[0m\u001b[0;34m\u001b[0m\u001b[0;34m\u001b[0m\u001b[0m\n\u001b[0;32m--> 577\u001b[0;31m     \u001b[0mparser\u001b[0m \u001b[0;34m=\u001b[0m \u001b[0mTextFileReader\u001b[0m\u001b[0;34m(\u001b[0m\u001b[0mfilepath_or_buffer\u001b[0m\u001b[0;34m,\u001b[0m \u001b[0;34m**\u001b[0m\u001b[0mkwds\u001b[0m\u001b[0;34m)\u001b[0m\u001b[0;34m\u001b[0m\u001b[0;34m\u001b[0m\u001b[0m\n\u001b[0m\u001b[1;32m    578\u001b[0m \u001b[0;34m\u001b[0m\u001b[0m\n\u001b[1;32m    579\u001b[0m     \u001b[0;32mif\u001b[0m \u001b[0mchunksize\u001b[0m \u001b[0;32mor\u001b[0m \u001b[0miterator\u001b[0m\u001b[0;34m:\u001b[0m\u001b[0;34m\u001b[0m\u001b[0;34m\u001b[0m\u001b[0m\n",
            "\u001b[0;32m/usr/local/lib/python3.10/dist-packages/pandas/io/parsers/readers.py\u001b[0m in \u001b[0;36m__init__\u001b[0;34m(self, f, engine, **kwds)\u001b[0m\n\u001b[1;32m   1405\u001b[0m \u001b[0;34m\u001b[0m\u001b[0m\n\u001b[1;32m   1406\u001b[0m         \u001b[0mself\u001b[0m\u001b[0;34m.\u001b[0m\u001b[0mhandles\u001b[0m\u001b[0;34m:\u001b[0m \u001b[0mIOHandles\u001b[0m \u001b[0;34m|\u001b[0m \u001b[0;32mNone\u001b[0m \u001b[0;34m=\u001b[0m \u001b[0;32mNone\u001b[0m\u001b[0;34m\u001b[0m\u001b[0;34m\u001b[0m\u001b[0m\n\u001b[0;32m-> 1407\u001b[0;31m         \u001b[0mself\u001b[0m\u001b[0;34m.\u001b[0m\u001b[0m_engine\u001b[0m \u001b[0;34m=\u001b[0m \u001b[0mself\u001b[0m\u001b[0;34m.\u001b[0m\u001b[0m_make_engine\u001b[0m\u001b[0;34m(\u001b[0m\u001b[0mf\u001b[0m\u001b[0;34m,\u001b[0m \u001b[0mself\u001b[0m\u001b[0;34m.\u001b[0m\u001b[0mengine\u001b[0m\u001b[0;34m)\u001b[0m\u001b[0;34m\u001b[0m\u001b[0;34m\u001b[0m\u001b[0m\n\u001b[0m\u001b[1;32m   1408\u001b[0m \u001b[0;34m\u001b[0m\u001b[0m\n\u001b[1;32m   1409\u001b[0m     \u001b[0;32mdef\u001b[0m \u001b[0mclose\u001b[0m\u001b[0;34m(\u001b[0m\u001b[0mself\u001b[0m\u001b[0;34m)\u001b[0m \u001b[0;34m->\u001b[0m \u001b[0;32mNone\u001b[0m\u001b[0;34m:\u001b[0m\u001b[0;34m\u001b[0m\u001b[0;34m\u001b[0m\u001b[0m\n",
            "\u001b[0;32m/usr/local/lib/python3.10/dist-packages/pandas/io/parsers/readers.py\u001b[0m in \u001b[0;36m_make_engine\u001b[0;34m(self, f, engine)\u001b[0m\n\u001b[1;32m   1659\u001b[0m                 \u001b[0;32mif\u001b[0m \u001b[0;34m\"b\"\u001b[0m \u001b[0;32mnot\u001b[0m \u001b[0;32min\u001b[0m \u001b[0mmode\u001b[0m\u001b[0;34m:\u001b[0m\u001b[0;34m\u001b[0m\u001b[0;34m\u001b[0m\u001b[0m\n\u001b[1;32m   1660\u001b[0m                     \u001b[0mmode\u001b[0m \u001b[0;34m+=\u001b[0m \u001b[0;34m\"b\"\u001b[0m\u001b[0;34m\u001b[0m\u001b[0;34m\u001b[0m\u001b[0m\n\u001b[0;32m-> 1661\u001b[0;31m             self.handles = get_handle(\n\u001b[0m\u001b[1;32m   1662\u001b[0m                 \u001b[0mf\u001b[0m\u001b[0;34m,\u001b[0m\u001b[0;34m\u001b[0m\u001b[0;34m\u001b[0m\u001b[0m\n\u001b[1;32m   1663\u001b[0m                 \u001b[0mmode\u001b[0m\u001b[0;34m,\u001b[0m\u001b[0;34m\u001b[0m\u001b[0;34m\u001b[0m\u001b[0m\n",
            "\u001b[0;32m/usr/local/lib/python3.10/dist-packages/pandas/io/common.py\u001b[0m in \u001b[0;36mget_handle\u001b[0;34m(path_or_buf, mode, encoding, compression, memory_map, is_text, errors, storage_options)\u001b[0m\n\u001b[1;32m    857\u001b[0m         \u001b[0;32mif\u001b[0m \u001b[0mioargs\u001b[0m\u001b[0;34m.\u001b[0m\u001b[0mencoding\u001b[0m \u001b[0;32mand\u001b[0m \u001b[0;34m\"b\"\u001b[0m \u001b[0;32mnot\u001b[0m \u001b[0;32min\u001b[0m \u001b[0mioargs\u001b[0m\u001b[0;34m.\u001b[0m\u001b[0mmode\u001b[0m\u001b[0;34m:\u001b[0m\u001b[0;34m\u001b[0m\u001b[0;34m\u001b[0m\u001b[0m\n\u001b[1;32m    858\u001b[0m             \u001b[0;31m# Encoding\u001b[0m\u001b[0;34m\u001b[0m\u001b[0;34m\u001b[0m\u001b[0m\n\u001b[0;32m--> 859\u001b[0;31m             handle = open(\n\u001b[0m\u001b[1;32m    860\u001b[0m                 \u001b[0mhandle\u001b[0m\u001b[0;34m,\u001b[0m\u001b[0;34m\u001b[0m\u001b[0;34m\u001b[0m\u001b[0m\n\u001b[1;32m    861\u001b[0m                 \u001b[0mioargs\u001b[0m\u001b[0;34m.\u001b[0m\u001b[0mmode\u001b[0m\u001b[0;34m,\u001b[0m\u001b[0;34m\u001b[0m\u001b[0;34m\u001b[0m\u001b[0m\n",
            "\u001b[0;31mFileNotFoundError\u001b[0m: [Errno 2] No such file or directory: 'sample2_casestudy.csv'"
          ]
        }
      ]
    },
    {
      "cell_type": "code",
      "source": [
        "def solve(s):\n",
        "    for i in range(len(s) - 1):\n",
        "        if s[i] == s[i + 1]:\n",
        "            return s[:i + 1] + 'x' + s[i + 1:]\n",
        "    if(s!='z'):\n",
        "      return s + 'z'\n",
        "    else:\n",
        "      return s + 'x'\n",
        "t = int(input())\n",
        "for _ in range(t):\n",
        "  s = input()\n",
        "  print(solve(s))"
      ],
      "metadata": {
        "colab": {
          "base_uri": "https://localhost:8080/"
        },
        "id": "0CjPHaTBNwIq",
        "outputId": "556d62b1-eaee-4ebe-ccdc-45eef7d15cdf"
      },
      "execution_count": null,
      "outputs": [
        {
          "output_type": "stream",
          "name": "stdout",
          "text": [
            "1\n",
            "z\n",
            "zx\n"
          ]
        }
      ]
    }
  ]
}