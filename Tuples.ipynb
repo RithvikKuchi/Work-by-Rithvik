{
  "nbformat": 4,
  "nbformat_minor": 0,
  "metadata": {
    "colab": {
      "provenance": [],
      "include_colab_link": true
    },
    "kernelspec": {
      "name": "python3",
      "display_name": "Python 3"
    },
    "language_info": {
      "name": "python"
    }
  },
  "cells": [
    {
      "cell_type": "markdown",
      "metadata": {
        "id": "view-in-github",
        "colab_type": "text"
      },
      "source": [
        "<a href=\"https://colab.research.google.com/github/RithvikKuchi/Work-by-Rithvik/blob/main/Tuples.ipynb\" target=\"_parent\"><img src=\"https://colab.research.google.com/assets/colab-badge.svg\" alt=\"Open In Colab\"/></a>"
      ]
    },
    {
      "cell_type": "code",
      "execution_count": null,
      "metadata": {
        "colab": {
          "base_uri": "https://localhost:8080/"
        },
        "id": "3LBZ6TbILjYj",
        "outputId": "0bf7ba4e-fed4-4d7a-f3ef-8ca2a9b7df0b"
      },
      "outputs": [
        {
          "output_type": "stream",
          "name": "stdout",
          "text": [
            "(1, 4, 2, 5, 7)\n"
          ]
        }
      ],
      "source": [
        "# Create a Tuple \" Compile Time\" -() or tuple() as a constructor\n",
        "t=(1,4,2,5,7)\n",
        "print(t) # Tuple Display\n"
      ]
    },
    {
      "cell_type": "code",
      "source": [
        "# Tuple Supports indexing : Ordered Type\n",
        "t1=(10,67,32,59)\n",
        "print(t1)\n",
        "print(t1[1])"
      ],
      "metadata": {
        "colab": {
          "base_uri": "https://localhost:8080/"
        },
        "id": "7YUMzBZVNz9K",
        "outputId": "bc55d69e-57b2-412c-eb9b-fa3a3f66d2bc"
      },
      "execution_count": null,
      "outputs": [
        {
          "output_type": "stream",
          "name": "stdout",
          "text": [
            "(10, 67, 32, 59)\n",
            "67\n"
          ]
        }
      ]
    },
    {
      "cell_type": "code",
      "source": [
        "# Tuples are IMMUTABLE IN NATURE\n",
        "t2=(1,2,3)\n",
        "t2[1]=20\n",
        "print(t2)"
      ],
      "metadata": {
        "colab": {
          "base_uri": "https://localhost:8080/",
          "height": 193
        },
        "id": "6oV3iuM2OAao",
        "outputId": "308cbc04-1cf6-4615-eed6-e5259e270710"
      },
      "execution_count": 2,
      "outputs": [
        {
          "output_type": "error",
          "ename": "TypeError",
          "evalue": "'tuple' object does not support item assignment",
          "traceback": [
            "\u001b[0;31m---------------------------------------------------------------------------\u001b[0m",
            "\u001b[0;31mTypeError\u001b[0m                                 Traceback (most recent call last)",
            "\u001b[0;32m/tmp/ipython-input-2-2180509963.py\u001b[0m in \u001b[0;36m<cell line: 0>\u001b[0;34m()\u001b[0m\n\u001b[1;32m      1\u001b[0m \u001b[0;31m# Tuples are IMMUTABLE IN NATURE\u001b[0m\u001b[0;34m\u001b[0m\u001b[0;34m\u001b[0m\u001b[0m\n\u001b[1;32m      2\u001b[0m \u001b[0mt2\u001b[0m\u001b[0;34m=\u001b[0m\u001b[0;34m(\u001b[0m\u001b[0;36m1\u001b[0m\u001b[0;34m,\u001b[0m\u001b[0;36m2\u001b[0m\u001b[0;34m,\u001b[0m\u001b[0;36m3\u001b[0m\u001b[0;34m)\u001b[0m\u001b[0;34m\u001b[0m\u001b[0;34m\u001b[0m\u001b[0m\n\u001b[0;32m----> 3\u001b[0;31m \u001b[0mt2\u001b[0m\u001b[0;34m[\u001b[0m\u001b[0;36m1\u001b[0m\u001b[0;34m]\u001b[0m\u001b[0;34m=\u001b[0m\u001b[0;36m20\u001b[0m\u001b[0;34m\u001b[0m\u001b[0;34m\u001b[0m\u001b[0m\n\u001b[0m\u001b[1;32m      4\u001b[0m \u001b[0mprint\u001b[0m\u001b[0;34m(\u001b[0m\u001b[0mt2\u001b[0m\u001b[0;34m)\u001b[0m\u001b[0;34m\u001b[0m\u001b[0;34m\u001b[0m\u001b[0m\n",
            "\u001b[0;31mTypeError\u001b[0m: 'tuple' object does not support item assignment"
          ]
        }
      ]
    },
    {
      "cell_type": "code",
      "source": [
        "# Tuples creation and display\n",
        "tp=(20,3.4,\"Hello\",3+6j)\n",
        "print(tp)\n",
        "# for loop with INDEX\n",
        "for i in range(0,len(tp)):\n",
        "  print(tp[i])\n",
        "print(\"__________________\")\n",
        "# for each\n",
        "for ele in tp:\n",
        "  print(ele)"
      ],
      "metadata": {
        "colab": {
          "base_uri": "https://localhost:8080/"
        },
        "id": "IbooAwXxOPmW",
        "outputId": "17ab9954-f81e-45ca-f5da-d3d11e53579f"
      },
      "execution_count": 3,
      "outputs": [
        {
          "output_type": "stream",
          "name": "stdout",
          "text": [
            "(20, 3.4, 'Hello', (3+6j))\n",
            "20\n",
            "3.4\n",
            "Hello\n",
            "(3+6j)\n",
            "__________________\n",
            "20\n",
            "3.4\n",
            "Hello\n",
            "(3+6j)\n"
          ]
        }
      ]
    },
    {
      "cell_type": "code",
      "source": [
        "# Reading tuple elements at run time.\n",
        "# Use List and then type cast to tuple.\n",
        "n=int(input(\"Enter the number of elements for the tuple\"))\n",
        "l=[]\n",
        "for i in range(0,n):\n",
        "  l.append(eval(input()))\n",
        "t=tuple(l)\n",
        "print(t)"
      ],
      "metadata": {
        "colab": {
          "base_uri": "https://localhost:8080/"
        },
        "id": "OwGU6LyUOxyo",
        "outputId": "4afb44b9-28a6-40e9-9bf6-e9b8e631bb77"
      },
      "execution_count": 4,
      "outputs": [
        {
          "output_type": "stream",
          "name": "stdout",
          "text": [
            "Enter the number of elements for the tuple4\n",
            "5\n",
            "5\n",
            "8\n",
            "9\n",
            "(5, 5, 8, 9)\n"
          ]
        }
      ]
    },
    {
      "cell_type": "code",
      "source": [
        "# Reading tuple elements at run time.\n",
        "# Without using List.\n",
        "size=int(input(\"Enter the number of elements for the tuple\"))\n",
        "t=()\n",
        "for i in range(0,size):\n",
        "  ele=eval(input())\n",
        "  t=t+(ele,)\n",
        "print(t)\n"
      ],
      "metadata": {
        "colab": {
          "base_uri": "https://localhost:8080/"
        },
        "id": "6uzNDjyWPRd6",
        "outputId": "2fad912e-0b57-4833-86b8-1049f34686b9"
      },
      "execution_count": null,
      "outputs": [
        {
          "output_type": "stream",
          "name": "stdout",
          "text": [
            "Enter the number of elements for the tuple3\n",
            "10\n",
            "20\n",
            "30\n",
            "(10, 20, 30)\n"
          ]
        }
      ]
    },
    {
      "cell_type": "code",
      "source": [
        "t1=(1,2,3)\n",
        "t2=(4,)\n",
        "t1=t1+t2\n",
        "print(t1)"
      ],
      "metadata": {
        "colab": {
          "base_uri": "https://localhost:8080/"
        },
        "id": "7j-ExF1xPy8v",
        "outputId": "7c741dab-82de-4f48-8267-3553fe7e3d3a"
      },
      "execution_count": null,
      "outputs": [
        {
          "output_type": "stream",
          "name": "stdout",
          "text": [
            "(1, 2, 3, 4)\n"
          ]
        }
      ]
    },
    {
      "cell_type": "code",
      "source": [
        "# Tuple Methods -count(), index()\n",
        "te=(10,20,30,10,10,20)\n",
        "print(te.count(10))\n",
        "print(te.index(30))"
      ],
      "metadata": {
        "colab": {
          "base_uri": "https://localhost:8080/"
        },
        "id": "s2GwjCiaP7jH",
        "outputId": "06f8ecdd-82eb-440f-89d9-8a3994c27371"
      },
      "execution_count": null,
      "outputs": [
        {
          "output_type": "stream",
          "name": "stdout",
          "text": [
            "3\n",
            "2\n"
          ]
        }
      ]
    },
    {
      "cell_type": "code",
      "source": [
        "# Create the Tuple with Even Integers till N.\n",
        "n=int(input(\"Enter the N Value\"))\n",
        "t=()\n",
        "for i in range(0,n+1):\n",
        "  if(i%2==0):\n",
        "    t=t+(i,)\n",
        "print(t)"
      ],
      "metadata": {
        "colab": {
          "base_uri": "https://localhost:8080/"
        },
        "id": "fHANaVm6RPWy",
        "outputId": "c76ab53f-033e-467c-abfa-f470c244d785"
      },
      "execution_count": null,
      "outputs": [
        {
          "output_type": "stream",
          "name": "stdout",
          "text": [
            "Enter the N Value10\n",
            "(0, 2, 4, 6, 8, 10)\n"
          ]
        }
      ]
    },
    {
      "cell_type": "code",
      "source": [
        "# Create a tuple of factors for the input number.\n",
        "num=int(input(\"Enter the value of num\"))\n",
        "tu=()\n",
        "for i in range(1,num+1):\n",
        "  if(num%i==0):\n",
        "    tu=tu+(i,)\n",
        "print(tu)"
      ],
      "metadata": {
        "colab": {
          "base_uri": "https://localhost:8080/"
        },
        "id": "00B0zxFRSfhs",
        "outputId": "1e2e54b8-1a17-4b71-8698-bb1edee4e1c7"
      },
      "execution_count": null,
      "outputs": [
        {
          "output_type": "stream",
          "name": "stdout",
          "text": [
            "Enter the value of num10\n",
            "(1, 2, 5, 10)\n"
          ]
        }
      ]
    },
    {
      "cell_type": "code",
      "source": [
        "l=(10,20,30,10,10,20,30)\n",
        "print(l)\n",
        "l.count(10)"
      ],
      "metadata": {
        "id": "GXFfeJFvTHT0",
        "colab": {
          "base_uri": "https://localhost:8080/"
        },
        "outputId": "a97c3a90-42e2-4e1d-d8dd-128e82c27982"
      },
      "execution_count": null,
      "outputs": [
        {
          "output_type": "stream",
          "name": "stdout",
          "text": [
            "(10, 20, 30, 10, 10, 20, 30)\n"
          ]
        },
        {
          "output_type": "execute_result",
          "data": {
            "text/plain": [
              "3"
            ]
          },
          "metadata": {},
          "execution_count": 2
        }
      ]
    },
    {
      "cell_type": "code",
      "source": [
        "l=(10,20,30,10,10,20)\n",
        "print(l)\n",
        "l.index(30)"
      ],
      "metadata": {
        "colab": {
          "base_uri": "https://localhost:8080/"
        },
        "id": "-bLPnK7F3PJW",
        "outputId": "65987e03-ae5f-4748-de11-a95889a07834"
      },
      "execution_count": null,
      "outputs": [
        {
          "output_type": "stream",
          "name": "stdout",
          "text": [
            "(10, 20, 30, 10, 10, 20)\n"
          ]
        },
        {
          "output_type": "execute_result",
          "data": {
            "text/plain": [
              "2"
            ]
          },
          "metadata": {},
          "execution_count": 3
        }
      ]
    },
    {
      "cell_type": "code",
      "source": [
        "#factors of no.#method 1\n",
        "n=int(input())\n",
        "l=tuple(i for i in range(1,n+1) if(n%i==0))\n",
        "print(l)"
      ],
      "metadata": {
        "colab": {
          "base_uri": "https://localhost:8080/"
        },
        "id": "EC5VZ7zg3Zjv",
        "outputId": "a96153be-1694-409a-b5b5-731c99c6e485"
      },
      "execution_count": null,
      "outputs": [
        {
          "output_type": "stream",
          "name": "stdout",
          "text": [
            "10\n",
            "(1, 2, 5, 10)\n"
          ]
        }
      ]
    },
    {
      "cell_type": "code",
      "source": [
        "#to create a factors for a input number #method 2\n",
        "n=int(input())\n",
        "t=()\n",
        "for i in range(1,n+1):\n",
        "  if(n%i==0):\n",
        "    t+=(i,)\n",
        "print(t)"
      ],
      "metadata": {
        "colab": {
          "base_uri": "https://localhost:8080/"
        },
        "id": "WLPJ-iEm5JG4",
        "outputId": "075f0f21-3f31-49ab-c092-b7812cf752f4"
      },
      "execution_count": null,
      "outputs": [
        {
          "output_type": "stream",
          "name": "stdout",
          "text": [
            "10\n",
            "(1, 2, 5, 10)\n"
          ]
        }
      ]
    },
    {
      "cell_type": "code",
      "source": [
        "# Sorted\n",
        "l=[2,6,1,0,-1]\n",
        "l1=sorted(l)\n",
        "print(l)\n",
        "print(l1)"
      ],
      "metadata": {
        "colab": {
          "base_uri": "https://localhost:8080/"
        },
        "id": "EdT-GRBz6565",
        "outputId": "214dcae5-54c6-42e7-9f58-4e767a70d36e"
      },
      "execution_count": null,
      "outputs": [
        {
          "output_type": "stream",
          "name": "stdout",
          "text": [
            "[2, 6, 1, 0, -1]\n",
            "[-1, 0, 1, 2, 6]\n"
          ]
        }
      ]
    },
    {
      "cell_type": "code",
      "source": [
        "#sorted list\n",
        "l=[2,6,-1,3,0]\n",
        "l1=sorted(l)\n",
        "print(l)\n",
        "print(l1)"
      ],
      "metadata": {
        "colab": {
          "base_uri": "https://localhost:8080/"
        },
        "id": "QnQsU04j8jtl",
        "outputId": "5c4509a2-b78e-4a25-d6ac-92183055a490"
      },
      "execution_count": null,
      "outputs": [
        {
          "output_type": "stream",
          "name": "stdout",
          "text": [
            "[2, 6, -1, 3, 0]\n",
            "[-1, 0, 2, 3, 6]\n"
          ]
        }
      ]
    },
    {
      "cell_type": "code",
      "source": [
        "# List Native Method sort() vs sorted()\n",
        "l=[2,6,1,0,-1]\n",
        "print(\"Input List:\",l)\n",
        "l.sort()\n",
        "print(\"Sorted List\",l)"
      ],
      "metadata": {
        "colab": {
          "base_uri": "https://localhost:8080/"
        },
        "id": "urBMSdE67D-V",
        "outputId": "16fbea82-e388-4faa-9dd8-8160c71da75f"
      },
      "execution_count": null,
      "outputs": [
        {
          "output_type": "stream",
          "name": "stdout",
          "text": [
            "Input List: [2, 6, 1, 0, -1]\n",
            "Sorted List [-1, 0, 1, 2, 6]\n"
          ]
        }
      ]
    }
  ]
}